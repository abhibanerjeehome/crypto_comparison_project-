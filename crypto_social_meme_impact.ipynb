{
 "cells": [
  {
   "cell_type": "code",
   "execution_count": 65,
   "id": "c4292aea-55d1-46e7-b780-07feb6e458e7",
   "metadata": {},
   "outputs": [],
   "source": [
    "import pandas as pd\n",
    "import requests\n",
    "import os\n",
    "from dotenv import load_dotenv\n",
    "import alpaca_trade_api as tradeapi\n",
    "import hvplot.pandas\n",
    "\n",
    "from requests import Request, Session\n",
    "from requests.exceptions import ConnectionError, Timeout, TooManyRedirects\n",
    "import json"
   ]
  },
  {
   "cell_type": "code",
   "execution_count": 2,
   "id": "f26d99b7-2a76-4b43-a44b-4e24a24db544",
   "metadata": {},
   "outputs": [],
   "source": [
    "top_5_mentions_crypto = requests.get('https://apewisdom.io/api/v1.0/filter/cryptocurrency').json()['results'][:5]"
   ]
  },
  {
   "cell_type": "code",
   "execution_count": 3,
   "id": "471af0c8-73f6-41bc-942c-4ddfa1d40edd",
   "metadata": {},
   "outputs": [
    {
     "data": {
      "text/plain": [
       "[{'rank': 1,\n",
       "  'ticker': 'BTC.X',\n",
       "  'name': 'Bitcoin',\n",
       "  'mentions': '630',\n",
       "  'upvotes': '1762',\n",
       "  'rank_24h_ago': '1',\n",
       "  'mentions_24h_ago': '921'},\n",
       " {'rank': 2,\n",
       "  'ticker': 'UST.X',\n",
       "  'name': 'TerraUSD',\n",
       "  'mentions': '360',\n",
       "  'upvotes': '4296',\n",
       "  'rank_24h_ago': '3',\n",
       "  'mentions_24h_ago': '369'},\n",
       " {'rank': 3,\n",
       "  'ticker': 'ETH.X',\n",
       "  'name': 'Ethereum',\n",
       "  'mentions': '337',\n",
       "  'upvotes': '1238',\n",
       "  'rank_24h_ago': '2',\n",
       "  'mentions_24h_ago': '511'},\n",
       " {'rank': 4,\n",
       "  'ticker': 'LUNA.X',\n",
       "  'name': 'Terra',\n",
       "  'mentions': '314',\n",
       "  'upvotes': '3917',\n",
       "  'rank_24h_ago': '4',\n",
       "  'mentions_24h_ago': '320'},\n",
       " {'rank': 5,\n",
       "  'ticker': 'USDT.X',\n",
       "  'name': 'Tether',\n",
       "  'mentions': '125',\n",
       "  'upvotes': '595',\n",
       "  'rank_24h_ago': '5',\n",
       "  'mentions_24h_ago': '246'}]"
      ]
     },
     "execution_count": 3,
     "metadata": {},
     "output_type": "execute_result"
    }
   ],
   "source": [
    "top_5_mentions_crypto"
   ]
  },
  {
   "cell_type": "code",
   "execution_count": 4,
   "id": "0ecf7325-4764-4d1b-b5d4-b330e5a374e9",
   "metadata": {},
   "outputs": [
    {
     "data": {
      "text/html": [
       "<div>\n",
       "<style scoped>\n",
       "    .dataframe tbody tr th:only-of-type {\n",
       "        vertical-align: middle;\n",
       "    }\n",
       "\n",
       "    .dataframe tbody tr th {\n",
       "        vertical-align: top;\n",
       "    }\n",
       "\n",
       "    .dataframe thead th {\n",
       "        text-align: right;\n",
       "    }\n",
       "</style>\n",
       "<table border=\"1\" class=\"dataframe\">\n",
       "  <thead>\n",
       "    <tr style=\"text-align: right;\">\n",
       "      <th></th>\n",
       "      <th>rank</th>\n",
       "      <th>ticker</th>\n",
       "      <th>name</th>\n",
       "      <th>mentions</th>\n",
       "      <th>upvotes</th>\n",
       "      <th>rank_24h_ago</th>\n",
       "      <th>mentions_24h_ago</th>\n",
       "    </tr>\n",
       "  </thead>\n",
       "  <tbody>\n",
       "    <tr>\n",
       "      <th>0</th>\n",
       "      <td>1</td>\n",
       "      <td>BTC.X</td>\n",
       "      <td>Bitcoin</td>\n",
       "      <td>630</td>\n",
       "      <td>1762</td>\n",
       "      <td>1</td>\n",
       "      <td>921</td>\n",
       "    </tr>\n",
       "    <tr>\n",
       "      <th>1</th>\n",
       "      <td>2</td>\n",
       "      <td>UST.X</td>\n",
       "      <td>TerraUSD</td>\n",
       "      <td>360</td>\n",
       "      <td>4296</td>\n",
       "      <td>3</td>\n",
       "      <td>369</td>\n",
       "    </tr>\n",
       "    <tr>\n",
       "      <th>2</th>\n",
       "      <td>3</td>\n",
       "      <td>ETH.X</td>\n",
       "      <td>Ethereum</td>\n",
       "      <td>337</td>\n",
       "      <td>1238</td>\n",
       "      <td>2</td>\n",
       "      <td>511</td>\n",
       "    </tr>\n",
       "    <tr>\n",
       "      <th>3</th>\n",
       "      <td>4</td>\n",
       "      <td>LUNA.X</td>\n",
       "      <td>Terra</td>\n",
       "      <td>314</td>\n",
       "      <td>3917</td>\n",
       "      <td>4</td>\n",
       "      <td>320</td>\n",
       "    </tr>\n",
       "    <tr>\n",
       "      <th>4</th>\n",
       "      <td>5</td>\n",
       "      <td>USDT.X</td>\n",
       "      <td>Tether</td>\n",
       "      <td>125</td>\n",
       "      <td>595</td>\n",
       "      <td>5</td>\n",
       "      <td>246</td>\n",
       "    </tr>\n",
       "  </tbody>\n",
       "</table>\n",
       "</div>"
      ],
      "text/plain": [
       "   rank  ticker      name mentions upvotes rank_24h_ago mentions_24h_ago\n",
       "0     1   BTC.X   Bitcoin      630    1762            1              921\n",
       "1     2   UST.X  TerraUSD      360    4296            3              369\n",
       "2     3   ETH.X  Ethereum      337    1238            2              511\n",
       "3     4  LUNA.X     Terra      314    3917            4              320\n",
       "4     5  USDT.X    Tether      125     595            5              246"
      ]
     },
     "execution_count": 4,
     "metadata": {},
     "output_type": "execute_result"
    }
   ],
   "source": [
    "top_5_mentions_crypto_df = pd.DataFrame.from_records(top_5_mentions_crypto)\n",
    "top_5_mentions_crypto_df"
   ]
  },
  {
   "cell_type": "code",
   "execution_count": 5,
   "id": "f055a0fb-2453-41ad-9b5e-a84368a68390",
   "metadata": {},
   "outputs": [
    {
     "data": {
      "text/plain": [
       "str"
      ]
     },
     "execution_count": 5,
     "metadata": {},
     "output_type": "execute_result"
    }
   ],
   "source": [
    "type(top_5_mentions_crypto_df['ticker'].iloc[0])"
   ]
  },
  {
   "cell_type": "code",
   "execution_count": 6,
   "id": "d5913b1d-c6fe-4f4f-b5be-e7693ce05258",
   "metadata": {},
   "outputs": [],
   "source": [
    "top_5_mentions_crypto_df['ticker'] = top_5_mentions_crypto_df['ticker'].str[:-2]\n"
   ]
  },
  {
   "cell_type": "code",
   "execution_count": 7,
   "id": "b47e497f-e035-4634-aca7-91b1292bac8a",
   "metadata": {},
   "outputs": [],
   "source": [
    "top_tickers = top_5_mentions_crypto_df.loc[:,'ticker']"
   ]
  },
  {
   "cell_type": "code",
   "execution_count": 8,
   "id": "a3be308e-8170-4b23-9227-a31d88c244a3",
   "metadata": {},
   "outputs": [],
   "source": [
    "# https://www.adamsmith.haus/python/answers/how-to-convert-a-column-in-a-pandas-dataframe-to-a-numpy-array-in-python#:~:text=Use%20pandas.,Use%20pandas.\n",
    "# create variable to call for values only ** was getting error message because, for some reason-although this error was not present in the social meme file, it was not allowing to put data in a list using a for loop."
   ]
  },
  {
   "cell_type": "code",
   "execution_count": 9,
   "id": "90e7f5f9-40a7-438a-9a9b-95985afd1d50",
   "metadata": {},
   "outputs": [
    {
     "data": {
      "text/plain": [
       "array(['BTC', 'UST', 'ETH', 'LUNA', 'USDT'], dtype=object)"
      ]
     },
     "execution_count": 9,
     "metadata": {},
     "output_type": "execute_result"
    }
   ],
   "source": [
    "top_tickers_crypto = top_tickers.values\n",
    "top_tickers_crypto"
   ]
  },
  {
   "cell_type": "code",
   "execution_count": 10,
   "id": "0590b9dd-4edb-4fcc-905d-046569c128c9",
   "metadata": {},
   "outputs": [
    {
     "data": {
      "text/html": [
       "<div>\n",
       "<style scoped>\n",
       "    .dataframe tbody tr th:only-of-type {\n",
       "        vertical-align: middle;\n",
       "    }\n",
       "\n",
       "    .dataframe tbody tr th {\n",
       "        vertical-align: top;\n",
       "    }\n",
       "\n",
       "    .dataframe thead th {\n",
       "        text-align: right;\n",
       "    }\n",
       "</style>\n",
       "<table border=\"1\" class=\"dataframe\">\n",
       "  <thead>\n",
       "    <tr style=\"text-align: right;\">\n",
       "      <th></th>\n",
       "      <th>rank</th>\n",
       "      <th>name</th>\n",
       "      <th>mentions</th>\n",
       "      <th>upvotes</th>\n",
       "      <th>rank_24h_ago</th>\n",
       "      <th>mentions_24h_ago</th>\n",
       "    </tr>\n",
       "    <tr>\n",
       "      <th>ticker</th>\n",
       "      <th></th>\n",
       "      <th></th>\n",
       "      <th></th>\n",
       "      <th></th>\n",
       "      <th></th>\n",
       "      <th></th>\n",
       "    </tr>\n",
       "  </thead>\n",
       "  <tbody>\n",
       "    <tr>\n",
       "      <th>BTC</th>\n",
       "      <td>1</td>\n",
       "      <td>Bitcoin</td>\n",
       "      <td>630</td>\n",
       "      <td>1762</td>\n",
       "      <td>1</td>\n",
       "      <td>921</td>\n",
       "    </tr>\n",
       "    <tr>\n",
       "      <th>UST</th>\n",
       "      <td>2</td>\n",
       "      <td>TerraUSD</td>\n",
       "      <td>360</td>\n",
       "      <td>4296</td>\n",
       "      <td>3</td>\n",
       "      <td>369</td>\n",
       "    </tr>\n",
       "    <tr>\n",
       "      <th>ETH</th>\n",
       "      <td>3</td>\n",
       "      <td>Ethereum</td>\n",
       "      <td>337</td>\n",
       "      <td>1238</td>\n",
       "      <td>2</td>\n",
       "      <td>511</td>\n",
       "    </tr>\n",
       "    <tr>\n",
       "      <th>LUNA</th>\n",
       "      <td>4</td>\n",
       "      <td>Terra</td>\n",
       "      <td>314</td>\n",
       "      <td>3917</td>\n",
       "      <td>4</td>\n",
       "      <td>320</td>\n",
       "    </tr>\n",
       "    <tr>\n",
       "      <th>USDT</th>\n",
       "      <td>5</td>\n",
       "      <td>Tether</td>\n",
       "      <td>125</td>\n",
       "      <td>595</td>\n",
       "      <td>5</td>\n",
       "      <td>246</td>\n",
       "    </tr>\n",
       "  </tbody>\n",
       "</table>\n",
       "</div>"
      ],
      "text/plain": [
       "        rank      name mentions upvotes rank_24h_ago mentions_24h_ago\n",
       "ticker                                                               \n",
       "BTC        1   Bitcoin      630    1762            1              921\n",
       "UST        2  TerraUSD      360    4296            3              369\n",
       "ETH        3  Ethereum      337    1238            2              511\n",
       "LUNA       4     Terra      314    3917            4              320\n",
       "USDT       5    Tether      125     595            5              246"
      ]
     },
     "execution_count": 10,
     "metadata": {},
     "output_type": "execute_result"
    }
   ],
   "source": [
    "top_5_mentions_crypto_df.set_index('ticker', inplace=True)\n",
    "top_5_mentions_crypto_df"
   ]
  },
  {
   "cell_type": "code",
   "execution_count": 11,
   "id": "62a116ad-b014-465c-93ae-859c6d3bf1fe",
   "metadata": {},
   "outputs": [
    {
     "data": {
      "text/html": [
       "<div>\n",
       "<style scoped>\n",
       "    .dataframe tbody tr th:only-of-type {\n",
       "        vertical-align: middle;\n",
       "    }\n",
       "\n",
       "    .dataframe tbody tr th {\n",
       "        vertical-align: top;\n",
       "    }\n",
       "\n",
       "    .dataframe thead th {\n",
       "        text-align: right;\n",
       "    }\n",
       "</style>\n",
       "<table border=\"1\" class=\"dataframe\">\n",
       "  <thead>\n",
       "    <tr style=\"text-align: right;\">\n",
       "      <th></th>\n",
       "      <th>rank</th>\n",
       "      <th>name</th>\n",
       "      <th>mentions</th>\n",
       "      <th>upvotes</th>\n",
       "      <th>rank_24h_ago</th>\n",
       "      <th>mentions_24h_ago</th>\n",
       "    </tr>\n",
       "    <tr>\n",
       "      <th>ticker</th>\n",
       "      <th></th>\n",
       "      <th></th>\n",
       "      <th></th>\n",
       "      <th></th>\n",
       "      <th></th>\n",
       "      <th></th>\n",
       "    </tr>\n",
       "  </thead>\n",
       "  <tbody>\n",
       "    <tr>\n",
       "      <th>BTC</th>\n",
       "      <td>1</td>\n",
       "      <td>Bitcoin</td>\n",
       "      <td>630</td>\n",
       "      <td>1762</td>\n",
       "      <td>1</td>\n",
       "      <td>921</td>\n",
       "    </tr>\n",
       "    <tr>\n",
       "      <th>UST</th>\n",
       "      <td>2</td>\n",
       "      <td>TerraUSD</td>\n",
       "      <td>360</td>\n",
       "      <td>4296</td>\n",
       "      <td>3</td>\n",
       "      <td>369</td>\n",
       "    </tr>\n",
       "    <tr>\n",
       "      <th>ETH</th>\n",
       "      <td>3</td>\n",
       "      <td>Ethereum</td>\n",
       "      <td>337</td>\n",
       "      <td>1238</td>\n",
       "      <td>2</td>\n",
       "      <td>511</td>\n",
       "    </tr>\n",
       "    <tr>\n",
       "      <th>LUNA</th>\n",
       "      <td>4</td>\n",
       "      <td>Terra</td>\n",
       "      <td>314</td>\n",
       "      <td>3917</td>\n",
       "      <td>4</td>\n",
       "      <td>320</td>\n",
       "    </tr>\n",
       "    <tr>\n",
       "      <th>USDT</th>\n",
       "      <td>5</td>\n",
       "      <td>Tether</td>\n",
       "      <td>125</td>\n",
       "      <td>595</td>\n",
       "      <td>5</td>\n",
       "      <td>246</td>\n",
       "    </tr>\n",
       "  </tbody>\n",
       "</table>\n",
       "</div>"
      ],
      "text/plain": [
       "        rank      name mentions upvotes rank_24h_ago mentions_24h_ago\n",
       "ticker                                                               \n",
       "BTC        1   Bitcoin      630    1762            1              921\n",
       "UST        2  TerraUSD      360    4296            3              369\n",
       "ETH        3  Ethereum      337    1238            2              511\n",
       "LUNA       4     Terra      314    3917            4              320\n",
       "USDT       5    Tether      125     595            5              246"
      ]
     },
     "execution_count": 11,
     "metadata": {},
     "output_type": "execute_result"
    }
   ],
   "source": [
    "top_5_mentions_crypto_df = pd.DataFrame.from_dict(top_5_mentions_crypto_df, orient='columns')\n",
    "top_5_mentions_crypto_df"
   ]
  },
  {
   "cell_type": "code",
   "execution_count": 12,
   "id": "440c4849-a8f9-4f8e-8378-bb97dcd2d401",
   "metadata": {},
   "outputs": [
    {
     "data": {
      "text/html": [
       "<div>\n",
       "<style scoped>\n",
       "    .dataframe tbody tr th:only-of-type {\n",
       "        vertical-align: middle;\n",
       "    }\n",
       "\n",
       "    .dataframe tbody tr th {\n",
       "        vertical-align: top;\n",
       "    }\n",
       "\n",
       "    .dataframe thead th {\n",
       "        text-align: right;\n",
       "    }\n",
       "</style>\n",
       "<table border=\"1\" class=\"dataframe\">\n",
       "  <thead>\n",
       "    <tr style=\"text-align: right;\">\n",
       "      <th></th>\n",
       "      <th>mentions</th>\n",
       "    </tr>\n",
       "    <tr>\n",
       "      <th>ticker</th>\n",
       "      <th></th>\n",
       "    </tr>\n",
       "  </thead>\n",
       "  <tbody>\n",
       "    <tr>\n",
       "      <th>BTC</th>\n",
       "      <td>630</td>\n",
       "    </tr>\n",
       "    <tr>\n",
       "      <th>UST</th>\n",
       "      <td>360</td>\n",
       "    </tr>\n",
       "    <tr>\n",
       "      <th>ETH</th>\n",
       "      <td>337</td>\n",
       "    </tr>\n",
       "    <tr>\n",
       "      <th>LUNA</th>\n",
       "      <td>314</td>\n",
       "    </tr>\n",
       "    <tr>\n",
       "      <th>USDT</th>\n",
       "      <td>125</td>\n",
       "    </tr>\n",
       "  </tbody>\n",
       "</table>\n",
       "</div>"
      ],
      "text/plain": [
       "       mentions\n",
       "ticker         \n",
       "BTC         630\n",
       "UST         360\n",
       "ETH         337\n",
       "LUNA        314\n",
       "USDT        125"
      ]
     },
     "execution_count": 12,
     "metadata": {},
     "output_type": "execute_result"
    }
   ],
   "source": [
    "top_5_mentions_crypto_df.drop(columns=['rank','name','upvotes','rank_24h_ago','mentions_24h_ago'],inplace=True)                              \n",
    "top_5_mentions_crypto_df"
   ]
  },
  {
   "cell_type": "code",
   "execution_count": 13,
   "id": "b9257ae2-b796-4980-a34e-fbde01a0e1f7",
   "metadata": {},
   "outputs": [
    {
     "data": {
      "text/plain": [
       "str"
      ]
     },
     "execution_count": 13,
     "metadata": {},
     "output_type": "execute_result"
    }
   ],
   "source": [
    "type(top_5_mentions_crypto_df['mentions'].iloc[0])"
   ]
  },
  {
   "cell_type": "code",
   "execution_count": 14,
   "id": "5d246fb8-6a33-45a3-b3c1-7bb5f9be4a73",
   "metadata": {},
   "outputs": [],
   "source": [
    "top_5_mentions_crypto_df = pd.to_numeric(top_5_mentions_crypto_df['mentions'], errors='coerce') #ya!!"
   ]
  },
  {
   "cell_type": "code",
   "execution_count": 28,
   "id": "196022d7-8277-4bb6-ae6e-c2da2518583f",
   "metadata": {},
   "outputs": [
    {
     "data": {
      "text/plain": [
       "'BTC'"
      ]
     },
     "execution_count": 28,
     "metadata": {},
     "output_type": "execute_result"
    }
   ],
   "source": [
    "top_5_mentions_crypto_df.index[0]"
   ]
  },
  {
   "cell_type": "code",
   "execution_count": 15,
   "id": "4e43cc15-c222-4a2e-8c24-fa6cba6f17cb",
   "metadata": {},
   "outputs": [
    {
     "data": {},
     "metadata": {},
     "output_type": "display_data"
    },
    {
     "data": {
      "application/vnd.holoviews_exec.v0+json": "",
      "text/html": [
       "<div id='1002'>\n",
       "\n",
       "\n",
       "\n",
       "\n",
       "\n",
       "  <div class=\"bk-root\" id=\"5e598f6e-669f-4fb8-8fc6-25ca230f2b40\" data-root-id=\"1002\"></div>\n",
       "</div>\n",
       "<script type=\"application/javascript\">(function(root) {\n",
       "  function embed_document(root) {\n",
       "    var docs_json = {\"093c3d17-927e-4f0b-b09b-e96016706134\":{\"defs\":[{\"extends\":null,\"module\":null,\"name\":\"ReactiveHTML1\",\"overrides\":[],\"properties\":[]},{\"extends\":null,\"module\":null,\"name\":\"FlexBox1\",\"overrides\":[],\"properties\":[{\"default\":\"flex-start\",\"kind\":null,\"name\":\"align_content\"},{\"default\":\"flex-start\",\"kind\":null,\"name\":\"align_items\"},{\"default\":\"row\",\"kind\":null,\"name\":\"flex_direction\"},{\"default\":\"wrap\",\"kind\":null,\"name\":\"flex_wrap\"},{\"default\":\"flex-start\",\"kind\":null,\"name\":\"justify_content\"}]},{\"extends\":null,\"module\":null,\"name\":\"GridStack1\",\"overrides\":[],\"properties\":[{\"default\":\"warn\",\"kind\":null,\"name\":\"mode\"},{\"default\":null,\"kind\":null,\"name\":\"ncols\"},{\"default\":null,\"kind\":null,\"name\":\"nrows\"},{\"default\":true,\"kind\":null,\"name\":\"allow_resize\"},{\"default\":true,\"kind\":null,\"name\":\"allow_drag\"},{\"default\":[],\"kind\":null,\"name\":\"state\"}]},{\"extends\":null,\"module\":null,\"name\":\"click1\",\"overrides\":[],\"properties\":[{\"default\":\"\",\"kind\":null,\"name\":\"terminal_output\"},{\"default\":\"\",\"kind\":null,\"name\":\"debug_name\"},{\"default\":0,\"kind\":null,\"name\":\"clears\"}]},{\"extends\":null,\"module\":null,\"name\":\"TemplateActions1\",\"overrides\":[],\"properties\":[{\"default\":0,\"kind\":null,\"name\":\"open_modal\"},{\"default\":0,\"kind\":null,\"name\":\"close_modal\"}]},{\"extends\":null,\"module\":null,\"name\":\"MaterialTemplateActions1\",\"overrides\":[],\"properties\":[{\"default\":0,\"kind\":null,\"name\":\"open_modal\"},{\"default\":0,\"kind\":null,\"name\":\"close_modal\"}]}],\"roots\":{\"references\":[{\"attributes\":{},\"id\":\"1020\",\"type\":\"BasicTicker\"},{\"attributes\":{},\"id\":\"1017\",\"type\":\"CategoricalTicker\"},{\"attributes\":{},\"id\":\"1046\",\"type\":\"CategoricalTickFormatter\"},{\"attributes\":{\"axis_label\":\"\",\"coordinates\":null,\"formatter\":{\"id\":\"1049\"},\"group\":null,\"major_label_policy\":{\"id\":\"1050\"},\"ticker\":{\"id\":\"1020\"}},\"id\":\"1019\",\"type\":\"LinearAxis\"},{\"attributes\":{},\"id\":\"1049\",\"type\":\"BasicTickFormatter\"},{\"attributes\":{},\"id\":\"1037\",\"type\":\"Selection\"},{\"attributes\":{\"axis\":{\"id\":\"1019\"},\"coordinates\":null,\"dimension\":1,\"grid_line_color\":null,\"group\":null,\"ticker\":null},\"id\":\"1022\",\"type\":\"Grid\"},{\"attributes\":{\"fill_alpha\":{\"value\":0.2},\"fill_color\":{\"value\":\"#30a2da\"},\"hatch_alpha\":{\"value\":0.2},\"hatch_color\":{\"value\":\"#30a2da\"},\"line_alpha\":{\"value\":0.2},\"top\":{\"field\":\"mentions\"},\"width\":{\"value\":0.8},\"x\":{\"field\":\"ticker\"}},\"id\":\"1041\",\"type\":\"VBar\"},{\"attributes\":{\"callback\":null,\"renderers\":[{\"id\":\"1042\"}],\"tags\":[\"hv_created\"],\"tooltips\":[[\"ticker\",\"@{ticker}\"],[\"mentions\",\"@{mentions}\"]]},\"id\":\"1006\",\"type\":\"HoverTool\"},{\"attributes\":{\"end\":680.5,\"reset_end\":680.5,\"reset_start\":0.0,\"tags\":[[[\"mentions\",\"mentions\",null]]]},\"id\":\"1005\",\"type\":\"Range1d\"},{\"attributes\":{\"coordinates\":null,\"data_source\":{\"id\":\"1036\"},\"glyph\":{\"id\":\"1039\"},\"group\":null,\"hover_glyph\":null,\"muted_glyph\":{\"id\":\"1041\"},\"nonselection_glyph\":{\"id\":\"1040\"},\"selection_glyph\":{\"id\":\"1044\"},\"view\":{\"id\":\"1043\"}},\"id\":\"1042\",\"type\":\"GlyphRenderer\"},{\"attributes\":{\"margin\":[5,5,5,5],\"name\":\"HSpacer01631\",\"sizing_mode\":\"stretch_width\"},\"id\":\"1071\",\"type\":\"Spacer\"},{\"attributes\":{\"fill_alpha\":{\"value\":0.1},\"fill_color\":{\"value\":\"#30a2da\"},\"hatch_alpha\":{\"value\":0.1},\"hatch_color\":{\"value\":\"#30a2da\"},\"line_alpha\":{\"value\":0.1},\"top\":{\"field\":\"mentions\"},\"width\":{\"value\":0.8},\"x\":{\"field\":\"ticker\"}},\"id\":\"1040\",\"type\":\"VBar\"},{\"attributes\":{\"factors\":[\"BTC\",\"UST\",\"ETH\",\"LUNA\",\"USDT\"],\"tags\":[[[\"ticker\",\"ticker\",null]]]},\"id\":\"1004\",\"type\":\"FactorRange\"},{\"attributes\":{},\"id\":\"1050\",\"type\":\"AllLabels\"},{\"attributes\":{\"source\":{\"id\":\"1036\"}},\"id\":\"1043\",\"type\":\"CDSView\"},{\"attributes\":{},\"id\":\"1023\",\"type\":\"SaveTool\"},{\"attributes\":{\"axis\":{\"id\":\"1016\"},\"coordinates\":null,\"grid_line_color\":null,\"group\":null,\"ticker\":null},\"id\":\"1018\",\"type\":\"Grid\"},{\"attributes\":{},\"id\":\"1024\",\"type\":\"PanTool\"},{\"attributes\":{\"margin\":[5,5,5,5],\"name\":\"HSpacer01630\",\"sizing_mode\":\"stretch_width\"},\"id\":\"1003\",\"type\":\"Spacer\"},{\"attributes\":{\"fill_color\":{\"value\":\"#30a2da\"},\"hatch_color\":{\"value\":\"#30a2da\"},\"top\":{\"field\":\"mentions\"},\"width\":{\"value\":0.8},\"x\":{\"field\":\"ticker\"}},\"id\":\"1039\",\"type\":\"VBar\"},{\"attributes\":{},\"id\":\"1027\",\"type\":\"ResetTool\"},{\"attributes\":{\"below\":[{\"id\":\"1016\"}],\"center\":[{\"id\":\"1018\"},{\"id\":\"1022\"}],\"height\":300,\"left\":[{\"id\":\"1019\"}],\"margin\":[5,5,5,5],\"min_border_bottom\":10,\"min_border_left\":10,\"min_border_right\":10,\"min_border_top\":10,\"renderers\":[{\"id\":\"1042\"}],\"sizing_mode\":\"fixed\",\"title\":{\"id\":\"1008\"},\"toolbar\":{\"id\":\"1029\"},\"width\":700,\"x_range\":{\"id\":\"1004\"},\"x_scale\":{\"id\":\"1012\"},\"y_range\":{\"id\":\"1005\"},\"y_scale\":{\"id\":\"1014\"}},\"id\":\"1007\",\"subtype\":\"Figure\",\"type\":\"Plot\"},{\"attributes\":{},\"id\":\"1025\",\"type\":\"WheelZoomTool\"},{\"attributes\":{},\"id\":\"1058\",\"type\":\"UnionRenderers\"},{\"attributes\":{\"bottom\":{\"value\":0},\"fill_alpha\":{\"value\":1.0},\"fill_color\":{\"value\":\"#30a2da\"},\"hatch_alpha\":{\"value\":1.0},\"hatch_color\":{\"value\":\"#30a2da\"},\"hatch_scale\":{\"value\":12.0},\"hatch_weight\":{\"value\":1.0},\"line_alpha\":{\"value\":1.0},\"line_cap\":{\"value\":\"butt\"},\"line_color\":{\"value\":\"black\"},\"line_dash\":{\"value\":[]},\"line_dash_offset\":{\"value\":0},\"line_join\":{\"value\":\"bevel\"},\"line_width\":{\"value\":1},\"top\":{\"field\":\"mentions\"},\"width\":{\"value\":0.8},\"x\":{\"field\":\"ticker\"}},\"id\":\"1044\",\"type\":\"VBar\"},{\"attributes\":{\"overlay\":{\"id\":\"1028\"}},\"id\":\"1026\",\"type\":\"BoxZoomTool\"},{\"attributes\":{\"children\":[{\"id\":\"1003\"},{\"id\":\"1007\"},{\"id\":\"1071\"}],\"margin\":[0,0,0,0],\"name\":\"Row01626\",\"tags\":[\"embedded\"]},\"id\":\"1002\",\"type\":\"Row\"},{\"attributes\":{},\"id\":\"1047\",\"type\":\"AllLabels\"},{\"attributes\":{\"axis_label\":\"ticker\",\"coordinates\":null,\"formatter\":{\"id\":\"1046\"},\"group\":null,\"major_label_policy\":{\"id\":\"1047\"},\"ticker\":{\"id\":\"1017\"}},\"id\":\"1016\",\"type\":\"CategoricalAxis\"},{\"attributes\":{},\"id\":\"1012\",\"type\":\"CategoricalScale\"},{\"attributes\":{\"coordinates\":null,\"group\":null,\"text\":\"Mentions in last 24 hours for top 5 cryptocurrencies\",\"text_color\":\"black\",\"text_font_size\":\"12pt\"},\"id\":\"1008\",\"type\":\"Title\"},{\"attributes\":{\"data\":{\"mentions\":[630,360,337,314,125],\"ticker\":[\"BTC\",\"UST\",\"ETH\",\"LUNA\",\"USDT\"]},\"selected\":{\"id\":\"1037\"},\"selection_policy\":{\"id\":\"1058\"}},\"id\":\"1036\",\"type\":\"ColumnDataSource\"},{\"attributes\":{\"bottom_units\":\"screen\",\"coordinates\":null,\"fill_alpha\":0.5,\"fill_color\":\"lightgrey\",\"group\":null,\"left_units\":\"screen\",\"level\":\"overlay\",\"line_alpha\":1.0,\"line_color\":\"black\",\"line_dash\":[4,4],\"line_width\":2,\"right_units\":\"screen\",\"syncable\":false,\"top_units\":\"screen\"},\"id\":\"1028\",\"type\":\"BoxAnnotation\"},{\"attributes\":{\"tools\":[{\"id\":\"1006\"},{\"id\":\"1023\"},{\"id\":\"1024\"},{\"id\":\"1025\"},{\"id\":\"1026\"},{\"id\":\"1027\"}]},\"id\":\"1029\",\"type\":\"Toolbar\"},{\"attributes\":{},\"id\":\"1014\",\"type\":\"LinearScale\"}],\"root_ids\":[\"1002\"]},\"title\":\"Bokeh Application\",\"version\":\"2.4.1\"}};\n",
       "    var render_items = [{\"docid\":\"093c3d17-927e-4f0b-b09b-e96016706134\",\"root_ids\":[\"1002\"],\"roots\":{\"1002\":\"5e598f6e-669f-4fb8-8fc6-25ca230f2b40\"}}];\n",
       "    root.Bokeh.embed.embed_items_notebook(docs_json, render_items);\n",
       "  }\n",
       "  if (root.Bokeh !== undefined && root.Bokeh.Panel !== undefined) {\n",
       "    embed_document(root);\n",
       "  } else {\n",
       "    var attempts = 0;\n",
       "    var timer = setInterval(function(root) {\n",
       "      if (root.Bokeh !== undefined && root.Bokeh.Panel !== undefined) {\n",
       "        clearInterval(timer);\n",
       "        embed_document(root);\n",
       "      } else if (document.readyState == \"complete\") {\n",
       "        attempts++;\n",
       "        if (attempts > 200) {\n",
       "          clearInterval(timer);\n",
       "          console.log(\"Bokeh: ERROR: Unable to run BokehJS code because BokehJS library is missing\");\n",
       "        }\n",
       "      }\n",
       "    }, 25, root)\n",
       "  }\n",
       "})(window);</script>"
      ],
      "text/plain": [
       ":Bars   [ticker]   (mentions)"
      ]
     },
     "execution_count": 15,
     "metadata": {
      "application/vnd.holoviews_exec.v0+json": {
       "id": "1002"
      }
     },
     "output_type": "execute_result"
    }
   ],
   "source": [
    "top_5_mentions_crypto_df.hvplot(kind=\"bar\", title='Mentions in last 24 hours for top 5 cryptocurrencies')"
   ]
  },
  {
   "cell_type": "code",
   "execution_count": 78,
   "id": "c2b954c7-1f98-4839-b113-e9f338a20c32",
   "metadata": {},
   "outputs": [
    {
     "data": {
      "text/plain": [
       "' BTC-USD UST-USD ETH-USD LUNA-USD USDT-USD'"
      ]
     },
     "execution_count": 78,
     "metadata": {},
     "output_type": "execute_result"
    }
   ],
   "source": [
    "top_crypto_tickers = []\n",
    "\n",
    "for crypto in top_5_mentions_crypto_df.index:\n",
    "    top_crypto_tickers.append(crypto+'-USD')\n",
    "top_crypto_tickers\n",
    "\n",
    "tickers_for_yf = ''\n",
    "for crypto in top_crypto_tickers:\n",
    "    tickers_for_yf = tickers_for_yf + f' {crypto}'\n",
    "tickers_for_yf"
   ]
  },
  {
   "cell_type": "code",
   "execution_count": 17,
   "id": "ffe96ce6-fd1d-4615-a503-103a122a9888",
   "metadata": {},
   "outputs": [
    {
     "data": {
      "text/plain": [
       "True"
      ]
     },
     "execution_count": 17,
     "metadata": {},
     "output_type": "execute_result"
    }
   ],
   "source": [
    "load_dotenv('crypto.env')"
   ]
  },
  {
   "cell_type": "code",
   "execution_count": 18,
   "id": "08eaad5a-ac79-42e5-a6e3-5aa846d3df11",
   "metadata": {},
   "outputs": [
    {
     "data": {
      "text/plain": [
       "str"
      ]
     },
     "execution_count": 18,
     "metadata": {},
     "output_type": "execute_result"
    }
   ],
   "source": [
    "alpaca_api_key = os.getenv('ALPACA_API_KEY')\n",
    "alpaca_secret_key = os.getenv('ALPACA_SECRET_KEY')\n",
    "type(alpaca_api_key)"
   ]
  },
  {
   "cell_type": "code",
   "execution_count": null,
   "id": "3933e5f4-2f87-4b63-9783-fd23f6acfc78",
   "metadata": {},
   "outputs": [],
   "source": [
    "# https://alpaca.markets/docs/broker/integration/crypto-trading-broker/ # alpaca information about tickers and exchanges"
   ]
  },
  {
   "cell_type": "code",
   "execution_count": null,
   "id": "0b61c8c8-5385-427c-a1d4-442293c6cfb1",
   "metadata": {},
   "outputs": [],
   "source": [
    "# https://github.com/alpacahq/alpaca-trade-api-python/blob/master/alpaca_trade_api/rest.py #INFORMATION ABOUT HOE GET_CRYPTO_BARS WORKS ... AND OTHERS..."
   ]
  },
  {
   "cell_type": "code",
   "execution_count": null,
   "id": "c06c146f-f910-44d5-8882-be1fe95b5246",
   "metadata": {},
   "outputs": [],
   "source": [
    "url = 'https://sandbox-api.coinmarketcap.com/v1/cryptocurrency/listings/latest'\n",
    "parameters = {\n",
    "  'start':'1',\n",
    "  'limit':'5000',\n",
    "  'convert':'USD'\n",
    "}\n",
    "headers = {\n",
    "  'Accepts': 'application/json',\n",
    "  'X-CMC_PRO_API_KEY': 'b54bcf4d-1bca-4e8e-9a24-22ff2c3d462c',\n",
    "}"
   ]
  },
  {
   "cell_type": "code",
   "execution_count": 59,
   "id": "0e774e41-a4c4-46cb-b44a-04aa6784d3e1",
   "metadata": {},
   "outputs": [
    {
     "data": {
      "text/html": [
       "<div>\n",
       "<style scoped>\n",
       "    .dataframe tbody tr th:only-of-type {\n",
       "        vertical-align: middle;\n",
       "    }\n",
       "\n",
       "    .dataframe tbody tr th {\n",
       "        vertical-align: top;\n",
       "    }\n",
       "\n",
       "    .dataframe thead th {\n",
       "        text-align: right;\n",
       "    }\n",
       "</style>\n",
       "<table border=\"1\" class=\"dataframe\">\n",
       "  <thead>\n",
       "    <tr style=\"text-align: right;\">\n",
       "      <th></th>\n",
       "      <th>BTC</th>\n",
       "      <th>LUNA</th>\n",
       "      <th>ETH</th>\n",
       "      <th>UST</th>\n",
       "      <th>ADA</th>\n",
       "    </tr>\n",
       "    <tr>\n",
       "      <th>timestamp</th>\n",
       "      <th></th>\n",
       "      <th></th>\n",
       "      <th></th>\n",
       "      <th></th>\n",
       "      <th></th>\n",
       "    </tr>\n",
       "  </thead>\n",
       "  <tbody>\n",
       "    <tr>\n",
       "      <th>2022-05-14 04:00:00+00:00</th>\n",
       "      <td>29494.98</td>\n",
       "      <td>NaN</td>\n",
       "      <td>2044.91</td>\n",
       "      <td>NaN</td>\n",
       "      <td>NaN</td>\n",
       "    </tr>\n",
       "    <tr>\n",
       "      <th>2022-05-14 04:15:00+00:00</th>\n",
       "      <td>29448.83</td>\n",
       "      <td>NaN</td>\n",
       "      <td>2040.03</td>\n",
       "      <td>NaN</td>\n",
       "      <td>NaN</td>\n",
       "    </tr>\n",
       "    <tr>\n",
       "      <th>2022-05-14 04:30:00+00:00</th>\n",
       "      <td>29307.01</td>\n",
       "      <td>NaN</td>\n",
       "      <td>2025.98</td>\n",
       "      <td>NaN</td>\n",
       "      <td>NaN</td>\n",
       "    </tr>\n",
       "    <tr>\n",
       "      <th>2022-05-14 04:45:00+00:00</th>\n",
       "      <td>29294.90</td>\n",
       "      <td>NaN</td>\n",
       "      <td>2018.85</td>\n",
       "      <td>NaN</td>\n",
       "      <td>NaN</td>\n",
       "    </tr>\n",
       "    <tr>\n",
       "      <th>2022-05-14 05:00:00+00:00</th>\n",
       "      <td>29340.05</td>\n",
       "      <td>NaN</td>\n",
       "      <td>2025.63</td>\n",
       "      <td>NaN</td>\n",
       "      <td>NaN</td>\n",
       "    </tr>\n",
       "  </tbody>\n",
       "</table>\n",
       "</div>"
      ],
      "text/plain": [
       "                                BTC  LUNA      ETH  UST  ADA\n",
       "timestamp                                                   \n",
       "2022-05-14 04:00:00+00:00  29494.98   NaN  2044.91  NaN  NaN\n",
       "2022-05-14 04:15:00+00:00  29448.83   NaN  2040.03  NaN  NaN\n",
       "2022-05-14 04:30:00+00:00  29307.01   NaN  2025.98  NaN  NaN\n",
       "2022-05-14 04:45:00+00:00  29294.90   NaN  2018.85  NaN  NaN\n",
       "2022-05-14 05:00:00+00:00  29340.05   NaN  2025.63  NaN  NaN"
      ]
     },
     "execution_count": 59,
     "metadata": {},
     "output_type": "execute_result"
    }
   ],
   "source": [
    "alpaca = tradeapi.REST(alpaca_api_key, alpaca_secret_key, api_version = 'v2')\n",
    "\n",
    "start_date = pd.Timestamp('2022-05-14', tz='America/New_York').isoformat()\n",
    "# end_date = pd.Timestamp('2022-05-12', tz='America/New_York').isoformat() \n",
    "prices_df = alpaca.get_crypto_bars(top_crypto_tickers, timeframe = '15Min', start = start_date, exchanges = ['CBSE']).df\n",
    "\n",
    "BTC = prices_df[prices_df['symbol'] == 'BTCUSD'].drop('symbol', axis = 1)\n",
    "LUNA = prices_df[prices_df['symbol'] == 'LUNAUSD'].drop('symbol', axis = 1)\n",
    "ETH = prices_df[prices_df['symbol'] == 'ETHUSD'].drop('symbol', axis = 1)\n",
    "UST = prices_df[prices_df['symbol'] == 'USTUSD'].drop('symbol', axis = 1)\n",
    "USDT = prices_df[prices_df['symbol'] == 'USDTUSD'].drop('symbol', axis = 1)\n",
    "\n",
    "# BTC = prices_df[prices_df['symbol'] == 'BTC']\n",
    "# LUNA = prices_df[prices_df['symbol'] == 'LUNA']\n",
    "# ETH = prices_df[prices_df['symbol'] == 'ETH']\n",
    "# UST = prices_df[prices_df['symbol'] == 'UST']\n",
    "# USDT = prices_df[prices_df['symbol'] == 'USDT']\n",
    "\n",
    "\n",
    "prices_df = pd.concat([BTC['close'], LUNA['close'], ETH['close'], UST['close'], USDT['close']], axis = 1, keys = ['BTC', 'LUNA', 'ETH', 'UST', 'ADA'])\n",
    "prices_df.head()"
   ]
  },
  {
   "cell_type": "code",
   "execution_count": 6,
   "id": "b988caa1-64ae-4713-8ad1-7da2af7ecb2a",
   "metadata": {},
   "outputs": [
    {
     "ename": "NameError",
     "evalue": "name 'prices_df' is not defined",
     "output_type": "error",
     "traceback": [
      "\u001b[1;31m---------------------------------------------------------------------------\u001b[0m",
      "\u001b[1;31mNameError\u001b[0m                                 Traceback (most recent call last)",
      "\u001b[1;32m~\\AppData\\Local\\Temp/ipykernel_34636/4262668784.py\u001b[0m in \u001b[0;36m<module>\u001b[1;34m\u001b[0m\n\u001b[0;32m      1\u001b[0m \u001b[1;31m# prices_df_plot = (prices_df.pct_change()).hvplot()\u001b[0m\u001b[1;33m\u001b[0m\u001b[1;33m\u001b[0m\u001b[1;33m\u001b[0m\u001b[0m\n\u001b[1;32m----> 2\u001b[1;33m \u001b[0mprices_df_plot\u001b[0m \u001b[1;33m=\u001b[0m \u001b[1;33m(\u001b[0m\u001b[1;36m1\u001b[0m \u001b[1;33m+\u001b[0m \u001b[0mprices_df\u001b[0m\u001b[1;33m.\u001b[0m\u001b[0mpct_change\u001b[0m\u001b[1;33m(\u001b[0m\u001b[1;33m)\u001b[0m\u001b[1;33m)\u001b[0m\u001b[1;33m.\u001b[0m\u001b[0mcumprod\u001b[0m\u001b[1;33m(\u001b[0m\u001b[1;33m)\u001b[0m\u001b[1;33m.\u001b[0m\u001b[0mhvplot\u001b[0m\u001b[1;33m(\u001b[0m\u001b[1;33m)\u001b[0m\u001b[1;33m\u001b[0m\u001b[1;33m\u001b[0m\u001b[0m\n\u001b[0m\u001b[0;32m      3\u001b[0m \u001b[0mprices_df_plot\u001b[0m\u001b[1;33m\u001b[0m\u001b[1;33m\u001b[0m\u001b[0m\n",
      "\u001b[1;31mNameError\u001b[0m: name 'prices_df' is not defined"
     ]
    }
   ],
   "source": [
    "# prices_df_plot = (prices_df.pct_change()).hvplot()\n",
    "prices_df_plot = (1 + prices_df.pct_change()).cumprod().hvplot()\n",
    "prices_df_plot"
   ]
  },
  {
   "cell_type": "code",
   "execution_count": 7,
   "id": "cfe082cb-52ee-44ab-8d2e-ff00d097ff6d",
   "metadata": {},
   "outputs": [
    {
     "ename": "NameError",
     "evalue": "name 'top_5_mentions_crypto' is not defined",
     "output_type": "error",
     "traceback": [
      "\u001b[1;31m---------------------------------------------------------------------------\u001b[0m",
      "\u001b[1;31mNameError\u001b[0m                                 Traceback (most recent call last)",
      "\u001b[1;32m~\\AppData\\Local\\Temp/ipykernel_34636/1299746253.py\u001b[0m in \u001b[0;36m<module>\u001b[1;34m\u001b[0m\n\u001b[1;32m----> 1\u001b[1;33m \u001b[0mtop_5_crypto_prices\u001b[0m \u001b[1;33m=\u001b[0m \u001b[1;33m{\u001b[0m\u001b[1;34m'mentions'\u001b[0m\u001b[1;33m:\u001b[0m \u001b[0mint\u001b[0m\u001b[1;33m(\u001b[0m\u001b[0mtop_5_mentions_crypto\u001b[0m\u001b[1;33m[\u001b[0m\u001b[1;36m0\u001b[0m\u001b[1;33m]\u001b[0m\u001b[1;33m[\u001b[0m\u001b[1;34m'mentions'\u001b[0m\u001b[1;33m]\u001b[0m\u001b[1;33m)\u001b[0m\u001b[1;33m,\u001b[0m \u001b[1;34m'mentions_24h_ago'\u001b[0m\u001b[1;33m:\u001b[0m \u001b[0mint\u001b[0m\u001b[1;33m(\u001b[0m\u001b[0mtop_5_mentions_crypto\u001b[0m\u001b[1;33m[\u001b[0m\u001b[1;36m0\u001b[0m\u001b[1;33m]\u001b[0m\u001b[1;33m[\u001b[0m\u001b[1;34m'mentions_24h_ago'\u001b[0m\u001b[1;33m]\u001b[0m\u001b[1;33m)\u001b[0m\u001b[1;33m}\u001b[0m\u001b[1;33m\u001b[0m\u001b[1;33m\u001b[0m\u001b[0m\n\u001b[0m\u001b[0;32m      2\u001b[0m \u001b[0mtop_5_crypto_prices\u001b[0m\u001b[1;33m\u001b[0m\u001b[1;33m\u001b[0m\u001b[0m\n",
      "\u001b[1;31mNameError\u001b[0m: name 'top_5_mentions_crypto' is not defined"
     ]
    }
   ],
   "source": [
    "top_5_crypto_prices = {'mentions': int(top_5_mentions_crypto[0]['mentions']), 'mentions_24h_ago': int(top_5_mentions_crypto[0]['mentions_24h_ago'])}\n",
    "top_5_crypto_prices"
   ]
  },
  {
   "cell_type": "code",
   "execution_count": 3,
   "id": "a3e24413-1baa-4737-97fb-6372b44c7f7d",
   "metadata": {},
   "outputs": [
    {
     "ename": "NameError",
     "evalue": "name 'top_5_mentions_crypto_df' is not defined",
     "output_type": "error",
     "traceback": [
      "\u001b[1;31m---------------------------------------------------------------------------\u001b[0m",
      "\u001b[1;31mNameError\u001b[0m                                 Traceback (most recent call last)",
      "\u001b[1;32m~\\AppData\\Local\\Temp/ipykernel_34636/186811190.py\u001b[0m in \u001b[0;36m<module>\u001b[1;34m\u001b[0m\n\u001b[1;32m----> 1\u001b[1;33m \u001b[0mmentions_top_5_crypto_plot\u001b[0m \u001b[1;33m=\u001b[0m \u001b[0mtop_5_mentions_crypto_df\u001b[0m\u001b[1;33m.\u001b[0m\u001b[0mhvplot\u001b[0m\u001b[1;33m(\u001b[0m\u001b[0mkind\u001b[0m\u001b[1;33m=\u001b[0m\u001b[1;34m'bar'\u001b[0m\u001b[1;33m)\u001b[0m\u001b[1;33m\u001b[0m\u001b[1;33m\u001b[0m\u001b[0m\n\u001b[0m\u001b[0;32m      2\u001b[0m \u001b[0mmentions_top_5_crypto_plot\u001b[0m\u001b[1;33m\u001b[0m\u001b[1;33m\u001b[0m\u001b[0m\n",
      "\u001b[1;31mNameError\u001b[0m: name 'top_5_mentions_crypto_df' is not defined"
     ]
    }
   ],
   "source": [
    "mentions_top_5_crypto_plot = top_5_mentions_crypto_df.hvplot(kind='bar')\n",
    "mentions_top_5_crypto_plot"
   ]
  },
  {
   "cell_type": "code",
   "execution_count": 4,
   "id": "3f702e7e-d066-4d5e-985e-86457f286aa2",
   "metadata": {},
   "outputs": [
    {
     "ename": "NameError",
     "evalue": "name 'prices_df_plot' is not defined",
     "output_type": "error",
     "traceback": [
      "\u001b[1;31m---------------------------------------------------------------------------\u001b[0m",
      "\u001b[1;31mNameError\u001b[0m                                 Traceback (most recent call last)",
      "\u001b[1;32m~\\AppData\\Local\\Temp/ipykernel_34636/4175876175.py\u001b[0m in \u001b[0;36m<module>\u001b[1;34m\u001b[0m\n\u001b[1;32m----> 1\u001b[1;33m \u001b[0moverlayplot\u001b[0m \u001b[1;33m=\u001b[0m \u001b[0mprices_df_plot\u001b[0m \u001b[1;33m+\u001b[0m \u001b[0mmentions_top_5_crypto_plot\u001b[0m\u001b[1;33m\u001b[0m\u001b[1;33m\u001b[0m\u001b[0m\n\u001b[0m",
      "\u001b[1;31mNameError\u001b[0m: name 'prices_df_plot' is not defined"
     ]
    }
   ],
   "source": [
    "overlayplot = prices_df_plot + mentions_top_5_crypto_plot\n"
   ]
  },
  {
   "cell_type": "code",
   "execution_count": 5,
   "id": "e34e584a-9b7b-4b8f-9876-5cf7f8efe5cc",
   "metadata": {},
   "outputs": [
    {
     "ename": "NameError",
     "evalue": "name 'overlayplot' is not defined",
     "output_type": "error",
     "traceback": [
      "\u001b[1;31m---------------------------------------------------------------------------\u001b[0m",
      "\u001b[1;31mNameError\u001b[0m                                 Traceback (most recent call last)",
      "\u001b[1;32m~\\AppData\\Local\\Temp/ipykernel_34636/2516773225.py\u001b[0m in \u001b[0;36m<module>\u001b[1;34m\u001b[0m\n\u001b[1;32m----> 1\u001b[1;33m \u001b[0moverlayplot\u001b[0m\u001b[1;33m\u001b[0m\u001b[1;33m\u001b[0m\u001b[0m\n\u001b[0m",
      "\u001b[1;31mNameError\u001b[0m: name 'overlayplot' is not defined"
     ]
    }
   ],
   "source": [
    "overlayplot"
   ]
  },
  {
   "cell_type": "code",
   "execution_count": 56,
   "id": "612759af-7388-4b09-8625-d300597cb33a",
   "metadata": {},
   "outputs": [
    {
     "data": {
      "text/html": [
       "<div>\n",
       "<style scoped>\n",
       "    .dataframe tbody tr th:only-of-type {\n",
       "        vertical-align: middle;\n",
       "    }\n",
       "\n",
       "    .dataframe tbody tr th {\n",
       "        vertical-align: top;\n",
       "    }\n",
       "\n",
       "    .dataframe thead th {\n",
       "        text-align: right;\n",
       "    }\n",
       "</style>\n",
       "<table border=\"1\" class=\"dataframe\">\n",
       "  <thead>\n",
       "    <tr style=\"text-align: right;\">\n",
       "      <th></th>\n",
       "    </tr>\n",
       "  </thead>\n",
       "  <tbody>\n",
       "  </tbody>\n",
       "</table>\n",
       "</div>"
      ],
      "text/plain": [
       "Empty DataFrame\n",
       "Columns: []\n",
       "Index: []"
      ]
     },
     "execution_count": 56,
     "metadata": {},
     "output_type": "execute_result"
    }
   ],
   "source": [
    "alpaca = tradeapi.REST(alpaca_api_key, alpaca_secret_key, api_version = 'v2')\n",
    "\n",
    "start_date = pd.Timestamp('2022-05-14', tz='America/New_York').isoformat()\n",
    "# end_date = pd.Timestamp('2022-05-12', tz='America/New_York').isoformat() \n",
    "prices_df = alpaca.get_crypto_bars('USTUSD', timeframe = '1Hour', start = start_date, exchanges = ['CBSE']).df\n",
    "prices_df"
   ]
  },
  {
   "cell_type": "code",
   "execution_count": 57,
   "id": "68fc6ad7-3916-46d4-a72c-5caefabb2b2c",
   "metadata": {},
   "outputs": [],
   "source": [
    "prices_df = alpaca.get_crypto_bars(top_crypto_tickers, timeframe = '15Min', start = start_date).df"
   ]
  },
  {
   "cell_type": "code",
   "execution_count": 58,
   "id": "84c9d544-d793-45f7-b61d-e5d0827565b2",
   "metadata": {},
   "outputs": [
    {
     "data": {
      "text/html": [
       "<div>\n",
       "<style scoped>\n",
       "    .dataframe tbody tr th:only-of-type {\n",
       "        vertical-align: middle;\n",
       "    }\n",
       "\n",
       "    .dataframe tbody tr th {\n",
       "        vertical-align: top;\n",
       "    }\n",
       "\n",
       "    .dataframe thead th {\n",
       "        text-align: right;\n",
       "    }\n",
       "</style>\n",
       "<table border=\"1\" class=\"dataframe\">\n",
       "  <thead>\n",
       "    <tr style=\"text-align: right;\">\n",
       "      <th></th>\n",
       "      <th>exchange</th>\n",
       "      <th>open</th>\n",
       "      <th>high</th>\n",
       "      <th>low</th>\n",
       "      <th>close</th>\n",
       "      <th>volume</th>\n",
       "      <th>trade_count</th>\n",
       "      <th>vwap</th>\n",
       "      <th>symbol</th>\n",
       "    </tr>\n",
       "    <tr>\n",
       "      <th>timestamp</th>\n",
       "      <th></th>\n",
       "      <th></th>\n",
       "      <th></th>\n",
       "      <th></th>\n",
       "      <th></th>\n",
       "      <th></th>\n",
       "      <th></th>\n",
       "      <th></th>\n",
       "      <th></th>\n",
       "    </tr>\n",
       "  </thead>\n",
       "  <tbody>\n",
       "    <tr>\n",
       "      <th>2022-05-14 04:00:00+00:00</th>\n",
       "      <td>CBSE</td>\n",
       "      <td>29513.4700</td>\n",
       "      <td>29527.3100</td>\n",
       "      <td>29437.8700</td>\n",
       "      <td>29494.9800</td>\n",
       "      <td>87.602716</td>\n",
       "      <td>4747</td>\n",
       "      <td>29469.955509</td>\n",
       "      <td>BTCUSD</td>\n",
       "    </tr>\n",
       "    <tr>\n",
       "      <th>2022-05-14 04:00:00+00:00</th>\n",
       "      <td>ERSX</td>\n",
       "      <td>29465.4000</td>\n",
       "      <td>29503.5000</td>\n",
       "      <td>29464.5000</td>\n",
       "      <td>29495.8000</td>\n",
       "      <td>0.200000</td>\n",
       "      <td>5</td>\n",
       "      <td>29470.343605</td>\n",
       "      <td>BTCUSD</td>\n",
       "    </tr>\n",
       "    <tr>\n",
       "      <th>2022-05-14 04:00:00+00:00</th>\n",
       "      <td>FTXU</td>\n",
       "      <td>29526.0000</td>\n",
       "      <td>29529.0000</td>\n",
       "      <td>29460.0000</td>\n",
       "      <td>29529.0000</td>\n",
       "      <td>1.015400</td>\n",
       "      <td>20</td>\n",
       "      <td>29484.355131</td>\n",
       "      <td>BTCUSD</td>\n",
       "    </tr>\n",
       "    <tr>\n",
       "      <th>2022-05-14 04:15:00+00:00</th>\n",
       "      <td>CBSE</td>\n",
       "      <td>29493.3900</td>\n",
       "      <td>29528.4000</td>\n",
       "      <td>29438.2500</td>\n",
       "      <td>29448.8300</td>\n",
       "      <td>88.485190</td>\n",
       "      <td>4691</td>\n",
       "      <td>29483.528444</td>\n",
       "      <td>BTCUSD</td>\n",
       "    </tr>\n",
       "    <tr>\n",
       "      <th>2022-05-14 04:15:00+00:00</th>\n",
       "      <td>ERSX</td>\n",
       "      <td>29518.1000</td>\n",
       "      <td>29520.9000</td>\n",
       "      <td>29482.5000</td>\n",
       "      <td>29490.8000</td>\n",
       "      <td>0.085700</td>\n",
       "      <td>11</td>\n",
       "      <td>29506.468145</td>\n",
       "      <td>BTCUSD</td>\n",
       "    </tr>\n",
       "    <tr>\n",
       "      <th>...</th>\n",
       "      <td>...</td>\n",
       "      <td>...</td>\n",
       "      <td>...</td>\n",
       "      <td>...</td>\n",
       "      <td>...</td>\n",
       "      <td>...</td>\n",
       "      <td>...</td>\n",
       "      <td>...</td>\n",
       "      <td>...</td>\n",
       "    </tr>\n",
       "    <tr>\n",
       "      <th>2022-05-17 15:00:00+00:00</th>\n",
       "      <td>FTXU</td>\n",
       "      <td>0.9989</td>\n",
       "      <td>0.9989</td>\n",
       "      <td>0.9989</td>\n",
       "      <td>0.9989</td>\n",
       "      <td>14972.580000</td>\n",
       "      <td>2</td>\n",
       "      <td>0.998900</td>\n",
       "      <td>USDTUSD</td>\n",
       "    </tr>\n",
       "    <tr>\n",
       "      <th>2022-05-17 15:30:00+00:00</th>\n",
       "      <td>FTXU</td>\n",
       "      <td>0.9988</td>\n",
       "      <td>0.9989</td>\n",
       "      <td>0.9988</td>\n",
       "      <td>0.9989</td>\n",
       "      <td>5.650000</td>\n",
       "      <td>2</td>\n",
       "      <td>0.998800</td>\n",
       "      <td>USDTUSD</td>\n",
       "    </tr>\n",
       "    <tr>\n",
       "      <th>2022-05-17 15:45:00+00:00</th>\n",
       "      <td>FTXU</td>\n",
       "      <td>0.9988</td>\n",
       "      <td>0.9989</td>\n",
       "      <td>0.9988</td>\n",
       "      <td>0.9989</td>\n",
       "      <td>3483.500000</td>\n",
       "      <td>10</td>\n",
       "      <td>0.998863</td>\n",
       "      <td>USDTUSD</td>\n",
       "    </tr>\n",
       "    <tr>\n",
       "      <th>2022-05-17 16:00:00+00:00</th>\n",
       "      <td>FTXU</td>\n",
       "      <td>0.9988</td>\n",
       "      <td>0.9989</td>\n",
       "      <td>0.9988</td>\n",
       "      <td>0.9989</td>\n",
       "      <td>839.040000</td>\n",
       "      <td>2</td>\n",
       "      <td>0.998800</td>\n",
       "      <td>USDTUSD</td>\n",
       "    </tr>\n",
       "    <tr>\n",
       "      <th>2022-05-17 16:15:00+00:00</th>\n",
       "      <td>FTXU</td>\n",
       "      <td>0.9989</td>\n",
       "      <td>0.9989</td>\n",
       "      <td>0.9988</td>\n",
       "      <td>0.9989</td>\n",
       "      <td>39191.540000</td>\n",
       "      <td>7</td>\n",
       "      <td>0.998900</td>\n",
       "      <td>USDTUSD</td>\n",
       "    </tr>\n",
       "  </tbody>\n",
       "</table>\n",
       "<p>2202 rows × 9 columns</p>\n",
       "</div>"
      ],
      "text/plain": [
       "                          exchange        open        high         low  \\\n",
       "timestamp                                                                \n",
       "2022-05-14 04:00:00+00:00     CBSE  29513.4700  29527.3100  29437.8700   \n",
       "2022-05-14 04:00:00+00:00     ERSX  29465.4000  29503.5000  29464.5000   \n",
       "2022-05-14 04:00:00+00:00     FTXU  29526.0000  29529.0000  29460.0000   \n",
       "2022-05-14 04:15:00+00:00     CBSE  29493.3900  29528.4000  29438.2500   \n",
       "2022-05-14 04:15:00+00:00     ERSX  29518.1000  29520.9000  29482.5000   \n",
       "...                            ...         ...         ...         ...   \n",
       "2022-05-17 15:00:00+00:00     FTXU      0.9989      0.9989      0.9989   \n",
       "2022-05-17 15:30:00+00:00     FTXU      0.9988      0.9989      0.9988   \n",
       "2022-05-17 15:45:00+00:00     FTXU      0.9988      0.9989      0.9988   \n",
       "2022-05-17 16:00:00+00:00     FTXU      0.9988      0.9989      0.9988   \n",
       "2022-05-17 16:15:00+00:00     FTXU      0.9989      0.9989      0.9988   \n",
       "\n",
       "                                close        volume  trade_count  \\\n",
       "timestamp                                                          \n",
       "2022-05-14 04:00:00+00:00  29494.9800     87.602716         4747   \n",
       "2022-05-14 04:00:00+00:00  29495.8000      0.200000            5   \n",
       "2022-05-14 04:00:00+00:00  29529.0000      1.015400           20   \n",
       "2022-05-14 04:15:00+00:00  29448.8300     88.485190         4691   \n",
       "2022-05-14 04:15:00+00:00  29490.8000      0.085700           11   \n",
       "...                               ...           ...          ...   \n",
       "2022-05-17 15:00:00+00:00      0.9989  14972.580000            2   \n",
       "2022-05-17 15:30:00+00:00      0.9989      5.650000            2   \n",
       "2022-05-17 15:45:00+00:00      0.9989   3483.500000           10   \n",
       "2022-05-17 16:00:00+00:00      0.9989    839.040000            2   \n",
       "2022-05-17 16:15:00+00:00      0.9989  39191.540000            7   \n",
       "\n",
       "                                   vwap   symbol  \n",
       "timestamp                                         \n",
       "2022-05-14 04:00:00+00:00  29469.955509   BTCUSD  \n",
       "2022-05-14 04:00:00+00:00  29470.343605   BTCUSD  \n",
       "2022-05-14 04:00:00+00:00  29484.355131   BTCUSD  \n",
       "2022-05-14 04:15:00+00:00  29483.528444   BTCUSD  \n",
       "2022-05-14 04:15:00+00:00  29506.468145   BTCUSD  \n",
       "...                                 ...      ...  \n",
       "2022-05-17 15:00:00+00:00      0.998900  USDTUSD  \n",
       "2022-05-17 15:30:00+00:00      0.998800  USDTUSD  \n",
       "2022-05-17 15:45:00+00:00      0.998863  USDTUSD  \n",
       "2022-05-17 16:00:00+00:00      0.998800  USDTUSD  \n",
       "2022-05-17 16:15:00+00:00      0.998900  USDTUSD  \n",
       "\n",
       "[2202 rows x 9 columns]"
      ]
     },
     "execution_count": 58,
     "metadata": {},
     "output_type": "execute_result"
    }
   ],
   "source": [
    "prices_df"
   ]
  },
  {
   "cell_type": "code",
   "execution_count": 74,
   "id": "74f87f77-59b9-4719-afc8-2f8d3bf38f19",
   "metadata": {
    "tags": []
   },
   "outputs": [],
   "source": [
    "import yfinance as yf\n",
    "msft = yf.Ticker('BTC-USD')\n"
   ]
  },
  {
   "cell_type": "code",
   "execution_count": 81,
   "id": "4861c329-cee0-4a5c-bc7a-e750ec1cfef1",
   "metadata": {},
   "outputs": [
    {
     "name": "stdout",
     "output_type": "stream",
     "text": [
      "[*********************100%***********************]  5 of 5 completed\n",
      "\n",
      "1 Failed download:\n",
      "- LUNA-USD: No data found for this date range, symbol may be delisted\n"
     ]
    },
    {
     "data": {
      "text/html": [
       "<div>\n",
       "<style scoped>\n",
       "    .dataframe tbody tr th:only-of-type {\n",
       "        vertical-align: middle;\n",
       "    }\n",
       "\n",
       "    .dataframe tbody tr th {\n",
       "        vertical-align: top;\n",
       "    }\n",
       "\n",
       "    .dataframe thead th {\n",
       "        text-align: right;\n",
       "    }\n",
       "</style>\n",
       "<table border=\"1\" class=\"dataframe\">\n",
       "  <thead>\n",
       "    <tr style=\"text-align: right;\">\n",
       "      <th></th>\n",
       "      <th>BTC-USD</th>\n",
       "      <th>ETH-USD</th>\n",
       "      <th>LUNA-USD</th>\n",
       "      <th>USDT-USD</th>\n",
       "      <th>UST-USD</th>\n",
       "    </tr>\n",
       "  </thead>\n",
       "  <tbody>\n",
       "    <tr>\n",
       "      <th>2022-05-16 06:00:00+00:00</th>\n",
       "      <td>29966.171875</td>\n",
       "      <td>2046.325684</td>\n",
       "      <td>NaN</td>\n",
       "      <td>0.998819</td>\n",
       "      <td>0.171980</td>\n",
       "    </tr>\n",
       "    <tr>\n",
       "      <th>2022-05-16 06:15:00+00:00</th>\n",
       "      <td>29541.869141</td>\n",
       "      <td>2020.854126</td>\n",
       "      <td>NaN</td>\n",
       "      <td>0.998782</td>\n",
       "      <td>0.169351</td>\n",
       "    </tr>\n",
       "    <tr>\n",
       "      <th>2022-05-16 06:30:00+00:00</th>\n",
       "      <td>29524.328125</td>\n",
       "      <td>2019.137573</td>\n",
       "      <td>NaN</td>\n",
       "      <td>0.998848</td>\n",
       "      <td>0.167053</td>\n",
       "    </tr>\n",
       "    <tr>\n",
       "      <th>2022-05-16 06:45:00+00:00</th>\n",
       "      <td>29522.140625</td>\n",
       "      <td>2011.563965</td>\n",
       "      <td>NaN</td>\n",
       "      <td>0.998973</td>\n",
       "      <td>0.166404</td>\n",
       "    </tr>\n",
       "    <tr>\n",
       "      <th>2022-05-16 07:00:00+00:00</th>\n",
       "      <td>29443.396484</td>\n",
       "      <td>2002.653076</td>\n",
       "      <td>NaN</td>\n",
       "      <td>0.998931</td>\n",
       "      <td>0.165256</td>\n",
       "    </tr>\n",
       "    <tr>\n",
       "      <th>...</th>\n",
       "      <td>...</td>\n",
       "      <td>...</td>\n",
       "      <td>...</td>\n",
       "      <td>...</td>\n",
       "      <td>...</td>\n",
       "    </tr>\n",
       "    <tr>\n",
       "      <th>2022-05-17 16:15:00+00:00</th>\n",
       "      <td>30012.810547</td>\n",
       "      <td>2046.253662</td>\n",
       "      <td>NaN</td>\n",
       "      <td>0.998781</td>\n",
       "      <td>0.116941</td>\n",
       "    </tr>\n",
       "    <tr>\n",
       "      <th>2022-05-17 16:30:00+00:00</th>\n",
       "      <td>30074.013672</td>\n",
       "      <td>2052.571045</td>\n",
       "      <td>NaN</td>\n",
       "      <td>0.998788</td>\n",
       "      <td>0.117274</td>\n",
       "    </tr>\n",
       "    <tr>\n",
       "      <th>2022-05-17 16:45:00+00:00</th>\n",
       "      <td>30156.507812</td>\n",
       "      <td>2058.908447</td>\n",
       "      <td>NaN</td>\n",
       "      <td>0.998828</td>\n",
       "      <td>0.117566</td>\n",
       "    </tr>\n",
       "    <tr>\n",
       "      <th>2022-05-17 16:56:00+00:00</th>\n",
       "      <td>NaN</td>\n",
       "      <td>2058.775391</td>\n",
       "      <td>NaN</td>\n",
       "      <td>0.998819</td>\n",
       "      <td>0.117541</td>\n",
       "    </tr>\n",
       "    <tr>\n",
       "      <th>2022-05-17 16:57:00+00:00</th>\n",
       "      <td>30155.521484</td>\n",
       "      <td>NaN</td>\n",
       "      <td>NaN</td>\n",
       "      <td>NaN</td>\n",
       "      <td>NaN</td>\n",
       "    </tr>\n",
       "  </tbody>\n",
       "</table>\n",
       "<p>142 rows × 5 columns</p>\n",
       "</div>"
      ],
      "text/plain": [
       "                                BTC-USD      ETH-USD  LUNA-USD  USDT-USD  \\\n",
       "2022-05-16 06:00:00+00:00  29966.171875  2046.325684       NaN  0.998819   \n",
       "2022-05-16 06:15:00+00:00  29541.869141  2020.854126       NaN  0.998782   \n",
       "2022-05-16 06:30:00+00:00  29524.328125  2019.137573       NaN  0.998848   \n",
       "2022-05-16 06:45:00+00:00  29522.140625  2011.563965       NaN  0.998973   \n",
       "2022-05-16 07:00:00+00:00  29443.396484  2002.653076       NaN  0.998931   \n",
       "...                                 ...          ...       ...       ...   \n",
       "2022-05-17 16:15:00+00:00  30012.810547  2046.253662       NaN  0.998781   \n",
       "2022-05-17 16:30:00+00:00  30074.013672  2052.571045       NaN  0.998788   \n",
       "2022-05-17 16:45:00+00:00  30156.507812  2058.908447       NaN  0.998828   \n",
       "2022-05-17 16:56:00+00:00           NaN  2058.775391       NaN  0.998819   \n",
       "2022-05-17 16:57:00+00:00  30155.521484          NaN       NaN       NaN   \n",
       "\n",
       "                            UST-USD  \n",
       "2022-05-16 06:00:00+00:00  0.171980  \n",
       "2022-05-16 06:15:00+00:00  0.169351  \n",
       "2022-05-16 06:30:00+00:00  0.167053  \n",
       "2022-05-16 06:45:00+00:00  0.166404  \n",
       "2022-05-16 07:00:00+00:00  0.165256  \n",
       "...                             ...  \n",
       "2022-05-17 16:15:00+00:00  0.116941  \n",
       "2022-05-17 16:30:00+00:00  0.117274  \n",
       "2022-05-17 16:45:00+00:00  0.117566  \n",
       "2022-05-17 16:56:00+00:00  0.117541  \n",
       "2022-05-17 16:57:00+00:00       NaN  \n",
       "\n",
       "[142 rows x 5 columns]"
      ]
     },
     "execution_count": 81,
     "metadata": {},
     "output_type": "execute_result"
    }
   ],
   "source": [
    "data = yf.download(tickers_for_yf, start = '2022-05-16', interval = '15m')\n"
   ]
  },
  {
   "cell_type": "code",
   "execution_count": 82,
   "id": "91129482-0887-48d3-a323-1afda5abdb1d",
   "metadata": {},
   "outputs": [
    {
     "data": {
      "text/html": [
       "<div>\n",
       "<style scoped>\n",
       "    .dataframe tbody tr th:only-of-type {\n",
       "        vertical-align: middle;\n",
       "    }\n",
       "\n",
       "    .dataframe tbody tr th {\n",
       "        vertical-align: top;\n",
       "    }\n",
       "\n",
       "    .dataframe thead th {\n",
       "        text-align: right;\n",
       "    }\n",
       "</style>\n",
       "<table border=\"1\" class=\"dataframe\">\n",
       "  <thead>\n",
       "    <tr style=\"text-align: right;\">\n",
       "      <th></th>\n",
       "      <th>BTC-USD</th>\n",
       "      <th>ETH-USD</th>\n",
       "      <th>LUNA-USD</th>\n",
       "      <th>USDT-USD</th>\n",
       "      <th>UST-USD</th>\n",
       "    </tr>\n",
       "  </thead>\n",
       "  <tbody>\n",
       "    <tr>\n",
       "      <th>2022-05-16 06:00:00+00:00</th>\n",
       "      <td>29966.171875</td>\n",
       "      <td>2046.325684</td>\n",
       "      <td>NaN</td>\n",
       "      <td>0.998819</td>\n",
       "      <td>0.171980</td>\n",
       "    </tr>\n",
       "    <tr>\n",
       "      <th>2022-05-16 06:15:00+00:00</th>\n",
       "      <td>29541.869141</td>\n",
       "      <td>2020.854126</td>\n",
       "      <td>NaN</td>\n",
       "      <td>0.998782</td>\n",
       "      <td>0.169351</td>\n",
       "    </tr>\n",
       "    <tr>\n",
       "      <th>2022-05-16 06:30:00+00:00</th>\n",
       "      <td>29524.328125</td>\n",
       "      <td>2019.137573</td>\n",
       "      <td>NaN</td>\n",
       "      <td>0.998848</td>\n",
       "      <td>0.167053</td>\n",
       "    </tr>\n",
       "    <tr>\n",
       "      <th>2022-05-16 06:45:00+00:00</th>\n",
       "      <td>29522.140625</td>\n",
       "      <td>2011.563965</td>\n",
       "      <td>NaN</td>\n",
       "      <td>0.998973</td>\n",
       "      <td>0.166404</td>\n",
       "    </tr>\n",
       "    <tr>\n",
       "      <th>2022-05-16 07:00:00+00:00</th>\n",
       "      <td>29443.396484</td>\n",
       "      <td>2002.653076</td>\n",
       "      <td>NaN</td>\n",
       "      <td>0.998931</td>\n",
       "      <td>0.165256</td>\n",
       "    </tr>\n",
       "    <tr>\n",
       "      <th>...</th>\n",
       "      <td>...</td>\n",
       "      <td>...</td>\n",
       "      <td>...</td>\n",
       "      <td>...</td>\n",
       "      <td>...</td>\n",
       "    </tr>\n",
       "    <tr>\n",
       "      <th>2022-05-17 16:15:00+00:00</th>\n",
       "      <td>30012.810547</td>\n",
       "      <td>2046.253662</td>\n",
       "      <td>NaN</td>\n",
       "      <td>0.998781</td>\n",
       "      <td>0.116941</td>\n",
       "    </tr>\n",
       "    <tr>\n",
       "      <th>2022-05-17 16:30:00+00:00</th>\n",
       "      <td>30074.013672</td>\n",
       "      <td>2052.571045</td>\n",
       "      <td>NaN</td>\n",
       "      <td>0.998788</td>\n",
       "      <td>0.117274</td>\n",
       "    </tr>\n",
       "    <tr>\n",
       "      <th>2022-05-17 16:45:00+00:00</th>\n",
       "      <td>30156.507812</td>\n",
       "      <td>2058.908447</td>\n",
       "      <td>NaN</td>\n",
       "      <td>0.998828</td>\n",
       "      <td>0.117566</td>\n",
       "    </tr>\n",
       "    <tr>\n",
       "      <th>2022-05-17 16:56:00+00:00</th>\n",
       "      <td>NaN</td>\n",
       "      <td>2058.775391</td>\n",
       "      <td>NaN</td>\n",
       "      <td>0.998819</td>\n",
       "      <td>0.117541</td>\n",
       "    </tr>\n",
       "    <tr>\n",
       "      <th>2022-05-17 16:57:00+00:00</th>\n",
       "      <td>30155.521484</td>\n",
       "      <td>NaN</td>\n",
       "      <td>NaN</td>\n",
       "      <td>NaN</td>\n",
       "      <td>NaN</td>\n",
       "    </tr>\n",
       "  </tbody>\n",
       "</table>\n",
       "<p>142 rows × 5 columns</p>\n",
       "</div>"
      ],
      "text/plain": [
       "                                BTC-USD      ETH-USD  LUNA-USD  USDT-USD  \\\n",
       "2022-05-16 06:00:00+00:00  29966.171875  2046.325684       NaN  0.998819   \n",
       "2022-05-16 06:15:00+00:00  29541.869141  2020.854126       NaN  0.998782   \n",
       "2022-05-16 06:30:00+00:00  29524.328125  2019.137573       NaN  0.998848   \n",
       "2022-05-16 06:45:00+00:00  29522.140625  2011.563965       NaN  0.998973   \n",
       "2022-05-16 07:00:00+00:00  29443.396484  2002.653076       NaN  0.998931   \n",
       "...                                 ...          ...       ...       ...   \n",
       "2022-05-17 16:15:00+00:00  30012.810547  2046.253662       NaN  0.998781   \n",
       "2022-05-17 16:30:00+00:00  30074.013672  2052.571045       NaN  0.998788   \n",
       "2022-05-17 16:45:00+00:00  30156.507812  2058.908447       NaN  0.998828   \n",
       "2022-05-17 16:56:00+00:00           NaN  2058.775391       NaN  0.998819   \n",
       "2022-05-17 16:57:00+00:00  30155.521484          NaN       NaN       NaN   \n",
       "\n",
       "                            UST-USD  \n",
       "2022-05-16 06:00:00+00:00  0.171980  \n",
       "2022-05-16 06:15:00+00:00  0.169351  \n",
       "2022-05-16 06:30:00+00:00  0.167053  \n",
       "2022-05-16 06:45:00+00:00  0.166404  \n",
       "2022-05-16 07:00:00+00:00  0.165256  \n",
       "...                             ...  \n",
       "2022-05-17 16:15:00+00:00  0.116941  \n",
       "2022-05-17 16:30:00+00:00  0.117274  \n",
       "2022-05-17 16:45:00+00:00  0.117566  \n",
       "2022-05-17 16:56:00+00:00  0.117541  \n",
       "2022-05-17 16:57:00+00:00       NaN  \n",
       "\n",
       "[142 rows x 5 columns]"
      ]
     },
     "execution_count": 82,
     "metadata": {},
     "output_type": "execute_result"
    }
   ],
   "source": [
    "data['Close']"
   ]
  },
  {
   "cell_type": "code",
   "execution_count": 1,
   "id": "0d15266c-4281-426a-9c17-f2f98ec292b0",
   "metadata": {},
   "outputs": [
    {
     "ename": "NameError",
     "evalue": "name 'data' is not defined",
     "output_type": "error",
     "traceback": [
      "\u001b[1;31m---------------------------------------------------------------------------\u001b[0m",
      "\u001b[1;31mNameError\u001b[0m                                 Traceback (most recent call last)",
      "\u001b[1;32m~\\AppData\\Local\\Temp/ipykernel_34636/3698944689.py\u001b[0m in \u001b[0;36m<module>\u001b[1;34m\u001b[0m\n\u001b[1;32m----> 1\u001b[1;33m \u001b[0mgraph\u001b[0m \u001b[1;33m=\u001b[0m \u001b[1;33m(\u001b[0m\u001b[1;36m1\u001b[0m \u001b[1;33m+\u001b[0m \u001b[0mdata\u001b[0m\u001b[1;33m[\u001b[0m\u001b[1;34m'Close'\u001b[0m\u001b[1;33m]\u001b[0m\u001b[1;33m.\u001b[0m\u001b[0mpct_change\u001b[0m\u001b[1;33m(\u001b[0m\u001b[1;33m)\u001b[0m\u001b[1;33m)\u001b[0m\u001b[1;33m.\u001b[0m\u001b[0mcumprod\u001b[0m\u001b[1;33m(\u001b[0m\u001b[1;33m)\u001b[0m\u001b[1;33m.\u001b[0m\u001b[0mhvplot\u001b[0m\u001b[1;33m(\u001b[0m\u001b[1;33m)\u001b[0m\u001b[1;33m\u001b[0m\u001b[1;33m\u001b[0m\u001b[0m\n\u001b[0m\u001b[0;32m      2\u001b[0m \u001b[0mgraph\u001b[0m\u001b[1;33m\u001b[0m\u001b[1;33m\u001b[0m\u001b[0m\n",
      "\u001b[1;31mNameError\u001b[0m: name 'data' is not defined"
     ]
    }
   ],
   "source": [
    "graph = (1 + data['Close'].pct_change()).cumprod().hvplot()\n",
    "graph"
   ]
  },
  {
   "cell_type": "code",
   "execution_count": 2,
   "id": "4e51c048-eea2-4433-abd1-f0306c527e92",
   "metadata": {},
   "outputs": [
    {
     "name": "stdout",
     "output_type": "stream",
     "text": [
      "<!doctype html><html lang=\"en\"><head><meta charset=\"utf-8\"/><link rel=\"icon\" href=\"/favicon.ico\"/><meta name=\"viewport\" content=\"width=device-width,initial-scale=1\"/><meta name=\"theme-color\" content=\"#000000\"/><meta name=\"description\" content=\"Alternatives to Yahoo Finance API with documentation and code samples\"/><link rel=\"apple-touch-icon\" href=\"/logo192.png\"/><link rel=\"manifest\" href=\"/manifest.json\"/><title>Yahoo Finance API alternatives</title><script async src=\"https://www.googletagmanager.com/gtag/js?id=UA-199855457-1\"></script><script>function gtag(){dataLayer.push(arguments)}window.dataLayer=window.dataLayer||[],gtag(\"js\",new Date),gtag(\"config\",\"UA-199855457-1\")</script><link href=\"/static/css/2.d082992b.chunk.css\" rel=\"stylesheet\"><link href=\"/static/css/main.77d41950.chunk.css\" rel=\"stylesheet\"></head><body><noscript>You need to enable JavaScript to run this app.</noscript><div id=\"root\"></div><script>!function(e){function r(r){for(var n,a,i=r[0],l=r[1],p=r[2],c=0,s=[];c<i.length;c++)a=i[c],Object.prototype.hasOwnProperty.call(o,a)&&o[a]&&s.push(o[a][0]),o[a]=0;for(n in l)Object.prototype.hasOwnProperty.call(l,n)&&(e[n]=l[n]);for(f&&f(r);s.length;)s.shift()();return u.push.apply(u,p||[]),t()}function t(){for(var e,r=0;r<u.length;r++){for(var t=u[r],n=!0,i=1;i<t.length;i++){var l=t[i];0!==o[l]&&(n=!1)}n&&(u.splice(r--,1),e=a(a.s=t[0]))}return e}var n={},o={1:0},u=[];function a(r){if(n[r])return n[r].exports;var t=n[r]={i:r,l:!1,exports:{}};return e[r].call(t.exports,t,t.exports,a),t.l=!0,t.exports}a.m=e,a.c=n,a.d=function(e,r,t){a.o(e,r)||Object.defineProperty(e,r,{enumerable:!0,get:t})},a.r=function(e){\"undefined\"!=typeof Symbol&&Symbol.toStringTag&&Object.defineProperty(e,Symbol.toStringTag,{value:\"Module\"}),Object.defineProperty(e,\"__esModule\",{value:!0})},a.t=function(e,r){if(1&r&&(e=a(e)),8&r)return e;if(4&r&&\"object\"==typeof e&&e&&e.__esModule)return e;var t=Object.create(null);if(a.r(t),Object.defineProperty(t,\"default\",{enumerable:!0,value:e}),2&r&&\"string\"!=typeof e)for(var n in e)a.d(t,n,function(r){return e[r]}.bind(null,n));return t},a.n=function(e){var r=e&&e.__esModule?function(){return e.default}:function(){return e};return a.d(r,\"a\",r),r},a.o=function(e,r){return Object.prototype.hasOwnProperty.call(e,r)},a.p=\"/\";var i=this[\"webpackJsonpyahoo-finance-api-portal\"]=this[\"webpackJsonpyahoo-finance-api-portal\"]||[],l=i.push.bind(i);i.push=r,i=i.slice();for(var p=0;p<i.length;p++)r(i[p]);var f=l;t()}([])</script><script src=\"/static/js/2.8a7f04a4.chunk.js\"></script><script src=\"/static/js/main.96e77edb.chunk.js\"></script></body></html>\n"
     ]
    }
   ],
   "source": [
    "\n",
    "import requests\n",
    "url = \"https://rest.yahoofinanceapi.com/v6/finance/quote\"\n",
    "querystring = {\"symbols\":\"BTC-USD,EURUSD=X\"}\n",
    "headers = {\n",
    "'x-api-key': \"YOUR-PERSONAL-API-KEY\"\n",
    "}\n",
    "response = requests.request(\"GET\", url, headers=headers, params=querystring)\n",
    "print(response.text)"
   ]
  },
  {
   "cell_type": "code",
   "execution_count": null,
   "id": "4091adf4-ae7a-423a-b0c5-8b3fa5beb2c2",
   "metadata": {},
   "outputs": [],
   "source": []
  }
 ],
 "metadata": {
  "kernelspec": {
   "display_name": "Python 3 (ipykernel)",
   "language": "python",
   "name": "python3"
  },
  "language_info": {
   "codemirror_mode": {
    "name": "ipython",
    "version": 3
   },
   "file_extension": ".py",
   "mimetype": "text/x-python",
   "name": "python",
   "nbconvert_exporter": "python",
   "pygments_lexer": "ipython3",
   "version": "3.7.11"
  }
 },
 "nbformat": 4,
 "nbformat_minor": 5
}
