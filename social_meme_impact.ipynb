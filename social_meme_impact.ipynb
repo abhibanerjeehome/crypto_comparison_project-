{
 "cells": [
  {
   "cell_type": "code",
   "execution_count": 28,
   "id": "f2f0c652-87ea-4fc3-8231-367bcfd3a51f",
   "metadata": {},
   "outputs": [],
   "source": [
    "import pandas as pd\n",
    "import requests\n",
    "import os\n",
    "from dotenv import load_dotenv\n",
    "import alpaca_trade_api as tradeapi\n",
    "import hvplot.pandas"
   ]
  },
  {
   "cell_type": "code",
   "execution_count": 29,
   "id": "18ecc307-127d-4649-bff2-803b701eb7c5",
   "metadata": {},
   "outputs": [],
   "source": [
    "top_5_mentions_stocks = requests.get('https://apewisdom.io/api/v1.0/filter/wallstreetbets').json()['results'][:5]"
   ]
  },
  {
   "cell_type": "code",
   "execution_count": 30,
   "id": "16bca504-2fee-4c6b-b95b-4dc6a9f2d2a7",
   "metadata": {},
   "outputs": [
    {
     "data": {
      "text/plain": [
       "[{'rank': 1,\n",
       "  'ticker': 'SPY',\n",
       "  'name': 'SPDR S&amp;P 500 ETF Trust',\n",
       "  'mentions': '187',\n",
       "  'upvotes': '619',\n",
       "  'rank_24h_ago': '1',\n",
       "  'mentions_24h_ago': '780'},\n",
       " {'rank': 2,\n",
       "  'ticker': 'GME',\n",
       "  'name': 'GameStop',\n",
       "  'mentions': '112',\n",
       "  'upvotes': '690',\n",
       "  'rank_24h_ago': '2',\n",
       "  'mentions_24h_ago': '380'},\n",
       " {'rank': 3,\n",
       "  'ticker': 'TSLA',\n",
       "  'name': 'Tesla',\n",
       "  'mentions': '63',\n",
       "  'upvotes': '168',\n",
       "  'rank_24h_ago': '3',\n",
       "  'mentions_24h_ago': '346'},\n",
       " {'rank': 4,\n",
       "  'ticker': 'AMC',\n",
       "  'name': 'AMC Entertainment',\n",
       "  'mentions': '60',\n",
       "  'upvotes': '261',\n",
       "  'rank_24h_ago': '8',\n",
       "  'mentions_24h_ago': '109'},\n",
       " {'rank': 5,\n",
       "  'ticker': 'AMD',\n",
       "  'name': 'AMD',\n",
       "  'mentions': '39',\n",
       "  'upvotes': '147',\n",
       "  'rank_24h_ago': '11',\n",
       "  'mentions_24h_ago': '80'}]"
      ]
     },
     "execution_count": 30,
     "metadata": {},
     "output_type": "execute_result"
    }
   ],
   "source": [
    "top_5_mentions_stocks"
   ]
  },
  {
   "cell_type": "code",
   "execution_count": 36,
   "id": "a1dac0e4-b2a6-457f-8183-60ff5d62e827",
   "metadata": {},
   "outputs": [
    {
     "data": {
      "text/html": [
       "<div>\n",
       "<style scoped>\n",
       "    .dataframe tbody tr th:only-of-type {\n",
       "        vertical-align: middle;\n",
       "    }\n",
       "\n",
       "    .dataframe tbody tr th {\n",
       "        vertical-align: top;\n",
       "    }\n",
       "\n",
       "    .dataframe thead th {\n",
       "        text-align: right;\n",
       "    }\n",
       "</style>\n",
       "<table border=\"1\" class=\"dataframe\">\n",
       "  <thead>\n",
       "    <tr style=\"text-align: right;\">\n",
       "      <th></th>\n",
       "      <th>rank</th>\n",
       "      <th>ticker</th>\n",
       "      <th>name</th>\n",
       "      <th>mentions</th>\n",
       "      <th>upvotes</th>\n",
       "      <th>rank_24h_ago</th>\n",
       "      <th>mentions_24h_ago</th>\n",
       "    </tr>\n",
       "  </thead>\n",
       "  <tbody>\n",
       "    <tr>\n",
       "      <th>0</th>\n",
       "      <td>1</td>\n",
       "      <td>SPY</td>\n",
       "      <td>SPDR S&amp;amp;P 500 ETF Trust</td>\n",
       "      <td>187</td>\n",
       "      <td>619</td>\n",
       "      <td>1</td>\n",
       "      <td>780</td>\n",
       "    </tr>\n",
       "    <tr>\n",
       "      <th>1</th>\n",
       "      <td>2</td>\n",
       "      <td>GME</td>\n",
       "      <td>GameStop</td>\n",
       "      <td>112</td>\n",
       "      <td>690</td>\n",
       "      <td>2</td>\n",
       "      <td>380</td>\n",
       "    </tr>\n",
       "    <tr>\n",
       "      <th>2</th>\n",
       "      <td>3</td>\n",
       "      <td>TSLA</td>\n",
       "      <td>Tesla</td>\n",
       "      <td>63</td>\n",
       "      <td>168</td>\n",
       "      <td>3</td>\n",
       "      <td>346</td>\n",
       "    </tr>\n",
       "    <tr>\n",
       "      <th>3</th>\n",
       "      <td>4</td>\n",
       "      <td>AMC</td>\n",
       "      <td>AMC Entertainment</td>\n",
       "      <td>60</td>\n",
       "      <td>261</td>\n",
       "      <td>8</td>\n",
       "      <td>109</td>\n",
       "    </tr>\n",
       "    <tr>\n",
       "      <th>4</th>\n",
       "      <td>5</td>\n",
       "      <td>AMD</td>\n",
       "      <td>AMD</td>\n",
       "      <td>39</td>\n",
       "      <td>147</td>\n",
       "      <td>11</td>\n",
       "      <td>80</td>\n",
       "    </tr>\n",
       "  </tbody>\n",
       "</table>\n",
       "</div>"
      ],
      "text/plain": [
       "   rank ticker                        name mentions upvotes rank_24h_ago  \\\n",
       "0     1    SPY  SPDR S&amp;P 500 ETF Trust      187     619            1   \n",
       "1     2    GME                    GameStop      112     690            2   \n",
       "2     3   TSLA                       Tesla       63     168            3   \n",
       "3     4    AMC           AMC Entertainment       60     261            8   \n",
       "4     5    AMD                         AMD       39     147           11   \n",
       "\n",
       "  mentions_24h_ago  \n",
       "0              780  \n",
       "1              380  \n",
       "2              346  \n",
       "3              109  \n",
       "4               80  "
      ]
     },
     "execution_count": 36,
     "metadata": {},
     "output_type": "execute_result"
    }
   ],
   "source": [
    "top_5_mentions_stocks_df = pd.DataFrame.from_records(top_5_mentions_stocks)\n",
    "top_5_mentions_stocks_df"
   ]
  },
  {
   "cell_type": "code",
   "execution_count": 37,
   "id": "f7e2f3e9-f9f5-4ecc-b3ce-32c997aaaa63",
   "metadata": {},
   "outputs": [],
   "source": [
    "top_5_mentions_stocks_df.set_index('ticker', inplace=True)"
   ]
  },
  {
   "cell_type": "code",
   "execution_count": 38,
   "id": "6829fe5b-e2d2-4886-9354-b1d4185a533a",
   "metadata": {},
   "outputs": [
    {
     "data": {
      "text/html": [
       "<div>\n",
       "<style scoped>\n",
       "    .dataframe tbody tr th:only-of-type {\n",
       "        vertical-align: middle;\n",
       "    }\n",
       "\n",
       "    .dataframe tbody tr th {\n",
       "        vertical-align: top;\n",
       "    }\n",
       "\n",
       "    .dataframe thead th {\n",
       "        text-align: right;\n",
       "    }\n",
       "</style>\n",
       "<table border=\"1\" class=\"dataframe\">\n",
       "  <thead>\n",
       "    <tr style=\"text-align: right;\">\n",
       "      <th></th>\n",
       "      <th>rank</th>\n",
       "      <th>name</th>\n",
       "      <th>mentions</th>\n",
       "      <th>upvotes</th>\n",
       "      <th>rank_24h_ago</th>\n",
       "      <th>mentions_24h_ago</th>\n",
       "    </tr>\n",
       "    <tr>\n",
       "      <th>ticker</th>\n",
       "      <th></th>\n",
       "      <th></th>\n",
       "      <th></th>\n",
       "      <th></th>\n",
       "      <th></th>\n",
       "      <th></th>\n",
       "    </tr>\n",
       "  </thead>\n",
       "  <tbody>\n",
       "    <tr>\n",
       "      <th>SPY</th>\n",
       "      <td>1</td>\n",
       "      <td>SPDR S&amp;amp;P 500 ETF Trust</td>\n",
       "      <td>187</td>\n",
       "      <td>619</td>\n",
       "      <td>1</td>\n",
       "      <td>780</td>\n",
       "    </tr>\n",
       "    <tr>\n",
       "      <th>GME</th>\n",
       "      <td>2</td>\n",
       "      <td>GameStop</td>\n",
       "      <td>112</td>\n",
       "      <td>690</td>\n",
       "      <td>2</td>\n",
       "      <td>380</td>\n",
       "    </tr>\n",
       "    <tr>\n",
       "      <th>TSLA</th>\n",
       "      <td>3</td>\n",
       "      <td>Tesla</td>\n",
       "      <td>63</td>\n",
       "      <td>168</td>\n",
       "      <td>3</td>\n",
       "      <td>346</td>\n",
       "    </tr>\n",
       "    <tr>\n",
       "      <th>AMC</th>\n",
       "      <td>4</td>\n",
       "      <td>AMC Entertainment</td>\n",
       "      <td>60</td>\n",
       "      <td>261</td>\n",
       "      <td>8</td>\n",
       "      <td>109</td>\n",
       "    </tr>\n",
       "    <tr>\n",
       "      <th>AMD</th>\n",
       "      <td>5</td>\n",
       "      <td>AMD</td>\n",
       "      <td>39</td>\n",
       "      <td>147</td>\n",
       "      <td>11</td>\n",
       "      <td>80</td>\n",
       "    </tr>\n",
       "  </tbody>\n",
       "</table>\n",
       "</div>"
      ],
      "text/plain": [
       "        rank                        name mentions upvotes rank_24h_ago  \\\n",
       "ticker                                                                   \n",
       "SPY        1  SPDR S&amp;P 500 ETF Trust      187     619            1   \n",
       "GME        2                    GameStop      112     690            2   \n",
       "TSLA       3                       Tesla       63     168            3   \n",
       "AMC        4           AMC Entertainment       60     261            8   \n",
       "AMD        5                         AMD       39     147           11   \n",
       "\n",
       "       mentions_24h_ago  \n",
       "ticker                   \n",
       "SPY                 780  \n",
       "GME                 380  \n",
       "TSLA                346  \n",
       "AMC                 109  \n",
       "AMD                  80  "
      ]
     },
     "execution_count": 38,
     "metadata": {},
     "output_type": "execute_result"
    }
   ],
   "source": [
    "top_5_mentions_stocks_df"
   ]
  },
  {
   "cell_type": "code",
   "execution_count": 39,
   "id": "38d07274-a882-42d1-b710-f81947cb0740",
   "metadata": {},
   "outputs": [
    {
     "data": {
      "text/html": [
       "<div>\n",
       "<style scoped>\n",
       "    .dataframe tbody tr th:only-of-type {\n",
       "        vertical-align: middle;\n",
       "    }\n",
       "\n",
       "    .dataframe tbody tr th {\n",
       "        vertical-align: top;\n",
       "    }\n",
       "\n",
       "    .dataframe thead th {\n",
       "        text-align: right;\n",
       "    }\n",
       "</style>\n",
       "<table border=\"1\" class=\"dataframe\">\n",
       "  <thead>\n",
       "    <tr style=\"text-align: right;\">\n",
       "      <th></th>\n",
       "      <th>rank</th>\n",
       "      <th>name</th>\n",
       "      <th>mentions</th>\n",
       "      <th>upvotes</th>\n",
       "      <th>rank_24h_ago</th>\n",
       "      <th>mentions_24h_ago</th>\n",
       "    </tr>\n",
       "    <tr>\n",
       "      <th>ticker</th>\n",
       "      <th></th>\n",
       "      <th></th>\n",
       "      <th></th>\n",
       "      <th></th>\n",
       "      <th></th>\n",
       "      <th></th>\n",
       "    </tr>\n",
       "  </thead>\n",
       "  <tbody>\n",
       "    <tr>\n",
       "      <th>SPY</th>\n",
       "      <td>1</td>\n",
       "      <td>SPDR S&amp;amp;P 500 ETF Trust</td>\n",
       "      <td>187</td>\n",
       "      <td>619</td>\n",
       "      <td>1</td>\n",
       "      <td>780</td>\n",
       "    </tr>\n",
       "    <tr>\n",
       "      <th>GME</th>\n",
       "      <td>2</td>\n",
       "      <td>GameStop</td>\n",
       "      <td>112</td>\n",
       "      <td>690</td>\n",
       "      <td>2</td>\n",
       "      <td>380</td>\n",
       "    </tr>\n",
       "    <tr>\n",
       "      <th>TSLA</th>\n",
       "      <td>3</td>\n",
       "      <td>Tesla</td>\n",
       "      <td>63</td>\n",
       "      <td>168</td>\n",
       "      <td>3</td>\n",
       "      <td>346</td>\n",
       "    </tr>\n",
       "    <tr>\n",
       "      <th>AMC</th>\n",
       "      <td>4</td>\n",
       "      <td>AMC Entertainment</td>\n",
       "      <td>60</td>\n",
       "      <td>261</td>\n",
       "      <td>8</td>\n",
       "      <td>109</td>\n",
       "    </tr>\n",
       "    <tr>\n",
       "      <th>AMD</th>\n",
       "      <td>5</td>\n",
       "      <td>AMD</td>\n",
       "      <td>39</td>\n",
       "      <td>147</td>\n",
       "      <td>11</td>\n",
       "      <td>80</td>\n",
       "    </tr>\n",
       "  </tbody>\n",
       "</table>\n",
       "</div>"
      ],
      "text/plain": [
       "        rank                        name mentions upvotes rank_24h_ago  \\\n",
       "ticker                                                                   \n",
       "SPY        1  SPDR S&amp;P 500 ETF Trust      187     619            1   \n",
       "GME        2                    GameStop      112     690            2   \n",
       "TSLA       3                       Tesla       63     168            3   \n",
       "AMC        4           AMC Entertainment       60     261            8   \n",
       "AMD        5                         AMD       39     147           11   \n",
       "\n",
       "       mentions_24h_ago  \n",
       "ticker                   \n",
       "SPY                 780  \n",
       "GME                 380  \n",
       "TSLA                346  \n",
       "AMC                 109  \n",
       "AMD                  80  "
      ]
     },
     "execution_count": 39,
     "metadata": {},
     "output_type": "execute_result"
    }
   ],
   "source": [
    "top_5_mentions_stocks_df=pd.DataFrame.from_dict(top_5_mentions_stocks_df, orient='columns')\n",
    "top_5_mentions_stocks_df"
   ]
  },
  {
   "cell_type": "code",
   "execution_count": 40,
   "id": "2931087b-c543-4f12-92b2-33f28460bb83",
   "metadata": {},
   "outputs": [],
   "source": [
    "top_5_mentions_stocks_df.drop(columns=['rank','name','upvotes','rank_24h_ago','mentions_24h_ago'],inplace=True)                              "
   ]
  },
  {
   "cell_type": "code",
   "execution_count": 43,
   "id": "f9068066-84ec-48a6-b51d-9828cb7cb38b",
   "metadata": {},
   "outputs": [
    {
     "data": {
      "text/html": [
       "<div>\n",
       "<style scoped>\n",
       "    .dataframe tbody tr th:only-of-type {\n",
       "        vertical-align: middle;\n",
       "    }\n",
       "\n",
       "    .dataframe tbody tr th {\n",
       "        vertical-align: top;\n",
       "    }\n",
       "\n",
       "    .dataframe thead th {\n",
       "        text-align: right;\n",
       "    }\n",
       "</style>\n",
       "<table border=\"1\" class=\"dataframe\">\n",
       "  <thead>\n",
       "    <tr style=\"text-align: right;\">\n",
       "      <th></th>\n",
       "      <th>mentions</th>\n",
       "    </tr>\n",
       "    <tr>\n",
       "      <th>ticker</th>\n",
       "      <th></th>\n",
       "    </tr>\n",
       "  </thead>\n",
       "  <tbody>\n",
       "    <tr>\n",
       "      <th>SPY</th>\n",
       "      <td>187</td>\n",
       "    </tr>\n",
       "    <tr>\n",
       "      <th>GME</th>\n",
       "      <td>112</td>\n",
       "    </tr>\n",
       "    <tr>\n",
       "      <th>TSLA</th>\n",
       "      <td>63</td>\n",
       "    </tr>\n",
       "    <tr>\n",
       "      <th>AMC</th>\n",
       "      <td>60</td>\n",
       "    </tr>\n",
       "    <tr>\n",
       "      <th>AMD</th>\n",
       "      <td>39</td>\n",
       "    </tr>\n",
       "  </tbody>\n",
       "</table>\n",
       "</div>"
      ],
      "text/plain": [
       "       mentions\n",
       "ticker         \n",
       "SPY         187\n",
       "GME         112\n",
       "TSLA         63\n",
       "AMC          60\n",
       "AMD          39"
      ]
     },
     "execution_count": 43,
     "metadata": {},
     "output_type": "execute_result"
    }
   ],
   "source": [
    "top_5_mentions_stocks_df"
   ]
  },
  {
   "cell_type": "code",
   "execution_count": 44,
   "id": "c353f81e-66e4-4da3-aafb-1c5b826d1437",
   "metadata": {},
   "outputs": [
    {
     "data": {
      "text/plain": [
       "str"
      ]
     },
     "execution_count": 44,
     "metadata": {},
     "output_type": "execute_result"
    }
   ],
   "source": [
    "type(top_5_mentions_stocks_df['mentions'].iloc[0])"
   ]
  },
  {
   "cell_type": "code",
   "execution_count": 45,
   "id": "84401504-32d3-4931-982b-9698fb23f3a4",
   "metadata": {},
   "outputs": [],
   "source": [
    "top_5_mentions_stocks_df = pd.to_numeric(top_5_mentions_stocks_df['mentions'], errors='coerce') #ya!!"
   ]
  },
  {
   "cell_type": "code",
   "execution_count": 46,
   "id": "08ebe9cd-5074-44f4-8d03-d2495437168e",
   "metadata": {},
   "outputs": [
    {
     "data": {},
     "metadata": {},
     "output_type": "display_data"
    },
    {
     "data": {
      "application/vnd.holoviews_exec.v0+json": "",
      "text/html": [
       "<div id='3227'>\n",
       "\n",
       "\n",
       "\n",
       "\n",
       "\n",
       "  <div class=\"bk-root\" id=\"e501c9f8-4ecb-404d-be99-7afa764e7dfc\" data-root-id=\"3227\"></div>\n",
       "</div>\n",
       "<script type=\"application/javascript\">(function(root) {\n",
       "  function embed_document(root) {\n",
       "    var docs_json = {\"e4143691-7c2f-478b-9b12-c21f52bc46ad\":{\"defs\":[{\"extends\":null,\"module\":null,\"name\":\"ReactiveHTML1\",\"overrides\":[],\"properties\":[]},{\"extends\":null,\"module\":null,\"name\":\"FlexBox1\",\"overrides\":[],\"properties\":[{\"default\":\"flex-start\",\"kind\":null,\"name\":\"align_content\"},{\"default\":\"flex-start\",\"kind\":null,\"name\":\"align_items\"},{\"default\":\"row\",\"kind\":null,\"name\":\"flex_direction\"},{\"default\":\"wrap\",\"kind\":null,\"name\":\"flex_wrap\"},{\"default\":\"flex-start\",\"kind\":null,\"name\":\"justify_content\"}]},{\"extends\":null,\"module\":null,\"name\":\"GridStack1\",\"overrides\":[],\"properties\":[{\"default\":\"warn\",\"kind\":null,\"name\":\"mode\"},{\"default\":null,\"kind\":null,\"name\":\"ncols\"},{\"default\":null,\"kind\":null,\"name\":\"nrows\"},{\"default\":true,\"kind\":null,\"name\":\"allow_resize\"},{\"default\":true,\"kind\":null,\"name\":\"allow_drag\"},{\"default\":[],\"kind\":null,\"name\":\"state\"}]},{\"extends\":null,\"module\":null,\"name\":\"click1\",\"overrides\":[],\"properties\":[{\"default\":\"\",\"kind\":null,\"name\":\"terminal_output\"},{\"default\":\"\",\"kind\":null,\"name\":\"debug_name\"},{\"default\":0,\"kind\":null,\"name\":\"clears\"}]},{\"extends\":null,\"module\":null,\"name\":\"TemplateActions1\",\"overrides\":[],\"properties\":[{\"default\":0,\"kind\":null,\"name\":\"open_modal\"},{\"default\":0,\"kind\":null,\"name\":\"close_modal\"}]},{\"extends\":null,\"module\":null,\"name\":\"MaterialTemplateActions1\",\"overrides\":[],\"properties\":[{\"default\":0,\"kind\":null,\"name\":\"open_modal\"},{\"default\":0,\"kind\":null,\"name\":\"close_modal\"}]}],\"roots\":{\"references\":[{\"attributes\":{\"source\":{\"id\":\"3261\"}},\"id\":\"3268\",\"type\":\"CDSView\"},{\"attributes\":{},\"id\":\"3248\",\"type\":\"SaveTool\"},{\"attributes\":{},\"id\":\"3245\",\"type\":\"BasicTicker\"},{\"attributes\":{\"margin\":[5,5,5,5],\"name\":\"HSpacer04281\",\"sizing_mode\":\"stretch_width\"},\"id\":\"3228\",\"type\":\"Spacer\"},{\"attributes\":{\"fill_alpha\":{\"value\":0.1},\"fill_color\":{\"value\":\"#30a2da\"},\"hatch_alpha\":{\"value\":0.1},\"hatch_color\":{\"value\":\"#30a2da\"},\"line_alpha\":{\"value\":0.1},\"top\":{\"field\":\"mentions\"},\"width\":{\"value\":0.8},\"x\":{\"field\":\"ticker\"}},\"id\":\"3265\",\"type\":\"VBar\"},{\"attributes\":{\"callback\":null,\"renderers\":[{\"id\":\"3267\"}],\"tags\":[\"hv_created\"],\"tooltips\":[[\"ticker\",\"@{ticker}\"],[\"mentions\",\"@{mentions}\"]]},\"id\":\"3231\",\"type\":\"HoverTool\"},{\"attributes\":{},\"id\":\"3252\",\"type\":\"ResetTool\"},{\"attributes\":{\"overlay\":{\"id\":\"3253\"}},\"id\":\"3251\",\"type\":\"BoxZoomTool\"},{\"attributes\":{\"end\":201.8,\"reset_end\":201.8,\"reset_start\":0.0,\"tags\":[[[\"mentions\",\"mentions\",null]]]},\"id\":\"3230\",\"type\":\"Range1d\"},{\"attributes\":{},\"id\":\"3249\",\"type\":\"PanTool\"},{\"attributes\":{\"margin\":[5,5,5,5],\"name\":\"HSpacer04282\",\"sizing_mode\":\"stretch_width\"},\"id\":\"3296\",\"type\":\"Spacer\"},{\"attributes\":{},\"id\":\"3237\",\"type\":\"CategoricalScale\"},{\"attributes\":{},\"id\":\"3283\",\"type\":\"UnionRenderers\"},{\"attributes\":{\"axis\":{\"id\":\"3244\"},\"coordinates\":null,\"dimension\":1,\"grid_line_color\":null,\"group\":null,\"ticker\":null},\"id\":\"3247\",\"type\":\"Grid\"},{\"attributes\":{\"bottom\":{\"value\":0},\"fill_alpha\":{\"value\":1.0},\"fill_color\":{\"value\":\"#30a2da\"},\"hatch_alpha\":{\"value\":1.0},\"hatch_color\":{\"value\":\"#30a2da\"},\"hatch_scale\":{\"value\":12.0},\"hatch_weight\":{\"value\":1.0},\"line_alpha\":{\"value\":1.0},\"line_cap\":{\"value\":\"butt\"},\"line_color\":{\"value\":\"black\"},\"line_dash\":{\"value\":[]},\"line_dash_offset\":{\"value\":0},\"line_join\":{\"value\":\"bevel\"},\"line_width\":{\"value\":1},\"top\":{\"field\":\"mentions\"},\"width\":{\"value\":0.8},\"x\":{\"field\":\"ticker\"}},\"id\":\"3269\",\"type\":\"VBar\"},{\"attributes\":{\"axis\":{\"id\":\"3241\"},\"coordinates\":null,\"grid_line_color\":null,\"group\":null,\"ticker\":null},\"id\":\"3243\",\"type\":\"Grid\"},{\"attributes\":{\"axis_label\":\"\",\"coordinates\":null,\"formatter\":{\"id\":\"3274\"},\"group\":null,\"major_label_policy\":{\"id\":\"3275\"},\"ticker\":{\"id\":\"3245\"}},\"id\":\"3244\",\"type\":\"LinearAxis\"},{\"attributes\":{},\"id\":\"3250\",\"type\":\"WheelZoomTool\"},{\"attributes\":{},\"id\":\"3274\",\"type\":\"BasicTickFormatter\"},{\"attributes\":{},\"id\":\"3242\",\"type\":\"CategoricalTicker\"},{\"attributes\":{},\"id\":\"3239\",\"type\":\"LinearScale\"},{\"attributes\":{},\"id\":\"3262\",\"type\":\"Selection\"},{\"attributes\":{\"data\":{\"mentions\":[187,112,63,60,39],\"ticker\":[\"SPY\",\"GME\",\"TSLA\",\"AMC\",\"AMD\"]},\"selected\":{\"id\":\"3262\"},\"selection_policy\":{\"id\":\"3283\"}},\"id\":\"3261\",\"type\":\"ColumnDataSource\"},{\"attributes\":{\"coordinates\":null,\"data_source\":{\"id\":\"3261\"},\"glyph\":{\"id\":\"3264\"},\"group\":null,\"hover_glyph\":null,\"muted_glyph\":{\"id\":\"3266\"},\"nonselection_glyph\":{\"id\":\"3265\"},\"selection_glyph\":{\"id\":\"3269\"},\"view\":{\"id\":\"3268\"}},\"id\":\"3267\",\"type\":\"GlyphRenderer\"},{\"attributes\":{},\"id\":\"3272\",\"type\":\"AllLabels\"},{\"attributes\":{\"fill_color\":{\"value\":\"#30a2da\"},\"hatch_color\":{\"value\":\"#30a2da\"},\"top\":{\"field\":\"mentions\"},\"width\":{\"value\":0.8},\"x\":{\"field\":\"ticker\"}},\"id\":\"3264\",\"type\":\"VBar\"},{\"attributes\":{\"factors\":[\"SPY\",\"GME\",\"TSLA\",\"AMC\",\"AMD\"],\"tags\":[[[\"ticker\",\"ticker\",null]]]},\"id\":\"3229\",\"type\":\"FactorRange\"},{\"attributes\":{\"axis_label\":\"ticker\",\"coordinates\":null,\"formatter\":{\"id\":\"3271\"},\"group\":null,\"major_label_policy\":{\"id\":\"3272\"},\"ticker\":{\"id\":\"3242\"}},\"id\":\"3241\",\"type\":\"CategoricalAxis\"},{\"attributes\":{\"children\":[{\"id\":\"3228\"},{\"id\":\"3232\"},{\"id\":\"3296\"}],\"margin\":[0,0,0,0],\"name\":\"Row04277\",\"tags\":[\"embedded\"]},\"id\":\"3227\",\"type\":\"Row\"},{\"attributes\":{},\"id\":\"3271\",\"type\":\"CategoricalTickFormatter\"},{\"attributes\":{},\"id\":\"3275\",\"type\":\"AllLabels\"},{\"attributes\":{\"bottom_units\":\"screen\",\"coordinates\":null,\"fill_alpha\":0.5,\"fill_color\":\"lightgrey\",\"group\":null,\"left_units\":\"screen\",\"level\":\"overlay\",\"line_alpha\":1.0,\"line_color\":\"black\",\"line_dash\":[4,4],\"line_width\":2,\"right_units\":\"screen\",\"syncable\":false,\"top_units\":\"screen\"},\"id\":\"3253\",\"type\":\"BoxAnnotation\"},{\"attributes\":{\"coordinates\":null,\"group\":null,\"text\":\"Mentions in last 24 hours for top 5 stocks\",\"text_color\":\"black\",\"text_font_size\":\"12pt\"},\"id\":\"3233\",\"type\":\"Title\"},{\"attributes\":{\"below\":[{\"id\":\"3241\"}],\"center\":[{\"id\":\"3243\"},{\"id\":\"3247\"}],\"height\":300,\"left\":[{\"id\":\"3244\"}],\"margin\":[5,5,5,5],\"min_border_bottom\":10,\"min_border_left\":10,\"min_border_right\":10,\"min_border_top\":10,\"renderers\":[{\"id\":\"3267\"}],\"sizing_mode\":\"fixed\",\"title\":{\"id\":\"3233\"},\"toolbar\":{\"id\":\"3254\"},\"width\":700,\"x_range\":{\"id\":\"3229\"},\"x_scale\":{\"id\":\"3237\"},\"y_range\":{\"id\":\"3230\"},\"y_scale\":{\"id\":\"3239\"}},\"id\":\"3232\",\"subtype\":\"Figure\",\"type\":\"Plot\"},{\"attributes\":{\"tools\":[{\"id\":\"3231\"},{\"id\":\"3248\"},{\"id\":\"3249\"},{\"id\":\"3250\"},{\"id\":\"3251\"},{\"id\":\"3252\"}]},\"id\":\"3254\",\"type\":\"Toolbar\"},{\"attributes\":{\"fill_alpha\":{\"value\":0.2},\"fill_color\":{\"value\":\"#30a2da\"},\"hatch_alpha\":{\"value\":0.2},\"hatch_color\":{\"value\":\"#30a2da\"},\"line_alpha\":{\"value\":0.2},\"top\":{\"field\":\"mentions\"},\"width\":{\"value\":0.8},\"x\":{\"field\":\"ticker\"}},\"id\":\"3266\",\"type\":\"VBar\"}],\"root_ids\":[\"3227\"]},\"title\":\"Bokeh Application\",\"version\":\"2.4.1\"}};\n",
       "    var render_items = [{\"docid\":\"e4143691-7c2f-478b-9b12-c21f52bc46ad\",\"root_ids\":[\"3227\"],\"roots\":{\"3227\":\"e501c9f8-4ecb-404d-be99-7afa764e7dfc\"}}];\n",
       "    root.Bokeh.embed.embed_items_notebook(docs_json, render_items);\n",
       "  }\n",
       "  if (root.Bokeh !== undefined && root.Bokeh.Panel !== undefined) {\n",
       "    embed_document(root);\n",
       "  } else {\n",
       "    var attempts = 0;\n",
       "    var timer = setInterval(function(root) {\n",
       "      if (root.Bokeh !== undefined && root.Bokeh.Panel !== undefined) {\n",
       "        clearInterval(timer);\n",
       "        embed_document(root);\n",
       "      } else if (document.readyState == \"complete\") {\n",
       "        attempts++;\n",
       "        if (attempts > 200) {\n",
       "          clearInterval(timer);\n",
       "          console.log(\"Bokeh: ERROR: Unable to run BokehJS code because BokehJS library is missing\");\n",
       "        }\n",
       "      }\n",
       "    }, 25, root)\n",
       "  }\n",
       "})(window);</script>"
      ],
      "text/plain": [
       ":Bars   [ticker]   (mentions)"
      ]
     },
     "execution_count": 46,
     "metadata": {
      "application/vnd.holoviews_exec.v0+json": {
       "id": "3227"
      }
     },
     "output_type": "execute_result"
    }
   ],
   "source": [
    "top_5_mentions_stocks_df.hvplot(kind=\"bar\", title='Mentions in last 24 hours for top 5 stocks')"
   ]
  },
  {
   "cell_type": "code",
   "execution_count": 65,
   "id": "3337b07c-e647-41ea-80b0-fdd1c5c4cdfc",
   "metadata": {},
   "outputs": [
    {
     "data": {
      "text/plain": [
       "['SPY', 'GME', 'TSLA', 'AMC', 'AMD']"
      ]
     },
     "execution_count": 65,
     "metadata": {},
     "output_type": "execute_result"
    }
   ],
   "source": [
    "top_stocks_tickers = []\n",
    "\n",
    "for stock in top_5_mentions_stocks:\n",
    "    top_stocks_tickers.append(stock['ticker'])\n",
    "top_stocks_tickers"
   ]
  },
  {
   "cell_type": "code",
   "execution_count": 66,
   "id": "9f0cce89-e716-4bbb-aeb1-a3bc360304bd",
   "metadata": {},
   "outputs": [
    {
     "data": {
      "text/plain": [
       "True"
      ]
     },
     "execution_count": 66,
     "metadata": {},
     "output_type": "execute_result"
    }
   ],
   "source": [
    "load_dotenv('keys.env')"
   ]
  },
  {
   "cell_type": "code",
   "execution_count": 67,
   "id": "8ea2b595-e01c-476d-a8a6-3b6c5597eaf4",
   "metadata": {},
   "outputs": [
    {
     "data": {
      "text/plain": [
       "str"
      ]
     },
     "execution_count": 67,
     "metadata": {},
     "output_type": "execute_result"
    }
   ],
   "source": [
    "alpaca_api_key = os.getenv('ALPACA_API_KEY')\n",
    "alpaca_secret_key = os.getenv('ALPACA_SECRET_KEY')\n",
    "type(alpaca_api_key)"
   ]
  },
  {
   "cell_type": "code",
   "execution_count": 68,
   "id": "d9cb16fa-1a9e-4af0-85e8-67e46c8cdad4",
   "metadata": {},
   "outputs": [
    {
     "data": {
      "text/html": [
       "<div>\n",
       "<style scoped>\n",
       "    .dataframe tbody tr th:only-of-type {\n",
       "        vertical-align: middle;\n",
       "    }\n",
       "\n",
       "    .dataframe tbody tr th {\n",
       "        vertical-align: top;\n",
       "    }\n",
       "\n",
       "    .dataframe thead th {\n",
       "        text-align: right;\n",
       "    }\n",
       "</style>\n",
       "<table border=\"1\" class=\"dataframe\">\n",
       "  <thead>\n",
       "    <tr style=\"text-align: right;\">\n",
       "      <th></th>\n",
       "      <th>SPY</th>\n",
       "      <th>GME</th>\n",
       "      <th>TSLA</th>\n",
       "      <th>AMC</th>\n",
       "      <th>AMD</th>\n",
       "    </tr>\n",
       "    <tr>\n",
       "      <th>timestamp</th>\n",
       "      <th></th>\n",
       "      <th></th>\n",
       "      <th></th>\n",
       "      <th></th>\n",
       "      <th></th>\n",
       "    </tr>\n",
       "  </thead>\n",
       "  <tbody>\n",
       "    <tr>\n",
       "      <th>2022-05-13 08:00:00+00:00</th>\n",
       "      <td>396.48</td>\n",
       "      <td>93.99</td>\n",
       "      <td>756.44</td>\n",
       "      <td>93.99</td>\n",
       "      <td>89.07</td>\n",
       "    </tr>\n",
       "    <tr>\n",
       "      <th>2022-05-13 08:15:00+00:00</th>\n",
       "      <td>396.99</td>\n",
       "      <td>94.50</td>\n",
       "      <td>756.20</td>\n",
       "      <td>94.50</td>\n",
       "      <td>89.23</td>\n",
       "    </tr>\n",
       "    <tr>\n",
       "      <th>2022-05-13 08:30:00+00:00</th>\n",
       "      <td>396.59</td>\n",
       "      <td>94.30</td>\n",
       "      <td>754.75</td>\n",
       "      <td>94.30</td>\n",
       "      <td>89.00</td>\n",
       "    </tr>\n",
       "    <tr>\n",
       "      <th>2022-05-13 08:45:00+00:00</th>\n",
       "      <td>396.51</td>\n",
       "      <td>94.00</td>\n",
       "      <td>755.00</td>\n",
       "      <td>94.00</td>\n",
       "      <td>88.92</td>\n",
       "    </tr>\n",
       "    <tr>\n",
       "      <th>2022-05-13 09:00:00+00:00</th>\n",
       "      <td>397.02</td>\n",
       "      <td>94.49</td>\n",
       "      <td>758.69</td>\n",
       "      <td>94.49</td>\n",
       "      <td>89.10</td>\n",
       "    </tr>\n",
       "    <tr>\n",
       "      <th>...</th>\n",
       "      <td>...</td>\n",
       "      <td>...</td>\n",
       "      <td>...</td>\n",
       "      <td>...</td>\n",
       "      <td>...</td>\n",
       "    </tr>\n",
       "    <tr>\n",
       "      <th>2022-05-13 22:45:00+00:00</th>\n",
       "      <td>401.61</td>\n",
       "      <td>NaN</td>\n",
       "      <td>773.10</td>\n",
       "      <td>NaN</td>\n",
       "      <td>95.10</td>\n",
       "    </tr>\n",
       "    <tr>\n",
       "      <th>2022-05-13 23:00:00+00:00</th>\n",
       "      <td>401.72</td>\n",
       "      <td>98.00</td>\n",
       "      <td>773.50</td>\n",
       "      <td>98.00</td>\n",
       "      <td>95.20</td>\n",
       "    </tr>\n",
       "    <tr>\n",
       "      <th>2022-05-13 23:15:00+00:00</th>\n",
       "      <td>401.76</td>\n",
       "      <td>98.00</td>\n",
       "      <td>774.49</td>\n",
       "      <td>98.00</td>\n",
       "      <td>95.25</td>\n",
       "    </tr>\n",
       "    <tr>\n",
       "      <th>2022-05-13 23:30:00+00:00</th>\n",
       "      <td>401.68</td>\n",
       "      <td>98.00</td>\n",
       "      <td>774.98</td>\n",
       "      <td>98.00</td>\n",
       "      <td>95.35</td>\n",
       "    </tr>\n",
       "    <tr>\n",
       "      <th>2022-05-13 23:45:00+00:00</th>\n",
       "      <td>401.60</td>\n",
       "      <td>98.00</td>\n",
       "      <td>775.70</td>\n",
       "      <td>98.00</td>\n",
       "      <td>95.36</td>\n",
       "    </tr>\n",
       "  </tbody>\n",
       "</table>\n",
       "<p>64 rows × 5 columns</p>\n",
       "</div>"
      ],
      "text/plain": [
       "                              SPY    GME    TSLA    AMC    AMD\n",
       "timestamp                                                     \n",
       "2022-05-13 08:00:00+00:00  396.48  93.99  756.44  93.99  89.07\n",
       "2022-05-13 08:15:00+00:00  396.99  94.50  756.20  94.50  89.23\n",
       "2022-05-13 08:30:00+00:00  396.59  94.30  754.75  94.30  89.00\n",
       "2022-05-13 08:45:00+00:00  396.51  94.00  755.00  94.00  88.92\n",
       "2022-05-13 09:00:00+00:00  397.02  94.49  758.69  94.49  89.10\n",
       "...                           ...    ...     ...    ...    ...\n",
       "2022-05-13 22:45:00+00:00  401.61    NaN  773.10    NaN  95.10\n",
       "2022-05-13 23:00:00+00:00  401.72  98.00  773.50  98.00  95.20\n",
       "2022-05-13 23:15:00+00:00  401.76  98.00  774.49  98.00  95.25\n",
       "2022-05-13 23:30:00+00:00  401.68  98.00  774.98  98.00  95.35\n",
       "2022-05-13 23:45:00+00:00  401.60  98.00  775.70  98.00  95.36\n",
       "\n",
       "[64 rows x 5 columns]"
      ]
     },
     "execution_count": 68,
     "metadata": {},
     "output_type": "execute_result"
    }
   ],
   "source": [
    "alpaca = tradeapi.REST(alpaca_api_key, alpaca_secret_key, api_version = 'v2')\n",
    "\n",
    "start_date = pd.Timestamp('2022-05-13', tz='America/New_York').isoformat()\n",
    "# end_date = pd.Timestamp('2022-05-13', tz='America/New_York').isoformat() \n",
    "prices_df = alpaca.get_bars(top_stocks_tickers, timeframe = '15Min', start = start_date).df\n",
    "# , end = end_date\n",
    "spy = prices_df[prices_df['symbol'] == 'SPY'].drop('symbol', axis = 1)\n",
    "gme = prices_df[prices_df['symbol'] == 'GME'].drop('symbol', axis = 1)\n",
    "tsla = prices_df[prices_df['symbol'] == 'TSLA'].drop('symbol', axis = 1)\n",
    "amc = prices_df[prices_df['symbol'] == 'AMC'].drop('symbol', axis = 1)\n",
    "amd = prices_df[prices_df['symbol'] == 'AMD'].drop('symbol', axis = 1)\n",
    "\n",
    "prices_df = pd.concat([spy['close'], aapl['close'], tsla['close'], gme['close'], qqq['close']], axis = 1, keys = ['SPY', 'GME', 'TSLA', 'AMC', 'AMD'])\n",
    "prices_df"
   ]
  },
  {
   "cell_type": "code",
   "execution_count": 69,
   "id": "54e98f49-db21-4c02-9373-0fd9389c66a6",
   "metadata": {},
   "outputs": [
    {
     "data": {},
     "metadata": {},
     "output_type": "display_data"
    },
    {
     "data": {
      "application/vnd.holoviews_exec.v0+json": "",
      "text/html": [
       "<div id='7716'>\n",
       "\n",
       "\n",
       "\n",
       "\n",
       "\n",
       "  <div class=\"bk-root\" id=\"9124396f-ab1c-43e5-907d-dd693d9e7a88\" data-root-id=\"7716\"></div>\n",
       "</div>\n",
       "<script type=\"application/javascript\">(function(root) {\n",
       "  function embed_document(root) {\n",
       "    var docs_json = {\"85f58f54-fc4e-42d2-8b7a-cca48a4f5791\":{\"defs\":[{\"extends\":null,\"module\":null,\"name\":\"ReactiveHTML1\",\"overrides\":[],\"properties\":[]},{\"extends\":null,\"module\":null,\"name\":\"FlexBox1\",\"overrides\":[],\"properties\":[{\"default\":\"flex-start\",\"kind\":null,\"name\":\"align_content\"},{\"default\":\"flex-start\",\"kind\":null,\"name\":\"align_items\"},{\"default\":\"row\",\"kind\":null,\"name\":\"flex_direction\"},{\"default\":\"wrap\",\"kind\":null,\"name\":\"flex_wrap\"},{\"default\":\"flex-start\",\"kind\":null,\"name\":\"justify_content\"}]},{\"extends\":null,\"module\":null,\"name\":\"GridStack1\",\"overrides\":[],\"properties\":[{\"default\":\"warn\",\"kind\":null,\"name\":\"mode\"},{\"default\":null,\"kind\":null,\"name\":\"ncols\"},{\"default\":null,\"kind\":null,\"name\":\"nrows\"},{\"default\":true,\"kind\":null,\"name\":\"allow_resize\"},{\"default\":true,\"kind\":null,\"name\":\"allow_drag\"},{\"default\":[],\"kind\":null,\"name\":\"state\"}]},{\"extends\":null,\"module\":null,\"name\":\"click1\",\"overrides\":[],\"properties\":[{\"default\":\"\",\"kind\":null,\"name\":\"terminal_output\"},{\"default\":\"\",\"kind\":null,\"name\":\"debug_name\"},{\"default\":0,\"kind\":null,\"name\":\"clears\"}]},{\"extends\":null,\"module\":null,\"name\":\"TemplateActions1\",\"overrides\":[],\"properties\":[{\"default\":0,\"kind\":null,\"name\":\"open_modal\"},{\"default\":0,\"kind\":null,\"name\":\"close_modal\"}]},{\"extends\":null,\"module\":null,\"name\":\"MaterialTemplateActions1\",\"overrides\":[],\"properties\":[{\"default\":0,\"kind\":null,\"name\":\"open_modal\"},{\"default\":0,\"kind\":null,\"name\":\"close_modal\"}]}],\"roots\":{\"references\":[{\"attributes\":{\"line_color\":\"#30a2da\",\"line_width\":2,\"x\":{\"field\":\"timestamp\"},\"y\":{\"field\":\"value\"}},\"id\":\"7793\",\"type\":\"Line\"},{\"attributes\":{\"line_alpha\":0.1,\"line_color\":\"#fc4f30\",\"line_width\":2,\"x\":{\"field\":\"timestamp\"},\"y\":{\"field\":\"value\"}},\"id\":\"7798\",\"type\":\"Line\"},{\"attributes\":{\"data\":{\"Variable\":[\"SPY\",\"SPY\",\"SPY\",\"SPY\",\"SPY\",\"SPY\",\"SPY\",\"SPY\",\"SPY\",\"SPY\",\"SPY\",\"SPY\",\"SPY\",\"SPY\",\"SPY\",\"SPY\",\"SPY\",\"SPY\",\"SPY\",\"SPY\",\"SPY\",\"SPY\",\"SPY\",\"SPY\",\"SPY\",\"SPY\",\"SPY\",\"SPY\",\"SPY\",\"SPY\",\"SPY\",\"SPY\",\"SPY\",\"SPY\",\"SPY\",\"SPY\",\"SPY\",\"SPY\",\"SPY\",\"SPY\",\"SPY\",\"SPY\",\"SPY\",\"SPY\",\"SPY\",\"SPY\",\"SPY\",\"SPY\",\"SPY\",\"SPY\",\"SPY\",\"SPY\",\"SPY\",\"SPY\",\"SPY\",\"SPY\",\"SPY\",\"SPY\",\"SPY\",\"SPY\",\"SPY\",\"SPY\",\"SPY\",\"SPY\"],\"timestamp\":{\"__ndarray__\":\"AAAA6MYLeEIAALrDxwt4QgAAdJ/IC3hCAAAue8kLeEIAAOhWygt4QgAAojLLC3hCAABcDswLeEIAABbqzAt4QgAA0MXNC3hCAACKoc4LeEIAAER9zwt4QgAA/ljQC3hCAAC4NNELeEIAAHIQ0gt4QgAALOzSC3hCAADmx9MLeEIAAKCj1At4QgAAWn/VC3hCAAAUW9YLeEIAAM421wt4QgAAiBLYC3hCAABC7tgLeEIAAPzJ2Qt4QgAAtqXaC3hCAABwgdsLeEIAACpd3At4QgAA5DjdC3hCAACeFN4LeEIAAFjw3gt4QgAAEszfC3hCAADMp+ALeEIAAIaD4Qt4QgAAQF/iC3hCAAD6OuMLeEIAALQW5At4QgAAbvLkC3hCAAAozuULeEIAAOKp5gt4QgAAnIXnC3hCAABWYegLeEIAABA96Qt4QgAAyhjqC3hCAACE9OoLeEIAAD7Q6wt4QgAA+KvsC3hCAACyh+0LeEIAAGxj7gt4QgAAJj/vC3hCAADgGvALeEIAAJr28At4QgAAVNLxC3hCAAAOrvILeEIAAMiJ8wt4QgAAgmX0C3hCAAA8QfULeEIAAPYc9gt4QgAAsPj2C3hCAABq1PcLeEIAACSw+At4QgAA3ov5C3hCAACYZ/oLeEIAAFJD+wt4QgAADB/8C3hCAADG+vwLeEI=\",\"dtype\":\"float64\",\"order\":\"little\",\"shape\":[64]},\"value\":{\"__ndarray__\":\"AAAAAAAA+H9HscrNRAXwP8StIesiAfA/qkZmV08A8D/x9zAllAXwP4YvdtwzA/A/VI3Mrp4A8D+8egIszfnvP8fZ7uQ0APA/7PDeX1D97z9UjcyungDwP2vIukhgAvA/AAAAAAAA8D/ErSHrIgHwPwkzH79VB/A/Qwjoq0AR8D8zUWH/tAzwP213chqADPA/22v6XPIN8D/el8dWBA3wP4hbQ9ZFAvA/iFtD1kUC8D9voz8UkgvwP8Pfw5RQFvA/6ZH3A+Ah8D+DZ+01fS7wP7veRn8oJPA/hZO6L48t8D9m1GSoly7wPx6mhLJgNPA/fOOFSEcx8D/lf3OXlTTwP8vjqsVtQvA/DRZsFpk78D+zYLRBDj3wP8SUUBaMNvA/FHTdqzs08D+jJkO9dC3wPyrTzsGaJfA/zRLjU6Yd8D/VE2Bpzg/wP1+bcDkmEfA/0Wp9R8ob8D9WHd77CyrwP0h8vggiNvA/64bFXNk88D+t70h5UzTwP4yaDPXSNfA/+wuqXzcs8D/vd7BoezTwP7Gx/G/uMvA/MNogh94t8D9844VIRzHwPx6mhLJgNPA/kfKm6PYz8D+Pxtnu5DTwPyHSUaxyM/A/r4Uvdtwz8D+Qxtnu5DTwP3MzUWH/NPA/N+FyTCI28D/ElFAWjDbwP6otlYK4NfA/kMbZ7uQ08D8=\",\"dtype\":\"float64\",\"order\":\"little\",\"shape\":[64]}},\"selected\":{\"id\":\"7762\"},\"selection_policy\":{\"id\":\"7776\"}},\"id\":\"7761\",\"type\":\"ColumnDataSource\"},{\"attributes\":{\"line_color\":\"#fc4f30\",\"line_width\":2,\"x\":{\"field\":\"timestamp\"},\"y\":{\"field\":\"value\"}},\"id\":\"7827\",\"type\":\"Line\"},{\"attributes\":{},\"id\":\"7795\",\"type\":\"Selection\"},{\"attributes\":{\"line_alpha\":0.2,\"line_color\":\"#fc4f30\",\"line_width\":2,\"x\":{\"field\":\"timestamp\"},\"y\":{\"field\":\"value\"}},\"id\":\"7799\",\"type\":\"Line\"},{\"attributes\":{\"line_color\":\"#e5ae38\",\"line_width\":2,\"x\":{\"field\":\"timestamp\"},\"y\":{\"field\":\"value\"}},\"id\":\"7863\",\"type\":\"Line\"},{\"attributes\":{\"days\":[1,4,7,10,13,16,19,22,25,28]},\"id\":\"7783\",\"type\":\"DaysTicker\"},{\"attributes\":{\"coordinates\":null,\"group\":null,\"text_color\":\"black\",\"text_font_size\":\"12pt\"},\"id\":\"7726\",\"type\":\"Title\"},{\"attributes\":{\"months\":[0,6]},\"id\":\"7789\",\"type\":\"MonthsTicker\"},{\"attributes\":{\"days\":[1,2,3,4,5,6,7,8,9,10,11,12,13,14,15,16,17,18,19,20,21,22,23,24,25,26,27,28,29,30,31]},\"id\":\"7782\",\"type\":\"DaysTicker\"},{\"attributes\":{\"axis_label\":\"timestamp\",\"coordinates\":null,\"formatter\":{\"id\":\"7756\"},\"group\":null,\"major_label_policy\":{\"id\":\"7757\"},\"ticker\":{\"id\":\"7735\"}},\"id\":\"7734\",\"type\":\"DatetimeAxis\"},{\"attributes\":{\"data\":{\"Variable\":[\"TSLA\",\"TSLA\",\"TSLA\",\"TSLA\",\"TSLA\",\"TSLA\",\"TSLA\",\"TSLA\",\"TSLA\",\"TSLA\",\"TSLA\",\"TSLA\",\"TSLA\",\"TSLA\",\"TSLA\",\"TSLA\",\"TSLA\",\"TSLA\",\"TSLA\",\"TSLA\",\"TSLA\",\"TSLA\",\"TSLA\",\"TSLA\",\"TSLA\",\"TSLA\",\"TSLA\",\"TSLA\",\"TSLA\",\"TSLA\",\"TSLA\",\"TSLA\",\"TSLA\",\"TSLA\",\"TSLA\",\"TSLA\",\"TSLA\",\"TSLA\",\"TSLA\",\"TSLA\",\"TSLA\",\"TSLA\",\"TSLA\",\"TSLA\",\"TSLA\",\"TSLA\",\"TSLA\",\"TSLA\",\"TSLA\",\"TSLA\",\"TSLA\",\"TSLA\",\"TSLA\",\"TSLA\",\"TSLA\",\"TSLA\",\"TSLA\",\"TSLA\",\"TSLA\",\"TSLA\",\"TSLA\",\"TSLA\",\"TSLA\",\"TSLA\"],\"timestamp\":{\"__ndarray__\":\"AAAA6MYLeEIAALrDxwt4QgAAdJ/IC3hCAAAue8kLeEIAAOhWygt4QgAAojLLC3hCAABcDswLeEIAABbqzAt4QgAA0MXNC3hCAACKoc4LeEIAAER9zwt4QgAA/ljQC3hCAAC4NNELeEIAAHIQ0gt4QgAALOzSC3hCAADmx9MLeEIAAKCj1At4QgAAWn/VC3hCAAAUW9YLeEIAAM421wt4QgAAiBLYC3hCAABC7tgLeEIAAPzJ2Qt4QgAAtqXaC3hCAABwgdsLeEIAACpd3At4QgAA5DjdC3hCAACeFN4LeEIAAFjw3gt4QgAAEszfC3hCAADMp+ALeEIAAIaD4Qt4QgAAQF/iC3hCAAD6OuMLeEIAALQW5At4QgAAbvLkC3hCAAAozuULeEIAAOKp5gt4QgAAnIXnC3hCAABWYegLeEIAABA96Qt4QgAAyhjqC3hCAACE9OoLeEIAAD7Q6wt4QgAA+KvsC3hCAACyh+0LeEIAAGxj7gt4QgAAJj/vC3hCAADgGvALeEIAAJr28At4QgAAVNLxC3hCAAAOrvILeEIAAMiJ8wt4QgAAgmX0C3hCAAA8QfULeEIAAPYc9gt4QgAAsPj2C3hCAABq1PcLeEIAACSw+At4QgAA3ov5C3hCAACYZ/oLeEIAAFJD+wt4QgAADB/8C3hCAADG+vwLeEI=\",\"dtype\":\"float64\",\"order\":\"little\",\"shape\":[64]},\"value\":{\"__ndarray__\":\"AAAAAAAA+H96X+2fZv3vP1GAJ6ay7e8/3TyQv2fw7z90UFfyLgzwPwsvMyU8++8/Cy8zJTz77z+8A5T2R0TwP0CAwiD0MvA/l0RrdJg+8D+uvTynAkTwP669PKcCRPA/P42CLNhB8D83lCXYf2TwP5J4a6MoevA/8iixP0FU8D8JooJyq1nwPyuI6xcHjPA/efHuk7B08D9lhsg9VG/wP/BCMVcJcvA/l2yWaG5c8D/ZkLgUUxjwP/6/h6ypNvA/boyilwQp8D8xJq3Y4UDwP8xFpIekOvA/MUcr3ZJB8D9AjYIs2EHwP3u8A5T2R/A/yssOpYFJ8D+jB7STv0jwP1JZBjWtm/A/qkxjGGeK8D9ryknrRY3wP7/e6TKae/A/xn3rdB2A8D9++1Ky1WrwP8I+nFY+XfA/zNBANJRE8D+3oj6qRCHwP0Z07eU5FfA/rOknXiUi8D+QI+MrakPwP4sWji2yV/A/REqu68Jf8D+dV0jguDnwP1P4qII0R/A/xTYO2mxJ8D/FNg7abEnwPwuVwmbHSvA/P+iobqxM8D9R83bzIUzwP7sQVAIsU/A/pGJG0kNb8D8sQQ59VlXwP8VDzuVQWPA/7hXU0yBZ8D8KooJyq1nwPyYuMRE2WvA/lV7ri2Bc8D+pyRHivGHwPzJ4zx5kZPA/+2jrLkpo8D8=\",\"dtype\":\"float64\",\"order\":\"little\",\"shape\":[64]}},\"selected\":{\"id\":\"7829\"},\"selection_policy\":{\"id\":\"7847\"}},\"id\":\"7828\",\"type\":\"ColumnDataSource\"},{\"attributes\":{\"source\":{\"id\":\"7864\"}},\"id\":\"7871\",\"type\":\"CDSView\"},{\"attributes\":{\"line_color\":\"#6d904f\",\"line_width\":2,\"x\":{\"field\":\"timestamp\"},\"y\":{\"field\":\"value\"}},\"id\":\"7867\",\"type\":\"Line\"},{\"attributes\":{},\"id\":\"7903\",\"type\":\"Selection\"},{\"attributes\":{\"days\":[1,8,15,22]},\"id\":\"7784\",\"type\":\"DaysTicker\"},{\"attributes\":{\"data\":{\"Variable\":[\"AMC\",\"AMC\",\"AMC\",\"AMC\",\"AMC\",\"AMC\",\"AMC\",\"AMC\",\"AMC\",\"AMC\",\"AMC\",\"AMC\",\"AMC\",\"AMC\",\"AMC\",\"AMC\",\"AMC\",\"AMC\",\"AMC\",\"AMC\",\"AMC\",\"AMC\",\"AMC\",\"AMC\",\"AMC\",\"AMC\",\"AMC\",\"AMC\",\"AMC\",\"AMC\",\"AMC\",\"AMC\",\"AMC\",\"AMC\",\"AMC\",\"AMC\",\"AMC\",\"AMC\",\"AMC\",\"AMC\",\"AMC\",\"AMC\",\"AMC\",\"AMC\",\"AMC\",\"AMC\",\"AMC\",\"AMC\",\"AMC\",\"AMC\",\"AMC\",\"AMC\",\"AMC\",\"AMC\",\"AMC\",\"AMC\",\"AMC\",\"AMC\",\"AMC\",\"AMC\",\"AMC\",\"AMC\",\"AMC\",\"AMC\"],\"timestamp\":{\"__ndarray__\":\"AAAA6MYLeEIAALrDxwt4QgAAdJ/IC3hCAAAue8kLeEIAAOhWygt4QgAAojLLC3hCAABcDswLeEIAABbqzAt4QgAA0MXNC3hCAACKoc4LeEIAAER9zwt4QgAA/ljQC3hCAAC4NNELeEIAAHIQ0gt4QgAALOzSC3hCAADmx9MLeEIAAKCj1At4QgAAWn/VC3hCAAAUW9YLeEIAAM421wt4QgAAiBLYC3hCAABC7tgLeEIAAPzJ2Qt4QgAAtqXaC3hCAABwgdsLeEIAACpd3At4QgAA5DjdC3hCAACeFN4LeEIAAFjw3gt4QgAAEszfC3hCAADMp+ALeEIAAIaD4Qt4QgAAQF/iC3hCAAD6OuMLeEIAALQW5At4QgAAbvLkC3hCAAAozuULeEIAAOKp5gt4QgAAnIXnC3hCAABWYegLeEIAABA96Qt4QgAAyhjqC3hCAACE9OoLeEIAAD7Q6wt4QgAA+KvsC3hCAACyh+0LeEIAAGxj7gt4QgAAJj/vC3hCAADgGvALeEIAAJr28At4QgAAVNLxC3hCAAAOrvILeEIAAMiJ8wt4QgAAgmX0C3hCAAA8QfULeEIAAPYc9gt4QgAAsPj2C3hCAABq1PcLeEIAACSw+At4QgAA3ov5C3hCAACYZ/oLeEIAAFJD+wt4QgAADB/8C3hCAADG+vwLeEI=\",\"dtype\":\"float64\",\"order\":\"little\",\"shape\":[64]},\"value\":{\"__ndarray__\":\"AAAAAAAA+H+wORawORbwP3CCDXCCDfA/kG8AkG8A8D8gyhUgyhXwP3BtInBtIvA/gGAfgGAf8D+gRhmgRhnwP1CVGlCVGvA/kGEOkGEO8D+gVAugVAvwP5BvAJBvAPA/Ed4REN4R8D+wORawORbwP/DGSPDGSPA/MIVKMIVK8D8gfWIgfWLwP6Drc6Drc/A/L2JtMGJt8D8vYm0wYm3wP8+9cdC9cfA/YMTaYMTa8D+xLCGyLCHyPzCzGzGzG/E/iSlNiSlN8T/xb57xb57xP6Qf1aQf1fA/YL3hYL3h8D9AtApBtArxP7C3/bC3/fA/3yvz4Cvz8D/oyBrpyBrxP8jSY8nSY/E/f3kFgXkF8T//A/sABPvwP69n57Bn5/A/oHTqoHTq8D/QVNrQVNrwP0+5j1C5j/A/H3ZpIHZp8D/5+zItL2bwPyCEWyCEW/A/YFdIYFdI8D8vYm0wYm3wP28LhHALhPA/L0aJMEaJ8D+Y0pSY0pTwPwFDvABDvPA/8UjG8EjG8D/xQc3wQc3wP6GewKCewPA/AVGuAFGu8D9R5shQ5sjwP5pLLzPlyPA/mksvM+XI8D+aSy8z5cjwPwFKtQBKtfA/AUq1AEq18D9x759w75/wP3Hvn3Dvn/A/ksCukMCu8D+SwK6QwK7wP5LArpDArvA/ksCukMCu8D8=\",\"dtype\":\"float64\",\"order\":\"little\",\"shape\":[64]}},\"selected\":{\"id\":\"7865\"},\"selection_policy\":{\"id\":\"7885\"}},\"id\":\"7864\",\"type\":\"ColumnDataSource\"},{\"attributes\":{},\"id\":\"7762\",\"type\":\"Selection\"},{\"attributes\":{\"months\":[0,1,2,3,4,5,6,7,8,9,10,11]},\"id\":\"7786\",\"type\":\"MonthsTicker\"},{\"attributes\":{\"source\":{\"id\":\"7761\"}},\"id\":\"7768\",\"type\":\"CDSView\"},{\"attributes\":{\"mantissas\":[1,2,5],\"max_interval\":500.0,\"num_minor_ticks\":0},\"id\":\"7779\",\"type\":\"AdaptiveTicker\"},{\"attributes\":{},\"id\":\"7732\",\"type\":\"LinearScale\"},{\"attributes\":{\"line_color\":\"#e5ae38\",\"line_width\":2,\"x\":{\"field\":\"timestamp\"},\"y\":{\"field\":\"value\"}},\"id\":\"7831\",\"type\":\"Line\"},{\"attributes\":{},\"id\":\"7776\",\"type\":\"UnionRenderers\"},{\"attributes\":{\"line_color\":\"#6d904f\",\"line_width\":2,\"x\":{\"field\":\"timestamp\"},\"y\":{\"field\":\"value\"}},\"id\":\"7901\",\"type\":\"Line\"},{\"attributes\":{\"end\":1.1473522709448853,\"reset_end\":1.1473522709448853,\"reset_start\":0.9763162101584442,\"start\":0.9763162101584442,\"tags\":[[[\"value\",\"value\",null]]]},\"id\":\"7719\",\"type\":\"Range1d\"},{\"attributes\":{},\"id\":\"7742\",\"type\":\"SaveTool\"},{\"attributes\":{},\"id\":\"7760\",\"type\":\"AllLabels\"},{\"attributes\":{\"days\":[1,15]},\"id\":\"7785\",\"type\":\"DaysTicker\"},{\"attributes\":{\"margin\":[5,5,5,5],\"name\":\"HSpacer09950\",\"sizing_mode\":\"stretch_width\"},\"id\":\"8212\",\"type\":\"Spacer\"},{\"attributes\":{},\"id\":\"7811\",\"type\":\"UnionRenderers\"},{\"attributes\":{\"label\":{\"value\":\"AMC\"},\"renderers\":[{\"id\":\"7870\"}]},\"id\":\"7900\",\"type\":\"LegendItem\"},{\"attributes\":{\"coordinates\":null,\"data_source\":{\"id\":\"7828\"},\"glyph\":{\"id\":\"7831\"},\"group\":null,\"hover_glyph\":null,\"muted_glyph\":{\"id\":\"7833\"},\"nonselection_glyph\":{\"id\":\"7832\"},\"selection_glyph\":{\"id\":\"7863\"},\"view\":{\"id\":\"7835\"}},\"id\":\"7834\",\"type\":\"GlyphRenderer\"},{\"attributes\":{},\"id\":\"7847\",\"type\":\"UnionRenderers\"},{\"attributes\":{\"line_alpha\":0.1,\"line_color\":\"#30a2da\",\"line_width\":2,\"x\":{\"field\":\"timestamp\"},\"y\":{\"field\":\"value\"}},\"id\":\"7765\",\"type\":\"Line\"},{\"attributes\":{\"label\":{\"value\":\"AMD\"},\"renderers\":[{\"id\":\"7908\"}]},\"id\":\"7940\",\"type\":\"LegendItem\"},{\"attributes\":{\"months\":[0,2,4,6,8,10]},\"id\":\"7787\",\"type\":\"MonthsTicker\"},{\"attributes\":{\"overlay\":{\"id\":\"7747\"}},\"id\":\"7745\",\"type\":\"BoxZoomTool\"},{\"attributes\":{},\"id\":\"7865\",\"type\":\"Selection\"},{\"attributes\":{\"data\":{\"Variable\":[\"GME\",\"GME\",\"GME\",\"GME\",\"GME\",\"GME\",\"GME\",\"GME\",\"GME\",\"GME\",\"GME\",\"GME\",\"GME\",\"GME\",\"GME\",\"GME\",\"GME\",\"GME\",\"GME\",\"GME\",\"GME\",\"GME\",\"GME\",\"GME\",\"GME\",\"GME\",\"GME\",\"GME\",\"GME\",\"GME\",\"GME\",\"GME\",\"GME\",\"GME\",\"GME\",\"GME\",\"GME\",\"GME\",\"GME\",\"GME\",\"GME\",\"GME\",\"GME\",\"GME\",\"GME\",\"GME\",\"GME\",\"GME\",\"GME\",\"GME\",\"GME\",\"GME\",\"GME\",\"GME\",\"GME\",\"GME\",\"GME\",\"GME\",\"GME\",\"GME\",\"GME\",\"GME\",\"GME\",\"GME\"],\"timestamp\":{\"__ndarray__\":\"AAAA6MYLeEIAALrDxwt4QgAAdJ/IC3hCAAAue8kLeEIAAOhWygt4QgAAojLLC3hCAABcDswLeEIAABbqzAt4QgAA0MXNC3hCAACKoc4LeEIAAER9zwt4QgAA/ljQC3hCAAC4NNELeEIAAHIQ0gt4QgAALOzSC3hCAADmx9MLeEIAAKCj1At4QgAAWn/VC3hCAAAUW9YLeEIAAM421wt4QgAAiBLYC3hCAABC7tgLeEIAAPzJ2Qt4QgAAtqXaC3hCAABwgdsLeEIAACpd3At4QgAA5DjdC3hCAACeFN4LeEIAAFjw3gt4QgAAEszfC3hCAADMp+ALeEIAAIaD4Qt4QgAAQF/iC3hCAAD6OuMLeEIAALQW5At4QgAAbvLkC3hCAAAozuULeEIAAOKp5gt4QgAAnIXnC3hCAABWYegLeEIAABA96Qt4QgAAyhjqC3hCAACE9OoLeEIAAD7Q6wt4QgAA+KvsC3hCAACyh+0LeEIAAGxj7gt4QgAAJj/vC3hCAADgGvALeEIAAJr28At4QgAAVNLxC3hCAAAOrvILeEIAAMiJ8wt4QgAAgmX0C3hCAAA8QfULeEIAAPYc9gt4QgAAsPj2C3hCAABq1PcLeEIAACSw+At4QgAA3ov5C3hCAACYZ/oLeEIAAFJD+wt4QgAADB/8C3hCAADG+vwLeEI=\",\"dtype\":\"float64\",\"order\":\"little\",\"shape\":[64]},\"value\":{\"__ndarray__\":\"AAAAAAAA+H+wORawORbwP3CCDXCCDfA/kG8AkG8A8D8gyhUgyhXwP3BtInBtIvA/gGAfgGAf8D+gRhmgRhnwP1CVGlCVGvA/kGEOkGEO8D+gVAugVAvwP5BvAJBvAPA/Ed4REN4R8D+wORawORbwP/DGSPDGSPA/MIVKMIVK8D8gfWIgfWLwP6Drc6Drc/A/L2JtMGJt8D8vYm0wYm3wP8+9cdC9cfA/YMTaYMTa8D+xLCGyLCHyPzCzGzGzG/E/iSlNiSlN8T/xb57xb57xP6Qf1aQf1fA/YL3hYL3h8D9AtApBtArxP7C3/bC3/fA/3yvz4Cvz8D/oyBrpyBrxP8jSY8nSY/E/f3kFgXkF8T//A/sABPvwP69n57Bn5/A/oHTqoHTq8D/QVNrQVNrwP0+5j1C5j/A/H3ZpIHZp8D/5+zItL2bwPyCEWyCEW/A/YFdIYFdI8D8vYm0wYm3wP28LhHALhPA/L0aJMEaJ8D+Y0pSY0pTwPwFDvABDvPA/8UjG8EjG8D/xQc3wQc3wP6GewKCewPA/AVGuAFGu8D9R5shQ5sjwP5pLLzPlyPA/mksvM+XI8D+aSy8z5cjwPwFKtQBKtfA/AUq1AEq18D9x759w75/wP3Hvn3Dvn/A/ksCukMCu8D+SwK6QwK7wP5LArpDArvA/ksCukMCu8D8=\",\"dtype\":\"float64\",\"order\":\"little\",\"shape\":[64]}},\"selected\":{\"id\":\"7795\"},\"selection_policy\":{\"id\":\"7811\"}},\"id\":\"7794\",\"type\":\"ColumnDataSource\"},{\"attributes\":{\"months\":[0,4,8]},\"id\":\"7788\",\"type\":\"MonthsTicker\"},{\"attributes\":{\"source\":{\"id\":\"7902\"}},\"id\":\"7909\",\"type\":\"CDSView\"},{\"attributes\":{\"line_color\":\"#30a2da\",\"line_width\":2,\"x\":{\"field\":\"timestamp\"},\"y\":{\"field\":\"value\"}},\"id\":\"7764\",\"type\":\"Line\"},{\"attributes\":{\"callback\":null,\"formatters\":{\"@{timestamp}\":\"datetime\"},\"renderers\":[{\"id\":\"7767\"},{\"id\":\"7800\"},{\"id\":\"7834\"},{\"id\":\"7870\"},{\"id\":\"7908\"}],\"tags\":[\"hv_created\"],\"tooltips\":[[\"Variable\",\"@{Variable}\"],[\"timestamp\",\"@{timestamp}{%F %T}\"],[\"value\",\"@{value}\"]]},\"id\":\"7720\",\"type\":\"HoverTool\"},{\"attributes\":{\"coordinates\":null,\"data_source\":{\"id\":\"7902\"},\"glyph\":{\"id\":\"7905\"},\"group\":null,\"hover_glyph\":null,\"muted_glyph\":{\"id\":\"7907\"},\"nonselection_glyph\":{\"id\":\"7906\"},\"selection_glyph\":{\"id\":\"7941\"},\"view\":{\"id\":\"7909\"}},\"id\":\"7908\",\"type\":\"GlyphRenderer\"},{\"attributes\":{\"line_color\":\"#fc4f30\",\"line_width\":2,\"x\":{\"field\":\"timestamp\"},\"y\":{\"field\":\"value\"}},\"id\":\"7797\",\"type\":\"Line\"},{\"attributes\":{},\"id\":\"7829\",\"type\":\"Selection\"},{\"attributes\":{},\"id\":\"7739\",\"type\":\"BasicTicker\"},{\"attributes\":{\"axis\":{\"id\":\"7738\"},\"coordinates\":null,\"dimension\":1,\"grid_line_color\":null,\"group\":null,\"ticker\":null},\"id\":\"7741\",\"type\":\"Grid\"},{\"attributes\":{\"below\":[{\"id\":\"7734\"}],\"center\":[{\"id\":\"7737\"},{\"id\":\"7741\"}],\"height\":300,\"left\":[{\"id\":\"7738\"}],\"margin\":[5,5,5,5],\"min_border_bottom\":10,\"min_border_left\":10,\"min_border_right\":10,\"min_border_top\":10,\"renderers\":[{\"id\":\"7767\"},{\"id\":\"7800\"},{\"id\":\"7834\"},{\"id\":\"7870\"},{\"id\":\"7908\"}],\"right\":[{\"id\":\"7791\"}],\"sizing_mode\":\"fixed\",\"title\":{\"id\":\"7726\"},\"toolbar\":{\"id\":\"7748\"},\"width\":700,\"x_range\":{\"id\":\"7718\"},\"x_scale\":{\"id\":\"7730\"},\"y_range\":{\"id\":\"7719\"},\"y_scale\":{\"id\":\"7732\"}},\"id\":\"7725\",\"subtype\":\"Figure\",\"type\":\"Plot\"},{\"attributes\":{\"coordinates\":null,\"data_source\":{\"id\":\"7864\"},\"glyph\":{\"id\":\"7867\"},\"group\":null,\"hover_glyph\":null,\"muted_glyph\":{\"id\":\"7869\"},\"nonselection_glyph\":{\"id\":\"7868\"},\"selection_glyph\":{\"id\":\"7901\"},\"view\":{\"id\":\"7871\"}},\"id\":\"7870\",\"type\":\"GlyphRenderer\"},{\"attributes\":{},\"id\":\"7759\",\"type\":\"BasicTickFormatter\"},{\"attributes\":{\"margin\":[5,5,5,5],\"name\":\"HSpacer09949\",\"sizing_mode\":\"stretch_width\"},\"id\":\"7717\",\"type\":\"Spacer\"},{\"attributes\":{\"coordinates\":null,\"data_source\":{\"id\":\"7794\"},\"glyph\":{\"id\":\"7797\"},\"group\":null,\"hover_glyph\":null,\"muted_glyph\":{\"id\":\"7799\"},\"nonselection_glyph\":{\"id\":\"7798\"},\"selection_glyph\":{\"id\":\"7827\"},\"view\":{\"id\":\"7801\"}},\"id\":\"7800\",\"type\":\"GlyphRenderer\"},{\"attributes\":{\"label\":{\"value\":\"SPY\"},\"renderers\":[{\"id\":\"7767\"}]},\"id\":\"7792\",\"type\":\"LegendItem\"},{\"attributes\":{},\"id\":\"7730\",\"type\":\"LinearScale\"},{\"attributes\":{\"line_alpha\":0.1,\"line_color\":\"#8b8b8b\",\"line_width\":2,\"x\":{\"field\":\"timestamp\"},\"y\":{\"field\":\"value\"}},\"id\":\"7906\",\"type\":\"Line\"},{\"attributes\":{\"num_minor_ticks\":5,\"tickers\":[{\"id\":\"7779\"},{\"id\":\"7780\"},{\"id\":\"7781\"},{\"id\":\"7782\"},{\"id\":\"7783\"},{\"id\":\"7784\"},{\"id\":\"7785\"},{\"id\":\"7786\"},{\"id\":\"7787\"},{\"id\":\"7788\"},{\"id\":\"7789\"},{\"id\":\"7790\"}]},\"id\":\"7735\",\"type\":\"DatetimeTicker\"},{\"attributes\":{},\"id\":\"7790\",\"type\":\"YearsTicker\"},{\"attributes\":{\"axis\":{\"id\":\"7734\"},\"coordinates\":null,\"grid_line_color\":null,\"group\":null,\"ticker\":null},\"id\":\"7737\",\"type\":\"Grid\"},{\"attributes\":{\"line_alpha\":0.1,\"line_color\":\"#e5ae38\",\"line_width\":2,\"x\":{\"field\":\"timestamp\"},\"y\":{\"field\":\"value\"}},\"id\":\"7832\",\"type\":\"Line\"},{\"attributes\":{\"line_alpha\":0.2,\"line_color\":\"#e5ae38\",\"line_width\":2,\"x\":{\"field\":\"timestamp\"},\"y\":{\"field\":\"value\"}},\"id\":\"7833\",\"type\":\"Line\"},{\"attributes\":{\"data\":{\"Variable\":[\"AMD\",\"AMD\",\"AMD\",\"AMD\",\"AMD\",\"AMD\",\"AMD\",\"AMD\",\"AMD\",\"AMD\",\"AMD\",\"AMD\",\"AMD\",\"AMD\",\"AMD\",\"AMD\",\"AMD\",\"AMD\",\"AMD\",\"AMD\",\"AMD\",\"AMD\",\"AMD\",\"AMD\",\"AMD\",\"AMD\",\"AMD\",\"AMD\",\"AMD\",\"AMD\",\"AMD\",\"AMD\",\"AMD\",\"AMD\",\"AMD\",\"AMD\",\"AMD\",\"AMD\",\"AMD\",\"AMD\",\"AMD\",\"AMD\",\"AMD\",\"AMD\",\"AMD\",\"AMD\",\"AMD\",\"AMD\",\"AMD\",\"AMD\",\"AMD\",\"AMD\",\"AMD\",\"AMD\",\"AMD\",\"AMD\",\"AMD\",\"AMD\",\"AMD\",\"AMD\",\"AMD\",\"AMD\",\"AMD\",\"AMD\"],\"timestamp\":{\"__ndarray__\":\"AAAA6MYLeEIAALrDxwt4QgAAdJ/IC3hCAAAue8kLeEIAAOhWygt4QgAAojLLC3hCAABcDswLeEIAABbqzAt4QgAA0MXNC3hCAACKoc4LeEIAAER9zwt4QgAA/ljQC3hCAAC4NNELeEIAAHIQ0gt4QgAALOzSC3hCAADmx9MLeEIAAKCj1At4QgAAWn/VC3hCAAAUW9YLeEIAAM421wt4QgAAiBLYC3hCAABC7tgLeEIAAPzJ2Qt4QgAAtqXaC3hCAABwgdsLeEIAACpd3At4QgAA5DjdC3hCAACeFN4LeEIAAFjw3gt4QgAAEszfC3hCAADMp+ALeEIAAIaD4Qt4QgAAQF/iC3hCAAD6OuMLeEIAALQW5At4QgAAbvLkC3hCAAAozuULeEIAAOKp5gt4QgAAnIXnC3hCAABWYegLeEIAABA96Qt4QgAAyhjqC3hCAACE9OoLeEIAAD7Q6wt4QgAA+KvsC3hCAACyh+0LeEIAAGxj7gt4QgAAJj/vC3hCAADgGvALeEIAAJr28At4QgAAVNLxC3hCAAAOrvILeEIAAMiJ8wt4QgAAgmX0C3hCAAA8QfULeEIAAPYc9gt4QgAAsPj2C3hCAABq1PcLeEIAACSw+At4QgAA3ov5C3hCAACYZ/oLeEIAAFJD+wt4QgAADB/8C3hCAADG+vwLeEI=\",\"dtype\":\"float64\",\"order\":\"little\",\"shape\":[64]},\"value\":{\"__ndarray__\":\"AAAAAAAA+H9+6FWZWwfwP5TU1NmP+e8/F+x+QDTy7z+YG8AsYQHwP5TU1NmP+e8/qcBTGsTr7z/4cSlaXfDvP76s0lr43e8/7eNStLrg7z+DF6pmpPjvP1TgKQ3i9e8/Fux+QDTy7z9FI/+Z9vTvP9tWVkzgDPA/gy9B7CwP8D9tKysmcAbwP2adIXPwEfA/8FpsEp0V8D/Q4BYsxhPwPzN+a6yTCvA/2vb5Nb6y7z+XlnA8TCjwPwf9Gx2IR/A/qn8yCUBk8D8xDvbNxpHwPyeYtq2smPA/SYlY/0K08D/+6mmq3tDwP4qVZ0Sc6fA/1qzU1lXt8D+kbDSgbgXxP42u5KWSHvE/YGHMiwAn8T8LNO6nrjDxPxSD4O5ZGvE/VuuMa+Yt8T9Hopa1tiHxP8qhqZbSA/E/nN5d+sv18D8HfvDq1NXwP+rr0HGY2PA/TS2IujLx8D8+FMAPFBLxP27sV3bCLPE/JJ1PymNQ8T8ubywisSfxP4d+qvzbDvE/xnJVyYkS8T/GclXJiRLxP7a1KlaeEfE/L1eVnCgR8T9O0eqC/xLxP8dyVcmJEvE/9anVIkwV8T8KllRjgAfxP7JuPwPNCfE/8mLqz3oN8T/n7KqvYBTxP/ap1SJMFfE/RFurYuUZ8T/rM5YCMhzxPznla0LLIPE/wUMB/EAh8T8=\",\"dtype\":\"float64\",\"order\":\"little\",\"shape\":[64]}},\"selected\":{\"id\":\"7903\"},\"selection_policy\":{\"id\":\"7925\"}},\"id\":\"7902\",\"type\":\"ColumnDataSource\"},{\"attributes\":{},\"id\":\"7757\",\"type\":\"AllLabels\"},{\"attributes\":{\"axis_label\":\"\",\"coordinates\":null,\"formatter\":{\"id\":\"7759\"},\"group\":null,\"major_label_policy\":{\"id\":\"7760\"},\"ticker\":{\"id\":\"7739\"}},\"id\":\"7738\",\"type\":\"LinearAxis\"},{\"attributes\":{},\"id\":\"7885\",\"type\":\"UnionRenderers\"},{\"attributes\":{\"base\":24,\"mantissas\":[1,2,4,6,8,12],\"max_interval\":43200000.0,\"min_interval\":3600000.0,\"num_minor_ticks\":0},\"id\":\"7781\",\"type\":\"AdaptiveTicker\"},{\"attributes\":{\"line_color\":\"#8b8b8b\",\"line_width\":2,\"x\":{\"field\":\"timestamp\"},\"y\":{\"field\":\"value\"}},\"id\":\"7941\",\"type\":\"Line\"},{\"attributes\":{\"line_alpha\":0.2,\"line_color\":\"#6d904f\",\"line_width\":2,\"x\":{\"field\":\"timestamp\"},\"y\":{\"field\":\"value\"}},\"id\":\"7869\",\"type\":\"Line\"},{\"attributes\":{\"end\":1652485500000.0,\"reset_end\":1652485500000.0,\"reset_start\":1652428800000.0,\"start\":1652428800000.0,\"tags\":[[[\"timestamp\",\"timestamp\",null]]]},\"id\":\"7718\",\"type\":\"Range1d\"},{\"attributes\":{\"source\":{\"id\":\"7828\"}},\"id\":\"7835\",\"type\":\"CDSView\"},{\"attributes\":{\"source\":{\"id\":\"7794\"}},\"id\":\"7801\",\"type\":\"CDSView\"},{\"attributes\":{\"tools\":[{\"id\":\"7720\"},{\"id\":\"7742\"},{\"id\":\"7743\"},{\"id\":\"7744\"},{\"id\":\"7745\"},{\"id\":\"7746\"}]},\"id\":\"7748\",\"type\":\"Toolbar\"},{\"attributes\":{\"click_policy\":\"mute\",\"coordinates\":null,\"group\":null,\"items\":[{\"id\":\"7792\"},{\"id\":\"7826\"},{\"id\":\"7862\"},{\"id\":\"7900\"},{\"id\":\"7940\"}],\"location\":[0,0],\"title\":\"Variable\"},\"id\":\"7791\",\"type\":\"Legend\"},{\"attributes\":{\"label\":{\"value\":\"TSLA\"},\"renderers\":[{\"id\":\"7834\"}]},\"id\":\"7862\",\"type\":\"LegendItem\"},{\"attributes\":{\"line_alpha\":0.2,\"line_color\":\"#30a2da\",\"line_width\":2,\"x\":{\"field\":\"timestamp\"},\"y\":{\"field\":\"value\"}},\"id\":\"7766\",\"type\":\"Line\"},{\"attributes\":{},\"id\":\"7746\",\"type\":\"ResetTool\"},{\"attributes\":{},\"id\":\"7744\",\"type\":\"WheelZoomTool\"},{\"attributes\":{\"line_alpha\":0.1,\"line_color\":\"#6d904f\",\"line_width\":2,\"x\":{\"field\":\"timestamp\"},\"y\":{\"field\":\"value\"}},\"id\":\"7868\",\"type\":\"Line\"},{\"attributes\":{\"line_alpha\":0.2,\"line_color\":\"#8b8b8b\",\"line_width\":2,\"x\":{\"field\":\"timestamp\"},\"y\":{\"field\":\"value\"}},\"id\":\"7907\",\"type\":\"Line\"},{\"attributes\":{\"children\":[{\"id\":\"7717\"},{\"id\":\"7725\"},{\"id\":\"8212\"}],\"margin\":[0,0,0,0],\"name\":\"Row09945\",\"tags\":[\"embedded\"]},\"id\":\"7716\",\"type\":\"Row\"},{\"attributes\":{},\"id\":\"7743\",\"type\":\"PanTool\"},{\"attributes\":{\"coordinates\":null,\"data_source\":{\"id\":\"7761\"},\"glyph\":{\"id\":\"7764\"},\"group\":null,\"hover_glyph\":null,\"muted_glyph\":{\"id\":\"7766\"},\"nonselection_glyph\":{\"id\":\"7765\"},\"selection_glyph\":{\"id\":\"7793\"},\"view\":{\"id\":\"7768\"}},\"id\":\"7767\",\"type\":\"GlyphRenderer\"},{\"attributes\":{\"base\":60,\"mantissas\":[1,2,5,10,15,20,30],\"max_interval\":1800000.0,\"min_interval\":1000.0,\"num_minor_ticks\":0},\"id\":\"7780\",\"type\":\"AdaptiveTicker\"},{\"attributes\":{\"line_color\":\"#8b8b8b\",\"line_width\":2,\"x\":{\"field\":\"timestamp\"},\"y\":{\"field\":\"value\"}},\"id\":\"7905\",\"type\":\"Line\"},{\"attributes\":{},\"id\":\"7756\",\"type\":\"DatetimeTickFormatter\"},{\"attributes\":{\"bottom_units\":\"screen\",\"coordinates\":null,\"fill_alpha\":0.5,\"fill_color\":\"lightgrey\",\"group\":null,\"left_units\":\"screen\",\"level\":\"overlay\",\"line_alpha\":1.0,\"line_color\":\"black\",\"line_dash\":[4,4],\"line_width\":2,\"right_units\":\"screen\",\"syncable\":false,\"top_units\":\"screen\"},\"id\":\"7747\",\"type\":\"BoxAnnotation\"},{\"attributes\":{\"label\":{\"value\":\"GME\"},\"renderers\":[{\"id\":\"7800\"}]},\"id\":\"7826\",\"type\":\"LegendItem\"},{\"attributes\":{},\"id\":\"7925\",\"type\":\"UnionRenderers\"}],\"root_ids\":[\"7716\"]},\"title\":\"Bokeh Application\",\"version\":\"2.4.1\"}};\n",
       "    var render_items = [{\"docid\":\"85f58f54-fc4e-42d2-8b7a-cca48a4f5791\",\"root_ids\":[\"7716\"],\"roots\":{\"7716\":\"9124396f-ab1c-43e5-907d-dd693d9e7a88\"}}];\n",
       "    root.Bokeh.embed.embed_items_notebook(docs_json, render_items);\n",
       "  }\n",
       "  if (root.Bokeh !== undefined && root.Bokeh.Panel !== undefined) {\n",
       "    embed_document(root);\n",
       "  } else {\n",
       "    var attempts = 0;\n",
       "    var timer = setInterval(function(root) {\n",
       "      if (root.Bokeh !== undefined && root.Bokeh.Panel !== undefined) {\n",
       "        clearInterval(timer);\n",
       "        embed_document(root);\n",
       "      } else if (document.readyState == \"complete\") {\n",
       "        attempts++;\n",
       "        if (attempts > 200) {\n",
       "          clearInterval(timer);\n",
       "          console.log(\"Bokeh: ERROR: Unable to run BokehJS code because BokehJS library is missing\");\n",
       "        }\n",
       "      }\n",
       "    }, 25, root)\n",
       "  }\n",
       "})(window);</script>"
      ],
      "text/plain": [
       ":NdOverlay   [Variable]\n",
       "   :Curve   [timestamp]   (value)"
      ]
     },
     "execution_count": 69,
     "metadata": {
      "application/vnd.holoviews_exec.v0+json": {
       "id": "7716"
      }
     },
     "output_type": "execute_result"
    }
   ],
   "source": [
    "# prices_df_plot = (prices_df.pct_change()).hvplot()\n",
    "prices_df_plot = (1 + prices_df.pct_change()).cumprod().hvplot()\n",
    "prices_df_plot"
   ]
  },
  {
   "cell_type": "code",
   "execution_count": 70,
   "id": "05d00de2-1c28-47c4-ac43-5deefe3811d9",
   "metadata": {},
   "outputs": [],
   "source": [
    "# top_5_stocks_prices = {'mentions': int(top_5_mentions_stocks[0]['mentions']), 'mentions_24h_ago': int(top_5_mentions_stocks[0]['mentions_24h_ago'])}\n",
    "# top_5_stocks_prices"
   ]
  },
  {
   "cell_type": "code",
   "execution_count": 71,
   "id": "b6bc5f18-ae8e-4827-8bc1-9700e0436193",
   "metadata": {},
   "outputs": [
    {
     "data": {},
     "metadata": {},
     "output_type": "display_data"
    },
    {
     "data": {
      "application/vnd.holoviews_exec.v0+json": "",
      "text/html": [
       "<div id='8364'>\n",
       "\n",
       "\n",
       "\n",
       "\n",
       "\n",
       "  <div class=\"bk-root\" id=\"aaf113ec-1396-4c78-aee4-87362d544ac6\" data-root-id=\"8364\"></div>\n",
       "</div>\n",
       "<script type=\"application/javascript\">(function(root) {\n",
       "  function embed_document(root) {\n",
       "    var docs_json = {\"ffb35a43-c4ec-4826-a683-86af7ecfd9b8\":{\"defs\":[{\"extends\":null,\"module\":null,\"name\":\"ReactiveHTML1\",\"overrides\":[],\"properties\":[]},{\"extends\":null,\"module\":null,\"name\":\"FlexBox1\",\"overrides\":[],\"properties\":[{\"default\":\"flex-start\",\"kind\":null,\"name\":\"align_content\"},{\"default\":\"flex-start\",\"kind\":null,\"name\":\"align_items\"},{\"default\":\"row\",\"kind\":null,\"name\":\"flex_direction\"},{\"default\":\"wrap\",\"kind\":null,\"name\":\"flex_wrap\"},{\"default\":\"flex-start\",\"kind\":null,\"name\":\"justify_content\"}]},{\"extends\":null,\"module\":null,\"name\":\"GridStack1\",\"overrides\":[],\"properties\":[{\"default\":\"warn\",\"kind\":null,\"name\":\"mode\"},{\"default\":null,\"kind\":null,\"name\":\"ncols\"},{\"default\":null,\"kind\":null,\"name\":\"nrows\"},{\"default\":true,\"kind\":null,\"name\":\"allow_resize\"},{\"default\":true,\"kind\":null,\"name\":\"allow_drag\"},{\"default\":[],\"kind\":null,\"name\":\"state\"}]},{\"extends\":null,\"module\":null,\"name\":\"click1\",\"overrides\":[],\"properties\":[{\"default\":\"\",\"kind\":null,\"name\":\"terminal_output\"},{\"default\":\"\",\"kind\":null,\"name\":\"debug_name\"},{\"default\":0,\"kind\":null,\"name\":\"clears\"}]},{\"extends\":null,\"module\":null,\"name\":\"TemplateActions1\",\"overrides\":[],\"properties\":[{\"default\":0,\"kind\":null,\"name\":\"open_modal\"},{\"default\":0,\"kind\":null,\"name\":\"close_modal\"}]},{\"extends\":null,\"module\":null,\"name\":\"MaterialTemplateActions1\",\"overrides\":[],\"properties\":[{\"default\":0,\"kind\":null,\"name\":\"open_modal\"},{\"default\":0,\"kind\":null,\"name\":\"close_modal\"}]}],\"roots\":{\"references\":[{\"attributes\":{\"end\":201.8,\"reset_end\":201.8,\"reset_start\":0.0,\"tags\":[[[\"mentions\",\"mentions\",null]]]},\"id\":\"8367\",\"type\":\"Range1d\"},{\"attributes\":{\"coordinates\":null,\"group\":null,\"text\":\"mentions\",\"text_color\":\"black\",\"text_font_size\":\"12pt\"},\"id\":\"8370\",\"type\":\"Title\"},{\"attributes\":{\"below\":[{\"id\":\"8378\"}],\"center\":[{\"id\":\"8380\"},{\"id\":\"8384\"}],\"height\":300,\"left\":[{\"id\":\"8381\"}],\"margin\":[5,5,5,5],\"min_border_bottom\":10,\"min_border_left\":10,\"min_border_right\":10,\"min_border_top\":10,\"renderers\":[{\"id\":\"8404\"}],\"sizing_mode\":\"fixed\",\"title\":{\"id\":\"8370\"},\"toolbar\":{\"id\":\"8391\"},\"width\":700,\"x_range\":{\"id\":\"8366\"},\"x_scale\":{\"id\":\"8374\"},\"y_range\":{\"id\":\"8367\"},\"y_scale\":{\"id\":\"8376\"}},\"id\":\"8369\",\"subtype\":\"Figure\",\"type\":\"Plot\"},{\"attributes\":{\"fill_alpha\":{\"value\":0.2},\"fill_color\":{\"value\":\"#30a2da\"},\"hatch_alpha\":{\"value\":0.2},\"hatch_color\":{\"value\":\"#30a2da\"},\"line_alpha\":{\"value\":0.2},\"top\":{\"field\":\"mentions\"},\"width\":{\"value\":0.8},\"x\":{\"field\":\"ticker\"}},\"id\":\"8403\",\"type\":\"VBar\"},{\"attributes\":{\"axis_label\":\"\",\"coordinates\":null,\"formatter\":{\"id\":\"8411\"},\"group\":null,\"major_label_policy\":{\"id\":\"8412\"},\"ticker\":{\"id\":\"8382\"}},\"id\":\"8381\",\"type\":\"LinearAxis\"},{\"attributes\":{\"overlay\":{\"id\":\"8390\"}},\"id\":\"8388\",\"type\":\"BoxZoomTool\"},{\"attributes\":{},\"id\":\"8386\",\"type\":\"PanTool\"},{\"attributes\":{},\"id\":\"8379\",\"type\":\"CategoricalTicker\"},{\"attributes\":{\"source\":{\"id\":\"8398\"}},\"id\":\"8405\",\"type\":\"CDSView\"},{\"attributes\":{\"margin\":[5,5,5,5],\"name\":\"HSpacer10770\",\"sizing_mode\":\"stretch_width\"},\"id\":\"8365\",\"type\":\"Spacer\"},{\"attributes\":{\"axis\":{\"id\":\"8381\"},\"coordinates\":null,\"dimension\":1,\"grid_line_color\":null,\"group\":null,\"ticker\":null},\"id\":\"8384\",\"type\":\"Grid\"},{\"attributes\":{\"margin\":[5,5,5,5],\"name\":\"HSpacer10771\",\"sizing_mode\":\"stretch_width\"},\"id\":\"8433\",\"type\":\"Spacer\"},{\"attributes\":{\"fill_color\":{\"value\":\"#30a2da\"},\"hatch_color\":{\"value\":\"#30a2da\"},\"top\":{\"field\":\"mentions\"},\"width\":{\"value\":0.8},\"x\":{\"field\":\"ticker\"}},\"id\":\"8401\",\"type\":\"VBar\"},{\"attributes\":{},\"id\":\"8382\",\"type\":\"BasicTicker\"},{\"attributes\":{},\"id\":\"8376\",\"type\":\"LinearScale\"},{\"attributes\":{},\"id\":\"8412\",\"type\":\"AllLabels\"},{\"attributes\":{},\"id\":\"8399\",\"type\":\"Selection\"},{\"attributes\":{\"axis\":{\"id\":\"8378\"},\"coordinates\":null,\"grid_line_color\":null,\"group\":null,\"ticker\":null},\"id\":\"8380\",\"type\":\"Grid\"},{\"attributes\":{\"fill_alpha\":{\"value\":0.1},\"fill_color\":{\"value\":\"#30a2da\"},\"hatch_alpha\":{\"value\":0.1},\"hatch_color\":{\"value\":\"#30a2da\"},\"line_alpha\":{\"value\":0.1},\"top\":{\"field\":\"mentions\"},\"width\":{\"value\":0.8},\"x\":{\"field\":\"ticker\"}},\"id\":\"8402\",\"type\":\"VBar\"},{\"attributes\":{},\"id\":\"8408\",\"type\":\"CategoricalTickFormatter\"},{\"attributes\":{\"bottom\":{\"value\":0},\"fill_alpha\":{\"value\":1.0},\"fill_color\":{\"value\":\"#30a2da\"},\"hatch_alpha\":{\"value\":1.0},\"hatch_color\":{\"value\":\"#30a2da\"},\"hatch_scale\":{\"value\":12.0},\"hatch_weight\":{\"value\":1.0},\"line_alpha\":{\"value\":1.0},\"line_cap\":{\"value\":\"butt\"},\"line_color\":{\"value\":\"black\"},\"line_dash\":{\"value\":[]},\"line_dash_offset\":{\"value\":0},\"line_join\":{\"value\":\"bevel\"},\"line_width\":{\"value\":1},\"top\":{\"field\":\"mentions\"},\"width\":{\"value\":0.8},\"x\":{\"field\":\"ticker\"}},\"id\":\"8406\",\"type\":\"VBar\"},{\"attributes\":{},\"id\":\"8411\",\"type\":\"BasicTickFormatter\"},{\"attributes\":{},\"id\":\"8374\",\"type\":\"CategoricalScale\"},{\"attributes\":{\"bottom_units\":\"screen\",\"coordinates\":null,\"fill_alpha\":0.5,\"fill_color\":\"lightgrey\",\"group\":null,\"left_units\":\"screen\",\"level\":\"overlay\",\"line_alpha\":1.0,\"line_color\":\"black\",\"line_dash\":[4,4],\"line_width\":2,\"right_units\":\"screen\",\"syncable\":false,\"top_units\":\"screen\"},\"id\":\"8390\",\"type\":\"BoxAnnotation\"},{\"attributes\":{\"coordinates\":null,\"data_source\":{\"id\":\"8398\"},\"glyph\":{\"id\":\"8401\"},\"group\":null,\"hover_glyph\":null,\"muted_glyph\":{\"id\":\"8403\"},\"nonselection_glyph\":{\"id\":\"8402\"},\"selection_glyph\":{\"id\":\"8406\"},\"view\":{\"id\":\"8405\"}},\"id\":\"8404\",\"type\":\"GlyphRenderer\"},{\"attributes\":{\"data\":{\"mentions\":[187,112,63,60,39],\"ticker\":[\"SPY\",\"GME\",\"TSLA\",\"AMC\",\"AMD\"]},\"selected\":{\"id\":\"8399\"},\"selection_policy\":{\"id\":\"8420\"}},\"id\":\"8398\",\"type\":\"ColumnDataSource\"},{\"attributes\":{\"tools\":[{\"id\":\"8368\"},{\"id\":\"8385\"},{\"id\":\"8386\"},{\"id\":\"8387\"},{\"id\":\"8388\"},{\"id\":\"8389\"}]},\"id\":\"8391\",\"type\":\"Toolbar\"},{\"attributes\":{},\"id\":\"8420\",\"type\":\"UnionRenderers\"},{\"attributes\":{\"factors\":[\"SPY\",\"GME\",\"TSLA\",\"AMC\",\"AMD\"],\"tags\":[[[\"ticker\",\"ticker\",null]]]},\"id\":\"8366\",\"type\":\"FactorRange\"},{\"attributes\":{},\"id\":\"8389\",\"type\":\"ResetTool\"},{\"attributes\":{\"axis_label\":\"ticker\",\"coordinates\":null,\"formatter\":{\"id\":\"8408\"},\"group\":null,\"major_label_policy\":{\"id\":\"8409\"},\"ticker\":{\"id\":\"8379\"}},\"id\":\"8378\",\"type\":\"CategoricalAxis\"},{\"attributes\":{\"callback\":null,\"renderers\":[{\"id\":\"8404\"}],\"tags\":[\"hv_created\"],\"tooltips\":[[\"ticker\",\"@{ticker}\"],[\"mentions\",\"@{mentions}\"]]},\"id\":\"8368\",\"type\":\"HoverTool\"},{\"attributes\":{\"children\":[{\"id\":\"8365\"},{\"id\":\"8369\"},{\"id\":\"8433\"}],\"margin\":[0,0,0,0],\"name\":\"Row10766\",\"tags\":[\"embedded\"]},\"id\":\"8364\",\"type\":\"Row\"},{\"attributes\":{},\"id\":\"8409\",\"type\":\"AllLabels\"},{\"attributes\":{},\"id\":\"8387\",\"type\":\"WheelZoomTool\"},{\"attributes\":{},\"id\":\"8385\",\"type\":\"SaveTool\"}],\"root_ids\":[\"8364\"]},\"title\":\"Bokeh Application\",\"version\":\"2.4.1\"}};\n",
       "    var render_items = [{\"docid\":\"ffb35a43-c4ec-4826-a683-86af7ecfd9b8\",\"root_ids\":[\"8364\"],\"roots\":{\"8364\":\"aaf113ec-1396-4c78-aee4-87362d544ac6\"}}];\n",
       "    root.Bokeh.embed.embed_items_notebook(docs_json, render_items);\n",
       "  }\n",
       "  if (root.Bokeh !== undefined && root.Bokeh.Panel !== undefined) {\n",
       "    embed_document(root);\n",
       "  } else {\n",
       "    var attempts = 0;\n",
       "    var timer = setInterval(function(root) {\n",
       "      if (root.Bokeh !== undefined && root.Bokeh.Panel !== undefined) {\n",
       "        clearInterval(timer);\n",
       "        embed_document(root);\n",
       "      } else if (document.readyState == \"complete\") {\n",
       "        attempts++;\n",
       "        if (attempts > 200) {\n",
       "          clearInterval(timer);\n",
       "          console.log(\"Bokeh: ERROR: Unable to run BokehJS code because BokehJS library is missing\");\n",
       "        }\n",
       "      }\n",
       "    }, 25, root)\n",
       "  }\n",
       "})(window);</script>"
      ],
      "text/plain": [
       ":Bars   [ticker]   (mentions)"
      ]
     },
     "execution_count": 71,
     "metadata": {
      "application/vnd.holoviews_exec.v0+json": {
       "id": "8364"
      }
     },
     "output_type": "execute_result"
    }
   ],
   "source": [
    "mentions_top_5_plot = top_5_mentions_stocks_df.hvplot(kind='bar')\n",
    "mentions_top_5_plot"
   ]
  },
  {
   "cell_type": "code",
   "execution_count": 72,
   "id": "c708fb5f-7665-47e2-9d7b-a88002ff2461",
   "metadata": {},
   "outputs": [],
   "source": [
    "overlayplot = prices_df_plot + mentions_top_5_plot\n",
    "# hvplot - google 2 plot same graph"
   ]
  },
  {
   "cell_type": "code",
   "execution_count": 73,
   "id": "dda4b84a-eb01-40a2-843c-9a2188da4a34",
   "metadata": {},
   "outputs": [
    {
     "data": {},
     "metadata": {},
     "output_type": "display_data"
    },
    {
     "data": {
      "application/vnd.holoviews_exec.v0+json": "",
      "text/html": [
       "<div id='8485'>\n",
       "\n",
       "\n",
       "\n",
       "\n",
       "\n",
       "  <div class=\"bk-root\" id=\"6149048d-0f0b-4a4e-b93c-33001c58d7e6\" data-root-id=\"8485\"></div>\n",
       "</div>\n",
       "<script type=\"application/javascript\">(function(root) {\n",
       "  function embed_document(root) {\n",
       "    var docs_json = {\"f6d6f092-0b4c-472d-a9f1-51b5a3291bbf\":{\"defs\":[{\"extends\":null,\"module\":null,\"name\":\"ReactiveHTML1\",\"overrides\":[],\"properties\":[]},{\"extends\":null,\"module\":null,\"name\":\"FlexBox1\",\"overrides\":[],\"properties\":[{\"default\":\"flex-start\",\"kind\":null,\"name\":\"align_content\"},{\"default\":\"flex-start\",\"kind\":null,\"name\":\"align_items\"},{\"default\":\"row\",\"kind\":null,\"name\":\"flex_direction\"},{\"default\":\"wrap\",\"kind\":null,\"name\":\"flex_wrap\"},{\"default\":\"flex-start\",\"kind\":null,\"name\":\"justify_content\"}]},{\"extends\":null,\"module\":null,\"name\":\"GridStack1\",\"overrides\":[],\"properties\":[{\"default\":\"warn\",\"kind\":null,\"name\":\"mode\"},{\"default\":null,\"kind\":null,\"name\":\"ncols\"},{\"default\":null,\"kind\":null,\"name\":\"nrows\"},{\"default\":true,\"kind\":null,\"name\":\"allow_resize\"},{\"default\":true,\"kind\":null,\"name\":\"allow_drag\"},{\"default\":[],\"kind\":null,\"name\":\"state\"}]},{\"extends\":null,\"module\":null,\"name\":\"click1\",\"overrides\":[],\"properties\":[{\"default\":\"\",\"kind\":null,\"name\":\"terminal_output\"},{\"default\":\"\",\"kind\":null,\"name\":\"debug_name\"},{\"default\":0,\"kind\":null,\"name\":\"clears\"}]},{\"extends\":null,\"module\":null,\"name\":\"TemplateActions1\",\"overrides\":[],\"properties\":[{\"default\":0,\"kind\":null,\"name\":\"open_modal\"},{\"default\":0,\"kind\":null,\"name\":\"close_modal\"}]},{\"extends\":null,\"module\":null,\"name\":\"MaterialTemplateActions1\",\"overrides\":[],\"properties\":[{\"default\":0,\"kind\":null,\"name\":\"open_modal\"},{\"default\":0,\"kind\":null,\"name\":\"close_modal\"}]}],\"roots\":{\"references\":[{\"attributes\":{},\"id\":\"8499\",\"type\":\"LinearScale\"},{\"attributes\":{\"line_color\":\"#8b8b8b\",\"line_width\":2,\"x\":{\"field\":\"timestamp\"},\"y\":{\"field\":\"value\"}},\"id\":\"8674\",\"type\":\"Line\"},{\"attributes\":{\"months\":[0,1,2,3,4,5,6,7,8,9,10,11]},\"id\":\"8555\",\"type\":\"MonthsTicker\"},{\"attributes\":{\"days\":[1,4,7,10,13,16,19,22,25,28]},\"id\":\"8552\",\"type\":\"DaysTicker\"},{\"attributes\":{\"line_color\":\"#e5ae38\",\"line_width\":2,\"x\":{\"field\":\"timestamp\"},\"y\":{\"field\":\"value\"}},\"id\":\"8600\",\"type\":\"Line\"},{\"attributes\":{\"tools\":[{\"id\":\"8489\"},{\"id\":\"8511\"},{\"id\":\"8512\"},{\"id\":\"8513\"},{\"id\":\"8514\"},{\"id\":\"8515\"}]},\"id\":\"8517\",\"type\":\"Toolbar\"},{\"attributes\":{\"data\":{\"Variable\":[\"TSLA\",\"TSLA\",\"TSLA\",\"TSLA\",\"TSLA\",\"TSLA\",\"TSLA\",\"TSLA\",\"TSLA\",\"TSLA\",\"TSLA\",\"TSLA\",\"TSLA\",\"TSLA\",\"TSLA\",\"TSLA\",\"TSLA\",\"TSLA\",\"TSLA\",\"TSLA\",\"TSLA\",\"TSLA\",\"TSLA\",\"TSLA\",\"TSLA\",\"TSLA\",\"TSLA\",\"TSLA\",\"TSLA\",\"TSLA\",\"TSLA\",\"TSLA\",\"TSLA\",\"TSLA\",\"TSLA\",\"TSLA\",\"TSLA\",\"TSLA\",\"TSLA\",\"TSLA\",\"TSLA\",\"TSLA\",\"TSLA\",\"TSLA\",\"TSLA\",\"TSLA\",\"TSLA\",\"TSLA\",\"TSLA\",\"TSLA\",\"TSLA\",\"TSLA\",\"TSLA\",\"TSLA\",\"TSLA\",\"TSLA\",\"TSLA\",\"TSLA\",\"TSLA\",\"TSLA\",\"TSLA\",\"TSLA\",\"TSLA\",\"TSLA\"],\"timestamp\":{\"__ndarray__\":\"AAAA6MYLeEIAALrDxwt4QgAAdJ/IC3hCAAAue8kLeEIAAOhWygt4QgAAojLLC3hCAABcDswLeEIAABbqzAt4QgAA0MXNC3hCAACKoc4LeEIAAER9zwt4QgAA/ljQC3hCAAC4NNELeEIAAHIQ0gt4QgAALOzSC3hCAADmx9MLeEIAAKCj1At4QgAAWn/VC3hCAAAUW9YLeEIAAM421wt4QgAAiBLYC3hCAABC7tgLeEIAAPzJ2Qt4QgAAtqXaC3hCAABwgdsLeEIAACpd3At4QgAA5DjdC3hCAACeFN4LeEIAAFjw3gt4QgAAEszfC3hCAADMp+ALeEIAAIaD4Qt4QgAAQF/iC3hCAAD6OuMLeEIAALQW5At4QgAAbvLkC3hCAAAozuULeEIAAOKp5gt4QgAAnIXnC3hCAABWYegLeEIAABA96Qt4QgAAyhjqC3hCAACE9OoLeEIAAD7Q6wt4QgAA+KvsC3hCAACyh+0LeEIAAGxj7gt4QgAAJj/vC3hCAADgGvALeEIAAJr28At4QgAAVNLxC3hCAAAOrvILeEIAAMiJ8wt4QgAAgmX0C3hCAAA8QfULeEIAAPYc9gt4QgAAsPj2C3hCAABq1PcLeEIAACSw+At4QgAA3ov5C3hCAACYZ/oLeEIAAFJD+wt4QgAADB/8C3hCAADG+vwLeEI=\",\"dtype\":\"float64\",\"order\":\"little\",\"shape\":[64]},\"value\":{\"__ndarray__\":\"AAAAAAAA+H96X+2fZv3vP1GAJ6ay7e8/3TyQv2fw7z90UFfyLgzwPwsvMyU8++8/Cy8zJTz77z+8A5T2R0TwP0CAwiD0MvA/l0RrdJg+8D+uvTynAkTwP669PKcCRPA/P42CLNhB8D83lCXYf2TwP5J4a6MoevA/8iixP0FU8D8JooJyq1nwPyuI6xcHjPA/efHuk7B08D9lhsg9VG/wP/BCMVcJcvA/l2yWaG5c8D/ZkLgUUxjwP/6/h6ypNvA/boyilwQp8D8xJq3Y4UDwP8xFpIekOvA/MUcr3ZJB8D9AjYIs2EHwP3u8A5T2R/A/yssOpYFJ8D+jB7STv0jwP1JZBjWtm/A/qkxjGGeK8D9ryknrRY3wP7/e6TKae/A/xn3rdB2A8D9++1Ky1WrwP8I+nFY+XfA/zNBANJRE8D+3oj6qRCHwP0Z07eU5FfA/rOknXiUi8D+QI+MrakPwP4sWji2yV/A/REqu68Jf8D+dV0jguDnwP1P4qII0R/A/xTYO2mxJ8D/FNg7abEnwPwuVwmbHSvA/P+iobqxM8D9R83bzIUzwP7sQVAIsU/A/pGJG0kNb8D8sQQ59VlXwP8VDzuVQWPA/7hXU0yBZ8D8KooJyq1nwPyYuMRE2WvA/lV7ri2Bc8D+pyRHivGHwPzJ4zx5kZPA/+2jrLkpo8D8=\",\"dtype\":\"float64\",\"order\":\"little\",\"shape\":[64]}},\"selected\":{\"id\":\"8598\"},\"selection_policy\":{\"id\":\"8616\"}},\"id\":\"8597\",\"type\":\"ColumnDataSource\"},{\"attributes\":{\"days\":[1,8,15,22]},\"id\":\"8553\",\"type\":\"DaysTicker\"},{\"attributes\":{\"children\":[[{\"id\":\"8494\"},0,0],[{\"id\":\"8924\"},0,1]]},\"id\":\"9010\",\"type\":\"GridBox\"},{\"attributes\":{\"bottom\":{\"value\":0},\"fill_alpha\":{\"value\":1.0},\"fill_color\":{\"value\":\"#30a2da\"},\"hatch_alpha\":{\"value\":1.0},\"hatch_color\":{\"value\":\"#30a2da\"},\"hatch_scale\":{\"value\":12.0},\"hatch_weight\":{\"value\":1.0},\"line_alpha\":{\"value\":1.0},\"line_cap\":{\"value\":\"butt\"},\"line_color\":{\"value\":\"black\"},\"line_dash\":{\"value\":[]},\"line_dash_offset\":{\"value\":0},\"line_join\":{\"value\":\"bevel\"},\"line_width\":{\"value\":1},\"top\":{\"field\":\"mentions\"},\"width\":{\"value\":0.8},\"x\":{\"field\":\"ticker\"}},\"id\":\"8961\",\"type\":\"VBar\"},{\"attributes\":{\"days\":[1,15]},\"id\":\"8554\",\"type\":\"DaysTicker\"},{\"attributes\":{\"bottom_units\":\"screen\",\"coordinates\":null,\"fill_alpha\":0.5,\"fill_color\":\"lightgrey\",\"group\":null,\"left_units\":\"screen\",\"level\":\"overlay\",\"line_alpha\":1.0,\"line_color\":\"black\",\"line_dash\":[4,4],\"line_width\":2,\"right_units\":\"screen\",\"syncable\":false,\"top_units\":\"screen\"},\"id\":\"8516\",\"type\":\"BoxAnnotation\"},{\"attributes\":{},\"id\":\"8525\",\"type\":\"DatetimeTickFormatter\"},{\"attributes\":{\"margin\":[5,5,5,5],\"name\":\"HSpacer10850\",\"sizing_mode\":\"stretch_width\"},\"id\":\"8486\",\"type\":\"Spacer\"},{\"attributes\":{},\"id\":\"8654\",\"type\":\"UnionRenderers\"},{\"attributes\":{\"line_color\":\"#e5ae38\",\"line_width\":2,\"x\":{\"field\":\"timestamp\"},\"y\":{\"field\":\"value\"}},\"id\":\"8632\",\"type\":\"Line\"},{\"attributes\":{\"line_alpha\":0.2,\"line_color\":\"#e5ae38\",\"line_width\":2,\"x\":{\"field\":\"timestamp\"},\"y\":{\"field\":\"value\"}},\"id\":\"8602\",\"type\":\"Line\"},{\"attributes\":{\"line_alpha\":0.2,\"line_color\":\"#30a2da\",\"line_width\":2,\"x\":{\"field\":\"timestamp\"},\"y\":{\"field\":\"value\"}},\"id\":\"8535\",\"type\":\"Line\"},{\"attributes\":{\"months\":[0,2,4,6,8,10]},\"id\":\"8556\",\"type\":\"MonthsTicker\"},{\"attributes\":{\"fill_color\":{\"value\":\"#30a2da\"},\"hatch_color\":{\"value\":\"#30a2da\"},\"top\":{\"field\":\"mentions\"},\"width\":{\"value\":0.8},\"x\":{\"field\":\"ticker\"}},\"id\":\"8956\",\"type\":\"VBar\"},{\"attributes\":{\"days\":[1,2,3,4,5,6,7,8,9,10,11,12,13,14,15,16,17,18,19,20,21,22,23,24,25,26,27,28,29,30,31]},\"id\":\"8551\",\"type\":\"DaysTicker\"},{\"attributes\":{\"months\":[0,4,8]},\"id\":\"8557\",\"type\":\"MonthsTicker\"},{\"attributes\":{\"data\":{\"Variable\":[\"AMC\",\"AMC\",\"AMC\",\"AMC\",\"AMC\",\"AMC\",\"AMC\",\"AMC\",\"AMC\",\"AMC\",\"AMC\",\"AMC\",\"AMC\",\"AMC\",\"AMC\",\"AMC\",\"AMC\",\"AMC\",\"AMC\",\"AMC\",\"AMC\",\"AMC\",\"AMC\",\"AMC\",\"AMC\",\"AMC\",\"AMC\",\"AMC\",\"AMC\",\"AMC\",\"AMC\",\"AMC\",\"AMC\",\"AMC\",\"AMC\",\"AMC\",\"AMC\",\"AMC\",\"AMC\",\"AMC\",\"AMC\",\"AMC\",\"AMC\",\"AMC\",\"AMC\",\"AMC\",\"AMC\",\"AMC\",\"AMC\",\"AMC\",\"AMC\",\"AMC\",\"AMC\",\"AMC\",\"AMC\",\"AMC\",\"AMC\",\"AMC\",\"AMC\",\"AMC\",\"AMC\",\"AMC\",\"AMC\",\"AMC\"],\"timestamp\":{\"__ndarray__\":\"AAAA6MYLeEIAALrDxwt4QgAAdJ/IC3hCAAAue8kLeEIAAOhWygt4QgAAojLLC3hCAABcDswLeEIAABbqzAt4QgAA0MXNC3hCAACKoc4LeEIAAER9zwt4QgAA/ljQC3hCAAC4NNELeEIAAHIQ0gt4QgAALOzSC3hCAADmx9MLeEIAAKCj1At4QgAAWn/VC3hCAAAUW9YLeEIAAM421wt4QgAAiBLYC3hCAABC7tgLeEIAAPzJ2Qt4QgAAtqXaC3hCAABwgdsLeEIAACpd3At4QgAA5DjdC3hCAACeFN4LeEIAAFjw3gt4QgAAEszfC3hCAADMp+ALeEIAAIaD4Qt4QgAAQF/iC3hCAAD6OuMLeEIAALQW5At4QgAAbvLkC3hCAAAozuULeEIAAOKp5gt4QgAAnIXnC3hCAABWYegLeEIAABA96Qt4QgAAyhjqC3hCAACE9OoLeEIAAD7Q6wt4QgAA+KvsC3hCAACyh+0LeEIAAGxj7gt4QgAAJj/vC3hCAADgGvALeEIAAJr28At4QgAAVNLxC3hCAAAOrvILeEIAAMiJ8wt4QgAAgmX0C3hCAAA8QfULeEIAAPYc9gt4QgAAsPj2C3hCAABq1PcLeEIAACSw+At4QgAA3ov5C3hCAACYZ/oLeEIAAFJD+wt4QgAADB/8C3hCAADG+vwLeEI=\",\"dtype\":\"float64\",\"order\":\"little\",\"shape\":[64]},\"value\":{\"__ndarray__\":\"AAAAAAAA+H+wORawORbwP3CCDXCCDfA/kG8AkG8A8D8gyhUgyhXwP3BtInBtIvA/gGAfgGAf8D+gRhmgRhnwP1CVGlCVGvA/kGEOkGEO8D+gVAugVAvwP5BvAJBvAPA/Ed4REN4R8D+wORawORbwP/DGSPDGSPA/MIVKMIVK8D8gfWIgfWLwP6Drc6Drc/A/L2JtMGJt8D8vYm0wYm3wP8+9cdC9cfA/YMTaYMTa8D+xLCGyLCHyPzCzGzGzG/E/iSlNiSlN8T/xb57xb57xP6Qf1aQf1fA/YL3hYL3h8D9AtApBtArxP7C3/bC3/fA/3yvz4Cvz8D/oyBrpyBrxP8jSY8nSY/E/f3kFgXkF8T//A/sABPvwP69n57Bn5/A/oHTqoHTq8D/QVNrQVNrwP0+5j1C5j/A/H3ZpIHZp8D/5+zItL2bwPyCEWyCEW/A/YFdIYFdI8D8vYm0wYm3wP28LhHALhPA/L0aJMEaJ8D+Y0pSY0pTwPwFDvABDvPA/8UjG8EjG8D/xQc3wQc3wP6GewKCewPA/AVGuAFGu8D9R5shQ5sjwP5pLLzPlyPA/mksvM+XI8D+aSy8z5cjwPwFKtQBKtfA/AUq1AEq18D9x759w75/wP3Hvn3Dvn/A/ksCukMCu8D+SwK6QwK7wP5LArpDArvA/ksCukMCu8D8=\",\"dtype\":\"float64\",\"order\":\"little\",\"shape\":[64]}},\"selected\":{\"id\":\"8634\"},\"selection_policy\":{\"id\":\"8654\"}},\"id\":\"8633\",\"type\":\"ColumnDataSource\"},{\"attributes\":{\"base\":60,\"mantissas\":[1,2,5,10,15,20,30],\"max_interval\":1800000.0,\"min_interval\":1000.0,\"num_minor_ticks\":0},\"id\":\"8549\",\"type\":\"AdaptiveTicker\"},{\"attributes\":{\"end\":201.8,\"reset_end\":201.8,\"reset_start\":0.0,\"tags\":[[[\"mentions\",\"mentions\",null]]]},\"id\":\"8922\",\"type\":\"Range1d\"},{\"attributes\":{\"line_alpha\":0.1,\"line_color\":\"#fc4f30\",\"line_width\":2,\"x\":{\"field\":\"timestamp\"},\"y\":{\"field\":\"value\"}},\"id\":\"8567\",\"type\":\"Line\"},{\"attributes\":{\"months\":[0,6]},\"id\":\"8558\",\"type\":\"MonthsTicker\"},{\"attributes\":{\"line_alpha\":0.1,\"line_color\":\"#e5ae38\",\"line_width\":2,\"x\":{\"field\":\"timestamp\"},\"y\":{\"field\":\"value\"}},\"id\":\"8601\",\"type\":\"Line\"},{\"attributes\":{\"base\":24,\"mantissas\":[1,2,4,6,8,12],\"max_interval\":43200000.0,\"min_interval\":3600000.0,\"num_minor_ticks\":0},\"id\":\"8550\",\"type\":\"AdaptiveTicker\"},{\"attributes\":{},\"id\":\"8963\",\"type\":\"CategoricalTickFormatter\"},{\"attributes\":{\"mantissas\":[1,2,5],\"max_interval\":500.0,\"num_minor_ticks\":0},\"id\":\"8548\",\"type\":\"AdaptiveTicker\"},{\"attributes\":{\"coordinates\":null,\"data_source\":{\"id\":\"8953\"},\"glyph\":{\"id\":\"8956\"},\"group\":null,\"hover_glyph\":null,\"muted_glyph\":{\"id\":\"8958\"},\"nonselection_glyph\":{\"id\":\"8957\"},\"selection_glyph\":{\"id\":\"8961\"},\"view\":{\"id\":\"8960\"}},\"id\":\"8959\",\"type\":\"GlyphRenderer\"},{\"attributes\":{},\"id\":\"8559\",\"type\":\"YearsTicker\"},{\"attributes\":{\"coordinates\":null,\"group\":null,\"text\":\"mentions\",\"text_color\":\"black\",\"text_font_size\":\"12pt\"},\"id\":\"8925\",\"type\":\"Title\"},{\"attributes\":{\"line_color\":\"#fc4f30\",\"line_width\":2,\"x\":{\"field\":\"timestamp\"},\"y\":{\"field\":\"value\"}},\"id\":\"8596\",\"type\":\"Line\"},{\"attributes\":{\"line_alpha\":0.1,\"line_color\":\"#8b8b8b\",\"line_width\":2,\"x\":{\"field\":\"timestamp\"},\"y\":{\"field\":\"value\"}},\"id\":\"8675\",\"type\":\"Line\"},{\"attributes\":{\"axis\":{\"id\":\"8933\"},\"coordinates\":null,\"grid_line_color\":null,\"group\":null,\"ticker\":null},\"id\":\"8935\",\"type\":\"Grid\"},{\"attributes\":{\"line_color\":\"#6d904f\",\"line_width\":2,\"x\":{\"field\":\"timestamp\"},\"y\":{\"field\":\"value\"}},\"id\":\"8636\",\"type\":\"Line\"},{\"attributes\":{\"axis_label\":\"ticker\",\"coordinates\":null,\"formatter\":{\"id\":\"8963\"},\"group\":null,\"major_label_policy\":{\"id\":\"8964\"},\"ticker\":{\"id\":\"8934\"}},\"id\":\"8933\",\"type\":\"CategoricalAxis\"},{\"attributes\":{\"label\":{\"value\":\"SPY\"},\"renderers\":[{\"id\":\"8536\"}]},\"id\":\"8561\",\"type\":\"LegendItem\"},{\"attributes\":{},\"id\":\"8937\",\"type\":\"BasicTicker\"},{\"attributes\":{\"source\":{\"id\":\"8530\"}},\"id\":\"8537\",\"type\":\"CDSView\"},{\"attributes\":{},\"id\":\"8934\",\"type\":\"CategoricalTicker\"},{\"attributes\":{},\"id\":\"8508\",\"type\":\"BasicTicker\"},{\"attributes\":{\"toolbars\":[{\"id\":\"8517\"},{\"id\":\"8946\"}],\"tools\":[{\"id\":\"8489\"},{\"id\":\"8511\"},{\"id\":\"8512\"},{\"id\":\"8513\"},{\"id\":\"8514\"},{\"id\":\"8515\"},{\"id\":\"8923\"},{\"id\":\"8940\"},{\"id\":\"8941\"},{\"id\":\"8942\"},{\"id\":\"8943\"},{\"id\":\"8944\"}]},\"id\":\"9011\",\"type\":\"ProxyToolbar\"},{\"attributes\":{\"below\":[{\"id\":\"8503\"}],\"center\":[{\"id\":\"8506\"},{\"id\":\"8510\"}],\"height\":300,\"left\":[{\"id\":\"8507\"}],\"margin\":null,\"min_border_bottom\":10,\"min_border_left\":10,\"min_border_right\":10,\"min_border_top\":10,\"renderers\":[{\"id\":\"8536\"},{\"id\":\"8569\"},{\"id\":\"8603\"},{\"id\":\"8639\"},{\"id\":\"8677\"}],\"right\":[{\"id\":\"8560\"}],\"sizing_mode\":\"fixed\",\"title\":{\"id\":\"8495\"},\"toolbar\":{\"id\":\"8517\"},\"toolbar_location\":null,\"width\":700,\"x_range\":{\"id\":\"8487\"},\"x_scale\":{\"id\":\"8499\"},\"y_range\":{\"id\":\"8488\"},\"y_scale\":{\"id\":\"8501\"}},\"id\":\"8494\",\"subtype\":\"Figure\",\"type\":\"Plot\"},{\"attributes\":{\"coordinates\":null,\"group\":null,\"text_color\":\"black\",\"text_font_size\":\"12pt\"},\"id\":\"8495\",\"type\":\"Title\"},{\"attributes\":{\"axis_label\":\"\",\"coordinates\":null,\"formatter\":{\"id\":\"8966\"},\"group\":null,\"major_label_policy\":{\"id\":\"8967\"},\"ticker\":{\"id\":\"8937\"}},\"id\":\"8936\",\"type\":\"LinearAxis\"},{\"attributes\":{\"label\":{\"value\":\"TSLA\"},\"renderers\":[{\"id\":\"8603\"}]},\"id\":\"8631\",\"type\":\"LegendItem\"},{\"attributes\":{},\"id\":\"8964\",\"type\":\"AllLabels\"},{\"attributes\":{\"toolbar\":{\"id\":\"9011\"},\"toolbar_location\":\"above\"},\"id\":\"9012\",\"type\":\"ToolbarBox\"},{\"attributes\":{\"axis\":{\"id\":\"8936\"},\"coordinates\":null,\"dimension\":1,\"grid_line_color\":null,\"group\":null,\"ticker\":null},\"id\":\"8939\",\"type\":\"Grid\"},{\"attributes\":{},\"id\":\"8580\",\"type\":\"UnionRenderers\"},{\"attributes\":{\"coordinates\":null,\"data_source\":{\"id\":\"8633\"},\"glyph\":{\"id\":\"8636\"},\"group\":null,\"hover_glyph\":null,\"muted_glyph\":{\"id\":\"8638\"},\"nonselection_glyph\":{\"id\":\"8637\"},\"selection_glyph\":{\"id\":\"8670\"},\"view\":{\"id\":\"8640\"}},\"id\":\"8639\",\"type\":\"GlyphRenderer\"},{\"attributes\":{\"source\":{\"id\":\"8953\"}},\"id\":\"8960\",\"type\":\"CDSView\"},{\"attributes\":{\"num_minor_ticks\":5,\"tickers\":[{\"id\":\"8548\"},{\"id\":\"8549\"},{\"id\":\"8550\"},{\"id\":\"8551\"},{\"id\":\"8552\"},{\"id\":\"8553\"},{\"id\":\"8554\"},{\"id\":\"8555\"},{\"id\":\"8556\"},{\"id\":\"8557\"},{\"id\":\"8558\"},{\"id\":\"8559\"}]},\"id\":\"8504\",\"type\":\"DatetimeTicker\"},{\"attributes\":{\"line_color\":\"#30a2da\",\"line_width\":2,\"x\":{\"field\":\"timestamp\"},\"y\":{\"field\":\"value\"}},\"id\":\"8562\",\"type\":\"Line\"},{\"attributes\":{\"axis_label\":\"timestamp\",\"coordinates\":null,\"formatter\":{\"id\":\"8525\"},\"group\":null,\"major_label_policy\":{\"id\":\"8526\"},\"ticker\":{\"id\":\"8504\"}},\"id\":\"8503\",\"type\":\"DatetimeAxis\"},{\"attributes\":{\"source\":{\"id\":\"8597\"}},\"id\":\"8604\",\"type\":\"CDSView\"},{\"attributes\":{},\"id\":\"8616\",\"type\":\"UnionRenderers\"},{\"attributes\":{\"source\":{\"id\":\"8671\"}},\"id\":\"8678\",\"type\":\"CDSView\"},{\"attributes\":{},\"id\":\"8501\",\"type\":\"LinearScale\"},{\"attributes\":{\"label\":{\"value\":\"AMC\"},\"renderers\":[{\"id\":\"8639\"}]},\"id\":\"8669\",\"type\":\"LegendItem\"},{\"attributes\":{},\"id\":\"8694\",\"type\":\"UnionRenderers\"},{\"attributes\":{},\"id\":\"9006\",\"type\":\"UnionRenderers\"},{\"attributes\":{\"coordinates\":null,\"data_source\":{\"id\":\"8530\"},\"glyph\":{\"id\":\"8533\"},\"group\":null,\"hover_glyph\":null,\"muted_glyph\":{\"id\":\"8535\"},\"nonselection_glyph\":{\"id\":\"8534\"},\"selection_glyph\":{\"id\":\"8562\"},\"view\":{\"id\":\"8537\"}},\"id\":\"8536\",\"type\":\"GlyphRenderer\"},{\"attributes\":{\"axis_label\":\"\",\"coordinates\":null,\"formatter\":{\"id\":\"8528\"},\"group\":null,\"major_label_policy\":{\"id\":\"8529\"},\"ticker\":{\"id\":\"8508\"}},\"id\":\"8507\",\"type\":\"LinearAxis\"},{\"attributes\":{\"data\":{\"Variable\":[\"AMD\",\"AMD\",\"AMD\",\"AMD\",\"AMD\",\"AMD\",\"AMD\",\"AMD\",\"AMD\",\"AMD\",\"AMD\",\"AMD\",\"AMD\",\"AMD\",\"AMD\",\"AMD\",\"AMD\",\"AMD\",\"AMD\",\"AMD\",\"AMD\",\"AMD\",\"AMD\",\"AMD\",\"AMD\",\"AMD\",\"AMD\",\"AMD\",\"AMD\",\"AMD\",\"AMD\",\"AMD\",\"AMD\",\"AMD\",\"AMD\",\"AMD\",\"AMD\",\"AMD\",\"AMD\",\"AMD\",\"AMD\",\"AMD\",\"AMD\",\"AMD\",\"AMD\",\"AMD\",\"AMD\",\"AMD\",\"AMD\",\"AMD\",\"AMD\",\"AMD\",\"AMD\",\"AMD\",\"AMD\",\"AMD\",\"AMD\",\"AMD\",\"AMD\",\"AMD\",\"AMD\",\"AMD\",\"AMD\",\"AMD\"],\"timestamp\":{\"__ndarray__\":\"AAAA6MYLeEIAALrDxwt4QgAAdJ/IC3hCAAAue8kLeEIAAOhWygt4QgAAojLLC3hCAABcDswLeEIAABbqzAt4QgAA0MXNC3hCAACKoc4LeEIAAER9zwt4QgAA/ljQC3hCAAC4NNELeEIAAHIQ0gt4QgAALOzSC3hCAADmx9MLeEIAAKCj1At4QgAAWn/VC3hCAAAUW9YLeEIAAM421wt4QgAAiBLYC3hCAABC7tgLeEIAAPzJ2Qt4QgAAtqXaC3hCAABwgdsLeEIAACpd3At4QgAA5DjdC3hCAACeFN4LeEIAAFjw3gt4QgAAEszfC3hCAADMp+ALeEIAAIaD4Qt4QgAAQF/iC3hCAAD6OuMLeEIAALQW5At4QgAAbvLkC3hCAAAozuULeEIAAOKp5gt4QgAAnIXnC3hCAABWYegLeEIAABA96Qt4QgAAyhjqC3hCAACE9OoLeEIAAD7Q6wt4QgAA+KvsC3hCAACyh+0LeEIAAGxj7gt4QgAAJj/vC3hCAADgGvALeEIAAJr28At4QgAAVNLxC3hCAAAOrvILeEIAAMiJ8wt4QgAAgmX0C3hCAAA8QfULeEIAAPYc9gt4QgAAsPj2C3hCAABq1PcLeEIAACSw+At4QgAA3ov5C3hCAACYZ/oLeEIAAFJD+wt4QgAADB/8C3hCAADG+vwLeEI=\",\"dtype\":\"float64\",\"order\":\"little\",\"shape\":[64]},\"value\":{\"__ndarray__\":\"AAAAAAAA+H9+6FWZWwfwP5TU1NmP+e8/F+x+QDTy7z+YG8AsYQHwP5TU1NmP+e8/qcBTGsTr7z/4cSlaXfDvP76s0lr43e8/7eNStLrg7z+DF6pmpPjvP1TgKQ3i9e8/Fux+QDTy7z9FI/+Z9vTvP9tWVkzgDPA/gy9B7CwP8D9tKysmcAbwP2adIXPwEfA/8FpsEp0V8D/Q4BYsxhPwPzN+a6yTCvA/2vb5Nb6y7z+XlnA8TCjwPwf9Gx2IR/A/qn8yCUBk8D8xDvbNxpHwPyeYtq2smPA/SYlY/0K08D/+6mmq3tDwP4qVZ0Sc6fA/1qzU1lXt8D+kbDSgbgXxP42u5KWSHvE/YGHMiwAn8T8LNO6nrjDxPxSD4O5ZGvE/VuuMa+Yt8T9Hopa1tiHxP8qhqZbSA/E/nN5d+sv18D8HfvDq1NXwP+rr0HGY2PA/TS2IujLx8D8+FMAPFBLxP27sV3bCLPE/JJ1PymNQ8T8ubywisSfxP4d+qvzbDvE/xnJVyYkS8T/GclXJiRLxP7a1KlaeEfE/L1eVnCgR8T9O0eqC/xLxP8dyVcmJEvE/9anVIkwV8T8KllRjgAfxP7JuPwPNCfE/8mLqz3oN8T/n7KqvYBTxP/ap1SJMFfE/RFurYuUZ8T/rM5YCMhzxPznla0LLIPE/wUMB/EAh8T8=\",\"dtype\":\"float64\",\"order\":\"little\",\"shape\":[64]}},\"selected\":{\"id\":\"8672\"},\"selection_policy\":{\"id\":\"8694\"}},\"id\":\"8671\",\"type\":\"ColumnDataSource\"},{\"attributes\":{\"click_policy\":\"mute\",\"coordinates\":null,\"group\":null,\"items\":[{\"id\":\"8561\"},{\"id\":\"8595\"},{\"id\":\"8631\"},{\"id\":\"8669\"},{\"id\":\"8709\"}],\"location\":[0,0],\"title\":\"Variable\"},\"id\":\"8560\",\"type\":\"Legend\"},{\"attributes\":{\"axis\":{\"id\":\"8503\"},\"coordinates\":null,\"grid_line_color\":null,\"group\":null,\"ticker\":null},\"id\":\"8506\",\"type\":\"Grid\"},{\"attributes\":{\"line_alpha\":0.1,\"line_color\":\"#6d904f\",\"line_width\":2,\"x\":{\"field\":\"timestamp\"},\"y\":{\"field\":\"value\"}},\"id\":\"8637\",\"type\":\"Line\"},{\"attributes\":{},\"id\":\"8564\",\"type\":\"Selection\"},{\"attributes\":{},\"id\":\"8931\",\"type\":\"LinearScale\"},{\"attributes\":{},\"id\":\"8598\",\"type\":\"Selection\"},{\"attributes\":{\"tools\":[{\"id\":\"8923\"},{\"id\":\"8940\"},{\"id\":\"8941\"},{\"id\":\"8942\"},{\"id\":\"8943\"},{\"id\":\"8944\"}]},\"id\":\"8946\",\"type\":\"Toolbar\"},{\"attributes\":{\"coordinates\":null,\"data_source\":{\"id\":\"8597\"},\"glyph\":{\"id\":\"8600\"},\"group\":null,\"hover_glyph\":null,\"muted_glyph\":{\"id\":\"8602\"},\"nonselection_glyph\":{\"id\":\"8601\"},\"selection_glyph\":{\"id\":\"8632\"},\"view\":{\"id\":\"8604\"}},\"id\":\"8603\",\"type\":\"GlyphRenderer\"},{\"attributes\":{\"source\":{\"id\":\"8633\"}},\"id\":\"8640\",\"type\":\"CDSView\"},{\"attributes\":{\"coordinates\":null,\"data_source\":{\"id\":\"8671\"},\"glyph\":{\"id\":\"8674\"},\"group\":null,\"hover_glyph\":null,\"muted_glyph\":{\"id\":\"8676\"},\"nonselection_glyph\":{\"id\":\"8675\"},\"selection_glyph\":{\"id\":\"8710\"},\"view\":{\"id\":\"8678\"}},\"id\":\"8677\",\"type\":\"GlyphRenderer\"},{\"attributes\":{\"bottom_units\":\"screen\",\"coordinates\":null,\"fill_alpha\":0.5,\"fill_color\":\"lightgrey\",\"group\":null,\"left_units\":\"screen\",\"level\":\"overlay\",\"line_alpha\":1.0,\"line_color\":\"black\",\"line_dash\":[4,4],\"line_width\":2,\"right_units\":\"screen\",\"syncable\":false,\"top_units\":\"screen\"},\"id\":\"8945\",\"type\":\"BoxAnnotation\"},{\"attributes\":{\"margin\":[5,5,5,5],\"name\":\"HSpacer10851\",\"sizing_mode\":\"stretch_width\"},\"id\":\"9374\",\"type\":\"Spacer\"},{\"attributes\":{\"below\":[{\"id\":\"8933\"}],\"center\":[{\"id\":\"8935\"},{\"id\":\"8939\"}],\"height\":300,\"left\":[{\"id\":\"8936\"}],\"margin\":null,\"min_border_bottom\":10,\"min_border_left\":10,\"min_border_right\":10,\"min_border_top\":10,\"renderers\":[{\"id\":\"8959\"}],\"sizing_mode\":\"fixed\",\"title\":{\"id\":\"8925\"},\"toolbar\":{\"id\":\"8946\"},\"toolbar_location\":null,\"width\":700,\"x_range\":{\"id\":\"8921\"},\"x_scale\":{\"id\":\"8929\"},\"y_range\":{\"id\":\"8922\"},\"y_scale\":{\"id\":\"8931\"}},\"id\":\"8924\",\"subtype\":\"Figure\",\"type\":\"Plot\"},{\"attributes\":{\"axis\":{\"id\":\"8507\"},\"coordinates\":null,\"dimension\":1,\"grid_line_color\":null,\"group\":null,\"ticker\":null},\"id\":\"8510\",\"type\":\"Grid\"},{\"attributes\":{\"fill_alpha\":{\"value\":0.2},\"fill_color\":{\"value\":\"#30a2da\"},\"hatch_alpha\":{\"value\":0.2},\"hatch_color\":{\"value\":\"#30a2da\"},\"line_alpha\":{\"value\":0.2},\"top\":{\"field\":\"mentions\"},\"width\":{\"value\":0.8},\"x\":{\"field\":\"ticker\"}},\"id\":\"8958\",\"type\":\"VBar\"},{\"attributes\":{},\"id\":\"8545\",\"type\":\"UnionRenderers\"},{\"attributes\":{},\"id\":\"8940\",\"type\":\"SaveTool\"},{\"attributes\":{},\"id\":\"8941\",\"type\":\"PanTool\"},{\"attributes\":{\"source\":{\"id\":\"8563\"}},\"id\":\"8570\",\"type\":\"CDSView\"},{\"attributes\":{},\"id\":\"8672\",\"type\":\"Selection\"},{\"attributes\":{},\"id\":\"8944\",\"type\":\"ResetTool\"},{\"attributes\":{\"callback\":null,\"renderers\":[{\"id\":\"8959\"}],\"tags\":[\"hv_created\"],\"tooltips\":[[\"ticker\",\"@{ticker}\"],[\"mentions\",\"@{mentions}\"]]},\"id\":\"8923\",\"type\":\"HoverTool\"},{\"attributes\":{},\"id\":\"8531\",\"type\":\"Selection\"},{\"attributes\":{},\"id\":\"8942\",\"type\":\"WheelZoomTool\"},{\"attributes\":{\"line_color\":\"#6d904f\",\"line_width\":2,\"x\":{\"field\":\"timestamp\"},\"y\":{\"field\":\"value\"}},\"id\":\"8670\",\"type\":\"Line\"},{\"attributes\":{},\"id\":\"8526\",\"type\":\"AllLabels\"},{\"attributes\":{\"overlay\":{\"id\":\"8945\"}},\"id\":\"8943\",\"type\":\"BoxZoomTool\"},{\"attributes\":{\"data\":{\"Variable\":[\"GME\",\"GME\",\"GME\",\"GME\",\"GME\",\"GME\",\"GME\",\"GME\",\"GME\",\"GME\",\"GME\",\"GME\",\"GME\",\"GME\",\"GME\",\"GME\",\"GME\",\"GME\",\"GME\",\"GME\",\"GME\",\"GME\",\"GME\",\"GME\",\"GME\",\"GME\",\"GME\",\"GME\",\"GME\",\"GME\",\"GME\",\"GME\",\"GME\",\"GME\",\"GME\",\"GME\",\"GME\",\"GME\",\"GME\",\"GME\",\"GME\",\"GME\",\"GME\",\"GME\",\"GME\",\"GME\",\"GME\",\"GME\",\"GME\",\"GME\",\"GME\",\"GME\",\"GME\",\"GME\",\"GME\",\"GME\",\"GME\",\"GME\",\"GME\",\"GME\",\"GME\",\"GME\",\"GME\",\"GME\"],\"timestamp\":{\"__ndarray__\":\"AAAA6MYLeEIAALrDxwt4QgAAdJ/IC3hCAAAue8kLeEIAAOhWygt4QgAAojLLC3hCAABcDswLeEIAABbqzAt4QgAA0MXNC3hCAACKoc4LeEIAAER9zwt4QgAA/ljQC3hCAAC4NNELeEIAAHIQ0gt4QgAALOzSC3hCAADmx9MLeEIAAKCj1At4QgAAWn/VC3hCAAAUW9YLeEIAAM421wt4QgAAiBLYC3hCAABC7tgLeEIAAPzJ2Qt4QgAAtqXaC3hCAABwgdsLeEIAACpd3At4QgAA5DjdC3hCAACeFN4LeEIAAFjw3gt4QgAAEszfC3hCAADMp+ALeEIAAIaD4Qt4QgAAQF/iC3hCAAD6OuMLeEIAALQW5At4QgAAbvLkC3hCAAAozuULeEIAAOKp5gt4QgAAnIXnC3hCAABWYegLeEIAABA96Qt4QgAAyhjqC3hCAACE9OoLeEIAAD7Q6wt4QgAA+KvsC3hCAACyh+0LeEIAAGxj7gt4QgAAJj/vC3hCAADgGvALeEIAAJr28At4QgAAVNLxC3hCAAAOrvILeEIAAMiJ8wt4QgAAgmX0C3hCAAA8QfULeEIAAPYc9gt4QgAAsPj2C3hCAABq1PcLeEIAACSw+At4QgAA3ov5C3hCAACYZ/oLeEIAAFJD+wt4QgAADB/8C3hCAADG+vwLeEI=\",\"dtype\":\"float64\",\"order\":\"little\",\"shape\":[64]},\"value\":{\"__ndarray__\":\"AAAAAAAA+H+wORawORbwP3CCDXCCDfA/kG8AkG8A8D8gyhUgyhXwP3BtInBtIvA/gGAfgGAf8D+gRhmgRhnwP1CVGlCVGvA/kGEOkGEO8D+gVAugVAvwP5BvAJBvAPA/Ed4REN4R8D+wORawORbwP/DGSPDGSPA/MIVKMIVK8D8gfWIgfWLwP6Drc6Drc/A/L2JtMGJt8D8vYm0wYm3wP8+9cdC9cfA/YMTaYMTa8D+xLCGyLCHyPzCzGzGzG/E/iSlNiSlN8T/xb57xb57xP6Qf1aQf1fA/YL3hYL3h8D9AtApBtArxP7C3/bC3/fA/3yvz4Cvz8D/oyBrpyBrxP8jSY8nSY/E/f3kFgXkF8T//A/sABPvwP69n57Bn5/A/oHTqoHTq8D/QVNrQVNrwP0+5j1C5j/A/H3ZpIHZp8D/5+zItL2bwPyCEWyCEW/A/YFdIYFdI8D8vYm0wYm3wP28LhHALhPA/L0aJMEaJ8D+Y0pSY0pTwPwFDvABDvPA/8UjG8EjG8D/xQc3wQc3wP6GewKCewPA/AVGuAFGu8D9R5shQ5sjwP5pLLzPlyPA/mksvM+XI8D+aSy8z5cjwPwFKtQBKtfA/AUq1AEq18D9x759w75/wP3Hvn3Dvn/A/ksCukMCu8D+SwK6QwK7wP5LArpDArvA/ksCukMCu8D8=\",\"dtype\":\"float64\",\"order\":\"little\",\"shape\":[64]}},\"selected\":{\"id\":\"8564\"},\"selection_policy\":{\"id\":\"8580\"}},\"id\":\"8563\",\"type\":\"ColumnDataSource\"},{\"attributes\":{\"children\":[{\"id\":\"8486\"},{\"id\":\"9013\"},{\"id\":\"9374\"}],\"margin\":[0,0,0,0],\"name\":\"Row10846\",\"tags\":[\"embedded\"]},\"id\":\"8485\",\"type\":\"Row\"},{\"attributes\":{\"children\":[{\"id\":\"9012\"},{\"id\":\"9010\"}]},\"id\":\"9013\",\"type\":\"Column\"},{\"attributes\":{\"fill_alpha\":{\"value\":0.1},\"fill_color\":{\"value\":\"#30a2da\"},\"hatch_alpha\":{\"value\":0.1},\"hatch_color\":{\"value\":\"#30a2da\"},\"line_alpha\":{\"value\":0.1},\"top\":{\"field\":\"mentions\"},\"width\":{\"value\":0.8},\"x\":{\"field\":\"ticker\"}},\"id\":\"8957\",\"type\":\"VBar\"},{\"attributes\":{\"line_color\":\"#8b8b8b\",\"line_width\":2,\"x\":{\"field\":\"timestamp\"},\"y\":{\"field\":\"value\"}},\"id\":\"8710\",\"type\":\"Line\"},{\"attributes\":{\"data\":{\"mentions\":[187,112,63,60,39],\"ticker\":[\"SPY\",\"GME\",\"TSLA\",\"AMC\",\"AMD\"]},\"selected\":{\"id\":\"8954\"},\"selection_policy\":{\"id\":\"9006\"}},\"id\":\"8953\",\"type\":\"ColumnDataSource\"},{\"attributes\":{\"coordinates\":null,\"data_source\":{\"id\":\"8563\"},\"glyph\":{\"id\":\"8566\"},\"group\":null,\"hover_glyph\":null,\"muted_glyph\":{\"id\":\"8568\"},\"nonselection_glyph\":{\"id\":\"8567\"},\"selection_glyph\":{\"id\":\"8596\"},\"view\":{\"id\":\"8570\"}},\"id\":\"8569\",\"type\":\"GlyphRenderer\"},{\"attributes\":{},\"id\":\"8967\",\"type\":\"AllLabels\"},{\"attributes\":{\"data\":{\"Variable\":[\"SPY\",\"SPY\",\"SPY\",\"SPY\",\"SPY\",\"SPY\",\"SPY\",\"SPY\",\"SPY\",\"SPY\",\"SPY\",\"SPY\",\"SPY\",\"SPY\",\"SPY\",\"SPY\",\"SPY\",\"SPY\",\"SPY\",\"SPY\",\"SPY\",\"SPY\",\"SPY\",\"SPY\",\"SPY\",\"SPY\",\"SPY\",\"SPY\",\"SPY\",\"SPY\",\"SPY\",\"SPY\",\"SPY\",\"SPY\",\"SPY\",\"SPY\",\"SPY\",\"SPY\",\"SPY\",\"SPY\",\"SPY\",\"SPY\",\"SPY\",\"SPY\",\"SPY\",\"SPY\",\"SPY\",\"SPY\",\"SPY\",\"SPY\",\"SPY\",\"SPY\",\"SPY\",\"SPY\",\"SPY\",\"SPY\",\"SPY\",\"SPY\",\"SPY\",\"SPY\",\"SPY\",\"SPY\",\"SPY\",\"SPY\"],\"timestamp\":{\"__ndarray__\":\"AAAA6MYLeEIAALrDxwt4QgAAdJ/IC3hCAAAue8kLeEIAAOhWygt4QgAAojLLC3hCAABcDswLeEIAABbqzAt4QgAA0MXNC3hCAACKoc4LeEIAAER9zwt4QgAA/ljQC3hCAAC4NNELeEIAAHIQ0gt4QgAALOzSC3hCAADmx9MLeEIAAKCj1At4QgAAWn/VC3hCAAAUW9YLeEIAAM421wt4QgAAiBLYC3hCAABC7tgLeEIAAPzJ2Qt4QgAAtqXaC3hCAABwgdsLeEIAACpd3At4QgAA5DjdC3hCAACeFN4LeEIAAFjw3gt4QgAAEszfC3hCAADMp+ALeEIAAIaD4Qt4QgAAQF/iC3hCAAD6OuMLeEIAALQW5At4QgAAbvLkC3hCAAAozuULeEIAAOKp5gt4QgAAnIXnC3hCAABWYegLeEIAABA96Qt4QgAAyhjqC3hCAACE9OoLeEIAAD7Q6wt4QgAA+KvsC3hCAACyh+0LeEIAAGxj7gt4QgAAJj/vC3hCAADgGvALeEIAAJr28At4QgAAVNLxC3hCAAAOrvILeEIAAMiJ8wt4QgAAgmX0C3hCAAA8QfULeEIAAPYc9gt4QgAAsPj2C3hCAABq1PcLeEIAACSw+At4QgAA3ov5C3hCAACYZ/oLeEIAAFJD+wt4QgAADB/8C3hCAADG+vwLeEI=\",\"dtype\":\"float64\",\"order\":\"little\",\"shape\":[64]},\"value\":{\"__ndarray__\":\"AAAAAAAA+H9HscrNRAXwP8StIesiAfA/qkZmV08A8D/x9zAllAXwP4YvdtwzA/A/VI3Mrp4A8D+8egIszfnvP8fZ7uQ0APA/7PDeX1D97z9UjcyungDwP2vIukhgAvA/AAAAAAAA8D/ErSHrIgHwPwkzH79VB/A/Qwjoq0AR8D8zUWH/tAzwP213chqADPA/22v6XPIN8D/el8dWBA3wP4hbQ9ZFAvA/iFtD1kUC8D9voz8UkgvwP8Pfw5RQFvA/6ZH3A+Ah8D+DZ+01fS7wP7veRn8oJPA/hZO6L48t8D9m1GSoly7wPx6mhLJgNPA/fOOFSEcx8D/lf3OXlTTwP8vjqsVtQvA/DRZsFpk78D+zYLRBDj3wP8SUUBaMNvA/FHTdqzs08D+jJkO9dC3wPyrTzsGaJfA/zRLjU6Yd8D/VE2Bpzg/wP1+bcDkmEfA/0Wp9R8ob8D9WHd77CyrwP0h8vggiNvA/64bFXNk88D+t70h5UzTwP4yaDPXSNfA/+wuqXzcs8D/vd7BoezTwP7Gx/G/uMvA/MNogh94t8D9844VIRzHwPx6mhLJgNPA/kfKm6PYz8D+Pxtnu5DTwPyHSUaxyM/A/r4Uvdtwz8D+Qxtnu5DTwP3MzUWH/NPA/N+FyTCI28D/ElFAWjDbwP6otlYK4NfA/kMbZ7uQ08D8=\",\"dtype\":\"float64\",\"order\":\"little\",\"shape\":[64]}},\"selected\":{\"id\":\"8531\"},\"selection_policy\":{\"id\":\"8545\"}},\"id\":\"8530\",\"type\":\"ColumnDataSource\"},{\"attributes\":{},\"id\":\"8511\",\"type\":\"SaveTool\"},{\"attributes\":{\"line_color\":\"#fc4f30\",\"line_width\":2,\"x\":{\"field\":\"timestamp\"},\"y\":{\"field\":\"value\"}},\"id\":\"8566\",\"type\":\"Line\"},{\"attributes\":{},\"id\":\"8528\",\"type\":\"BasicTickFormatter\"},{\"attributes\":{\"end\":1.1473522709448853,\"reset_end\":1.1473522709448853,\"reset_start\":0.9763162101584442,\"start\":0.9763162101584442,\"tags\":[[[\"value\",\"value\",null]]]},\"id\":\"8488\",\"type\":\"Range1d\"},{\"attributes\":{},\"id\":\"8512\",\"type\":\"PanTool\"},{\"attributes\":{},\"id\":\"8529\",\"type\":\"AllLabels\"},{\"attributes\":{},\"id\":\"8954\",\"type\":\"Selection\"},{\"attributes\":{\"line_alpha\":0.2,\"line_color\":\"#fc4f30\",\"line_width\":2,\"x\":{\"field\":\"timestamp\"},\"y\":{\"field\":\"value\"}},\"id\":\"8568\",\"type\":\"Line\"},{\"attributes\":{},\"id\":\"8515\",\"type\":\"ResetTool\"},{\"attributes\":{},\"id\":\"8513\",\"type\":\"WheelZoomTool\"},{\"attributes\":{\"factors\":[\"SPY\",\"GME\",\"TSLA\",\"AMC\",\"AMD\"],\"tags\":[[[\"ticker\",\"ticker\",null]]]},\"id\":\"8921\",\"type\":\"FactorRange\"},{\"attributes\":{\"callback\":null,\"formatters\":{\"@{timestamp}\":\"datetime\"},\"renderers\":[{\"id\":\"8536\"},{\"id\":\"8569\"},{\"id\":\"8603\"},{\"id\":\"8639\"},{\"id\":\"8677\"}],\"tags\":[\"hv_created\"],\"tooltips\":[[\"Variable\",\"@{Variable}\"],[\"timestamp\",\"@{timestamp}{%F %T}\"],[\"value\",\"@{value}\"]]},\"id\":\"8489\",\"type\":\"HoverTool\"},{\"attributes\":{},\"id\":\"8634\",\"type\":\"Selection\"},{\"attributes\":{\"line_alpha\":0.2,\"line_color\":\"#8b8b8b\",\"line_width\":2,\"x\":{\"field\":\"timestamp\"},\"y\":{\"field\":\"value\"}},\"id\":\"8676\",\"type\":\"Line\"},{\"attributes\":{},\"id\":\"8929\",\"type\":\"CategoricalScale\"},{\"attributes\":{\"overlay\":{\"id\":\"8516\"}},\"id\":\"8514\",\"type\":\"BoxZoomTool\"},{\"attributes\":{\"line_color\":\"#30a2da\",\"line_width\":2,\"x\":{\"field\":\"timestamp\"},\"y\":{\"field\":\"value\"}},\"id\":\"8533\",\"type\":\"Line\"},{\"attributes\":{},\"id\":\"8966\",\"type\":\"BasicTickFormatter\"},{\"attributes\":{\"line_alpha\":0.1,\"line_color\":\"#30a2da\",\"line_width\":2,\"x\":{\"field\":\"timestamp\"},\"y\":{\"field\":\"value\"}},\"id\":\"8534\",\"type\":\"Line\"},{\"attributes\":{\"line_alpha\":0.2,\"line_color\":\"#6d904f\",\"line_width\":2,\"x\":{\"field\":\"timestamp\"},\"y\":{\"field\":\"value\"}},\"id\":\"8638\",\"type\":\"Line\"},{\"attributes\":{\"label\":{\"value\":\"AMD\"},\"renderers\":[{\"id\":\"8677\"}]},\"id\":\"8709\",\"type\":\"LegendItem\"},{\"attributes\":{\"label\":{\"value\":\"GME\"},\"renderers\":[{\"id\":\"8569\"}]},\"id\":\"8595\",\"type\":\"LegendItem\"},{\"attributes\":{\"end\":1652485500000.0,\"reset_end\":1652485500000.0,\"reset_start\":1652428800000.0,\"start\":1652428800000.0,\"tags\":[[[\"timestamp\",\"timestamp\",null]]]},\"id\":\"8487\",\"type\":\"Range1d\"}],\"root_ids\":[\"8485\"]},\"title\":\"Bokeh Application\",\"version\":\"2.4.1\"}};\n",
       "    var render_items = [{\"docid\":\"f6d6f092-0b4c-472d-a9f1-51b5a3291bbf\",\"root_ids\":[\"8485\"],\"roots\":{\"8485\":\"6149048d-0f0b-4a4e-b93c-33001c58d7e6\"}}];\n",
       "    root.Bokeh.embed.embed_items_notebook(docs_json, render_items);\n",
       "  }\n",
       "  if (root.Bokeh !== undefined && root.Bokeh.Panel !== undefined) {\n",
       "    embed_document(root);\n",
       "  } else {\n",
       "    var attempts = 0;\n",
       "    var timer = setInterval(function(root) {\n",
       "      if (root.Bokeh !== undefined && root.Bokeh.Panel !== undefined) {\n",
       "        clearInterval(timer);\n",
       "        embed_document(root);\n",
       "      } else if (document.readyState == \"complete\") {\n",
       "        attempts++;\n",
       "        if (attempts > 200) {\n",
       "          clearInterval(timer);\n",
       "          console.log(\"Bokeh: ERROR: Unable to run BokehJS code because BokehJS library is missing\");\n",
       "        }\n",
       "      }\n",
       "    }, 25, root)\n",
       "  }\n",
       "})(window);</script>"
      ],
      "text/plain": [
       ":Layout\n",
       "   .NdOverlay.I   :NdOverlay   [Variable]\n",
       "      :Curve   [timestamp]   (value)\n",
       "   .Bars.Mentions :Bars   [ticker]   (mentions)"
      ]
     },
     "execution_count": 73,
     "metadata": {
      "application/vnd.holoviews_exec.v0+json": {
       "id": "8485"
      }
     },
     "output_type": "execute_result"
    }
   ],
   "source": [
    "overlayplot"
   ]
  },
  {
   "cell_type": "code",
   "execution_count": null,
   "id": "c98e2a1f-2d07-427b-90ce-f44ee6ee2a48",
   "metadata": {},
   "outputs": [],
   "source": []
  }
 ],
 "metadata": {
  "kernelspec": {
   "display_name": "Python 3 (ipykernel)",
   "language": "python",
   "name": "python3"
  },
  "language_info": {
   "codemirror_mode": {
    "name": "ipython",
    "version": 3
   },
   "file_extension": ".py",
   "mimetype": "text/x-python",
   "name": "python",
   "nbconvert_exporter": "python",
   "pygments_lexer": "ipython3",
   "version": "3.7.11"
  }
 },
 "nbformat": 4,
 "nbformat_minor": 5
}
